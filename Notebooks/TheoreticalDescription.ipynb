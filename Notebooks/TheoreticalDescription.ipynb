{
 "cells": [
  {
   "cell_type": "code",
   "execution_count": 1,
   "metadata": {},
   "outputs": [
    {
     "name": "stderr",
     "output_type": "stream",
     "text": [
      "[NbConvertApp] Converting notebook Programs.ipynb to script\n",
      "[NbConvertApp] Writing 237066 bytes to Programs.py\n"
     ]
    }
   ],
   "source": [
    "!jupyter nbconvert --to script Programs.ipynb\n",
    "from Programs import *\n",
    "error_settings = np.seterr(all='ignore')"
   ]
  },
  {
   "cell_type": "markdown",
   "metadata": {},
   "source": [
    "# Theoretical background\n",
    "\n",
    "## Kinematic variables\n",
    "First some conventional scaling variables are defined, such as the conventional Bjorken scaling variable for scattering of the deuteron $x_d$\n",
    "\\begin{align}\n",
    "    x_d &\\equiv \\frac{-q^2}{2(p_dq)} \\\\\n",
    "    y &\\equiv \\frac{(p_dq)}{(p_dp_e)} \\equiv \\frac{Q^2}{x_d(s_{ed}-m_d^2)}\n",
    "\\end{align}\n",
    "where $s_{ed} = (p_e+p_d)^2$ is the square of the C.O.M. energy of the electron deuteron system and $m_d$ the deuteron mass. The effective Bjorken variable for scattering from a nucleon in the deuteron in the absence of nuclear binding is the rescaled variable\n",
    "\\begin{equation}\n",
    "    x = 2x_d\n",
    "\\end{equation}\n",
    "and q is the 4-momentum transfer between the initial and final electron, which can also be seen as the 4-momentum of the virtual photon that is exchanged\n",
    "\\begin{equation}\n",
    "    q = p_e - p_{e'} \\Rightarrow Q^2 = -q^2 > 0\n",
    "\\end{equation}\n",
    "2 new kinematic variable are also introduced, $\\gamma$ and the virtual photon polarization parameter $\\epsilon$\n",
    "\\begin{align}\n",
    "    \\gamma^2 &\\equiv \\frac{m_d^2Q^2}{(p_dq)^2} = \\frac{4x_dm_d^2}{Q^2} \\\\\n",
    "    \\epsilon &\\equiv \\frac{1-y-\\gamma^2y^2/4}{1-y+y^2/2+\\gamma^2y^2/4}\n",
    "\\end{align}\n",
    "\n",
    "## Cross section\n",
    "New invariant structure functions dependend on $x_d$ and $Q^2$, as well as on variables specifying the momentum of the final-state proton, are introduced\n",
    "\\begin{equation}\n",
    "    F_{[UU,T]d} \\equiv F_{[UU,T]d}(x,Q^2,{p_p})\n",
    "\\end{equation}\n",
    "We will use a notation to identify the structure functions corresponding to different electron, deuteron and virtual photon polarizations\n",
    "\\begin{equation}\n",
    "    F_{[electron-deuteron,photon]} =\\left\\{ \\begin{array}{l}\n",
    "    electron &= U,L\\\\\n",
    "    deuteron &= U,S_L,S_T,T_{LL},T_{LT},T_{TT}\\\\\n",
    "    photon &= L,T\n",
    "    \\end{array}\\right.\n",
    "\\end{equation}\n",
    "Where their relation to the traditional structure functions are given by\n",
    "\\begin{align}\n",
    "    F_{[UU,T]d} &= 2F_{1d} \\quad F_{[UU,L]d} = (1+\\gamma^2)\\frac{F_{2d}}{x_d} - 2F_{1d} \\\\\n",
    "    F_{[LS_{L}]d} &= 2(g_{1d}-\\gamma^2g_{2d}) \\quad F_{[LS_{T}]d} = -2\\gamma(g_{1d}+g_{2d})\n",
    "\\end{align}\n",
    "\n",
    "The differential cross section of polarized tagged DIS (given in Kinematic variables) then becomes\n",
    "\\begin{align}\n",
    "d\\sigma[ed \\rightarrow e'Xp] &=  \\frac{2\\pi\\alpha_{em}^2y^2}{Q^4(1-\\epsilon)}dx_ddQ^2\\frac{d\\phi_{e'}}{2\\pi}(F_{[U]d} + F_{[L]d})\\frac{1}{[2(2\\pi)^3]}\\frac{d^3p_p}{E_p} \\\\\n",
    "F_{[U]d} &= F_{[UU,T]d} + \\epsilon F_{[UU,L]d} + T_{LL}(F_{[UT_{LL},T]d} + \\epsilon F_{[UT_{LL},L]d}) \\\\\n",
    "&+ \\sqrt{2\\epsilon(1+\\epsilon)}S_{T}sin\\phi_SF_{[US_T]d} + \\sqrt{2\\epsilon(1+\\epsilon)}T_{LT}cos\\phi_{T_L} F_{[UT_{LT}]d} \\\\\n",
    "&+ \\epsilon T_{TT}cos2\\phi_{T_T}F_{[UT_{TT}]d} \\\\\n",
    "F_{[L]d} &= (2\\sigma_e) \\{\\sqrt{1-\\epsilon^2}S_L F_{[LS_L]d} + \\sqrt{2\\epsilon(1+\\epsilon)}S_Tcos\\phi_S F_{[LS_{T}]d} \\\\\n",
    "\t&+ \\sqrt{2\\epsilon(1+\\epsilon)}T_{LT}sin\\phi_{T_L} F_{[LT_{LT}]d}\\}\n",
    "\\end{align}\n",
    "With $F_{[U]d}$ the structure functions independent of the electron helicity (U) and $F_{[L]d}$ which are proportional to the electron helicity (L).\n",
    "\n",
    "## Collinear frame\n",
    "<figure>\n",
    "    <img src=\"figures/collinear_frame.png\" width =\"300\" />\n",
    "    <figcaption>fig: Tagged deuteron DIS in the collinear frame. The deuteron 3-momentum $\\mathbf{p}_d$ and the momentum transfer $\\mathbf{q}$ are collinear and define the z-axis (q points in the negative z-direction). The initial and final electron momenta, $\\mathbf{p}_e$ and $\\mathbf{p}_{e'}$, define the xz plane (both have positive x components). The deuteron vector polarization is described by the longitudinal (z-) spin $S_L$ and the transverse (xy-) spin vector $S_T$ (the azimuthal angle $\\phi_S$ is measured relative to the positive x axis). The\n",
    "proton recoil momentum $\\mathbf{p}_p$ has both longitudinal and transverse components (azimuthal angle $\\phi_p$).[1] </figcaption>\n",
    "</figure>\n",
    "\n",
    "Next we will introduce the light-front (LF) components of a classical 4 vector v in a collinear frame, a frame where the deuteron momentum $\\mathbf{p}_d$ and the momentum transfer $\\mathbf{q}$ are collinear and define the z-axis. The LF components are then given by\n",
    "\\begin{equation}\n",
    "    v^{\\pm} \\equiv v^0 \\pm v^z, \\quad \\mathbf{v}_T \\equiv (v^x,v^y)\n",
    "\\end{equation}\n",
    "and the following notation will be used\n",
    "\\begin{equation}\n",
    "    v = [v^+,v^-,\\mathbf{v}_T]\n",
    "\\end{equation}\n",
    "The LF components of the 4-momenta $p_d$ and q in the collinear frame are:\n",
    "\\begin{align}\n",
    "    p_d &= \\left[p_d^+,\\frac{M_d^2}{p_d^+}, \\mathbf{0}_T \\right] \\\\\n",
    "    q &= \\left[-\\xi_d p_d^+,\\frac{Q^2}{\\xi_d p_d^+}, \\mathbf{0}_T \\right]\n",
    "\\end{align}\n",
    "with $\\xi_d$ given by\n",
    "\\begin{equation}\n",
    "    \\xi_d = \\frac{2x_d}{1+\\sqrt{1+\\gamma^2}}\n",
    "\\end{equation}\n",
    "\n",
    "## Spectator momentum variables\n",
    "Using these definitions we can define the proton momentum LF components in the collinear frame as follows\n",
    "\\begin{equation}\n",
    "    \\alpha_p \\equiv \\frac{2p_p^+}{p_d^+}, \\quad \\mathbf{p}_{pT}\n",
    "\\end{equation}\n",
    "The fraction $\\alpha_p$ is boost-invariant and in the deuteron rest frame is given by\n",
    "\\begin{equation}\n",
    "\t\\alpha_p = \\frac{2(E_p+p_p^z)}{m_d} = 1 + \\frac{p_p^z}{m} + \\mathcal{O}\\bigg(\\frac{|\\mathbf{p}_p|^2}{m^2},\\frac{\\epsilon_d}{m}\\bigg)\n",
    "\\end{equation}\n",
    "Using these the proton and neutron 4-momenta in LF components becom\n",
    "\\begin{align}\n",
    "    p_p &= \\left[\\frac{\\alpha_p p_d^+}{2}, \\frac{2(|\\mathbf{p}_{pT}^2| + m^2)}{\\alpha_pp_d^+}, \\mathbf{p}_{pT} \\right] \\\\\n",
    "    p_n &= \\left[\\frac{(2-\\alpha_p)p_d^+}{2}, \\frac{2(|\\mathbf{p}_{pT}^2| + m^2)}{(2-\\alpha_p)p_d^+}, -\\mathbf{p}_{pT} \\right] \\\\\n",
    "    m^2 &= \\left(\\frac{p_p + p_n}{2}\\right)^2\n",
    "\\end{align}\n",
    "The total 4-momentum of the pn pair can also be defined using the same conventions\n",
    "\\begin{align}\n",
    "    P_{pn}   &\\equiv p_p + p_n = \\left[p_d^+, \\frac{M_{pn}^2}{p_d^+}, \\mathbf{0}_{T} \\right] \\\\\n",
    "    P_{pn}^2 &= M_{pn}^2 \\equiv \\frac{4(|\\mathbf{p}_{pT}^2| + m^2)}{\\alpha_p(2-\\alpha_p)}\n",
    "\\end{align}\n",
    "\n",
    "## Center-of-mass frame variables\n",
    "<figure>\n",
    "    <img src=\"figures/cm_frame_variables.png\" width =\"300\" />\n",
    "    <figcaption>fig: CM frame variables for the deutereron LF wave function. In a general collinear frame the wave function depends on the longitudinal and transverse momenta, $\\alpha_p$ and $p_{pT}$ (right). By a longitudinal boost any such frame is connected with the CM frame of the pn pair, in which the wave function depends on the 3-momentum $\\mathbf{k}$ and exhibits rotational symmetry (left).[1]</figcaption>\n",
    "</figure>\n",
    "\n",
    "The CM frame of a given pn configuration is defined as the frame where the proton and neutron have opposite 3-momenta. This frame is a member of the collinear frames and can be reached from any other collinear frame y a longitudinal boos (seef fig. 8). To show this we look at $p_d^+$ which has, in the CM frame, the value of\n",
    "\\begin{equation}\n",
    "    p_d^+[CM] = M_{pn}\n",
    "\\end{equation}\n",
    "So that the 4-momentum of the pn configuration in this collinear frame is given by\n",
    "\\begin{equation}\n",
    "    P_{pn}[CM] = \\left[M_{pn}, M_{pn}, \\mathbf{0}_{T} \\right] \n",
    "\\end{equation}\n",
    "and thus the ordinary components are\n",
    "\\begin{equation}\n",
    "    P_{pn}[CM] = \\left(M_{pn}, \\mathbf{0} \\right)\n",
    "\\end{equation}\n",
    "The individual proton and neutron 4-momenta have LF components\n",
    "\\begin{align}\n",
    "    p_{p}[CM] &= \\left[\\frac{\\alpha_p M_{pn}}{2}, \\frac{(2-\\alpha_p)M_{pn}}{2}, \\mathbf{p}_{pT} \\right] \\\\\n",
    "    p_{n}[CM] &= \\left[\\frac{(2-\\alpha_p) M_{pn}}{2}, \\frac{\\alpha_p M_{pn}}{2}, -\\mathbf{p}_{pT} \\right]\n",
    "\\end{align}\n",
    "and since they have the same energy and opposite 3-momenta their ordinary 4-momenta components can be expressed as\n",
    "\\begin{align}\n",
    "    p_{p}[CM] &= \\left(E, \\mathbf{k} \\right) \\\\\n",
    "    p_{n}[CM] &= \\left(E, -\\mathbf{k} \\right) \\\\\n",
    "    E &\\equiv E(\\mathbf{k}) \\equiv \\sqrt{|\\mathbf{k}|^2 + m^2}\n",
    "\\end{align}\n",
    "The relation between the CM momentum $\\mathbf{k}$ and the LF variables $\\alpha_p$ and $\\mathbf{p}_{pT}$ is\n",
    "\\begin{align}\n",
    "    k^z &= \\frac{p_p^+ - p_p^-}{2} = \\frac{M_{pn}}{2}(\\alpha_p -1), \\quad \\mathbf{k}_T = \\mathbf{p}_{pt}, \\quad |\\mathbf{k}|^2 = |\\mathbf{k}_T|^2 + |k^z|^2 = \\frac{M_{pn}^2}{4} -m^2 \\\\\n",
    "    \\alpha_p &= 1 + \\frac{k^z}{E}, \\quad M_{pn} = 2E \\\\\n",
    "    E \\equiv E(\\mathbf{k}) &\\equiv \\sqrt{|\\mathbf{k}|^2 + m^2}\n",
    "\\end{align}\n",
    "\n",
    "Now in the CM frame the pn LF wave function can be formulated as a 3-dimensional relativistic wave function in the 3-momentum variable $\\mathbf{k}$. It is constructed using angular momentum wave functions (S and D waves), canonical nucleon spinors and the Melosh rotations mediating the transition from canonical spin to LF helicity. The dynamical information is contained ni the radial wave functions of the S- and D-waves\n",
    "\\begin{equation}\n",
    "    U(k), W(k) \\quad [k \\equiv |k|]\n",
    "\\end{equation}\n",
    "which are normalized such that\n",
    "\\begin{equation}\n",
    "    4\\pi \\int \\frac{dk k^2}{E(k)}\\left[U^2(k) + W^2(k)\\right] = 1\n",
    "\\end{equation}\n",
    "A nonrelativistic approximation to the deuteron LF wave functions can be constructed from the nonrelativistic wave function obtained with an effective nonrelativistic NN interaction. The nonrelativistic nuclear theory of NN interactions is more extensive and is adequate for nucleon rest-frame momenta $|\\mathbf{p}_p| \\lesssim 300 MeV$ and is used in this study. In the nonrelativistic limit $k^2 \\ll m^2$, the relativistic radial wave functions in the CM frame approach the nonrelativistic radial wave function,\n",
    "\\begin{equation}\n",
    "    U(k) \\rightarrow \\sqrt{m}U_{nr}(k) \\quad (k^2 \\ll m^2, \\text{same for W})\n",
    "\\end{equation}\n",
    "The factor $\\sqrt{m}$ results from the normalization convention for the nonrelativistic radial functions which is different than the relativistic one\n",
    "\\begin{equation}\n",
    "    4\\pi \\int dk k^2\\left[U_{nr}^2(k) + W_{nr}^2(k)\\right] = 1\n",
    "\\end{equation}\n",
    "A nonrelativistic approximation to the relativistic radial functions is provided by\n",
    "\\begin{equation}\n",
    "    U(k) = \\sqrt{E(k)} U_{nr} \\quad (\\text{same for W})\n",
    "\\end{equation}"
   ]
  },
  {
   "cell_type": "code",
   "execution_count": 2,
   "metadata": {},
   "outputs": [
    {
     "data": {
      "application/vnd.jupyter.widget-view+json": {
       "model_id": "71803bd529584a28bdc875503403dd60",
       "version_major": 2,
       "version_minor": 0
      },
      "text/plain": [
       "HTMLMath(value='<center><b><h1>Momentum density</h1></b></center>\\n    <hr>\\n    <figure style=\"float: right;\"…"
      ]
     },
     "metadata": {},
     "output_type": "display_data"
    },
    {
     "data": {
      "application/vnd.jupyter.widget-view+json": {
       "model_id": "42866dabe29549378b3fab304d098215",
       "version_major": 2,
       "version_minor": 0
      },
      "text/plain": [
       "HBox(children=(Text(value='0', description='$k_{min} (MeV)$', layout=Layout(width='480px'), placeholder='minim…"
      ]
     },
     "metadata": {},
     "output_type": "display_data"
    },
    {
     "data": {
      "application/vnd.jupyter.widget-view+json": {
       "model_id": "28ff3205df1d4ec3a8cf1559fd2c399d",
       "version_major": 2,
       "version_minor": 0
      },
      "text/plain": [
       "HBox(children=(Text(value='1', description='$\\\\Delta k (MeV)$', layout=Layout(width='480px'), placeholder='mom…"
      ]
     },
     "metadata": {},
     "output_type": "display_data"
    },
    {
     "data": {
      "application/vnd.jupyter.widget-view+json": {
       "model_id": "9cf9a53f9ec1436598ef0d47e54da38f",
       "version_major": 2,
       "version_minor": 0
      },
      "text/plain": [
       "HBox(children=(Checkbox(value=True, description='logaritmic y axis', layout=Layout(width='480px'), style=Descr…"
      ]
     },
     "metadata": {},
     "output_type": "display_data"
    },
    {
     "data": {
      "application/vnd.jupyter.widget-view+json": {
       "model_id": "4fb4bc75bc75452a8a08f8bf64acab5c",
       "version_major": 2,
       "version_minor": 0
      },
      "text/plain": [
       "Button(description='Make momentum density figure', icon='check', layout=Layout(width='initial'), style=ButtonS…"
      ]
     },
     "metadata": {},
     "output_type": "display_data"
    },
    {
     "data": {
      "application/vnd.jupyter.widget-view+json": {
       "model_id": "d0f469c8205e4c7d9b0d6e6db37a3156",
       "version_major": 2,
       "version_minor": 0
      },
      "text/plain": [
       "Output()"
      ]
     },
     "metadata": {},
     "output_type": "display_data"
    }
   ],
   "source": [
    "out=Output()\n",
    "make_figure_momentum_density(out)\n",
    "out"
   ]
  },
  {
   "cell_type": "markdown",
   "metadata": {},
   "source": [
    "## Nucleon operators\n",
    "The expectation value for a generic nucleon one-body operator coupling to the neutron, $O_n$,  in a polarized deuteron ensemble is given as a bispinor trace \n",
    "\\begin{equation}\n",
    "\\langle O_n \\rangle = \\int \\frac{d\\alpha_p}{\\alpha_p}d^2p_{pT}\\frac{2Tr[\\Pi_d\\Gamma_n]}{(2-\\alpha_p)^2}\n",
    "\\label{eq:deut_exp}\n",
    "\\end{equation}\n",
    "where the bispinor matrix $\\Gamma_n$ is specific to the operator and $\\Pi_d$ is a matrix in bispinor indices and represents the effective neutron spin density matrix in the deuteron for a given proton LF momentum $\\alpha_p$ and $\\mathbf{p}_{pT}$. This effective neutron spin density matrix has contributions from unpolarized, vector-polarized and tensor-polarized parts\n",
    "\\begin{equation}\n",
    "\\Pi_d = \\Pi_d[\\text{unpol}] + \\Pi_d[\\text{vector}] + \\Pi_d[\\text{tensor}]\n",
    "\\end{equation}\n",
    "Which are given by\n",
    "\\begin{align}\n",
    "\\Pi_d[\\text{unpol}] &= \\frac{1}{2}(\\hat{p}_n + m)(U^2+W^2)\\\\\n",
    "\\Pi_d[\\text{vector}] &= \\frac{1}{2}(\\hat{p}_n + m)\\hat{a}_n\\gamma_5 \\\\\n",
    "\\Pi_d[\\text{tensor}] &= -\\frac{1}{2}(\\hat{p}_n + m)(\\textbf{k}T_d\\textbf{k})\\frac{3}{k^2}\\left(2U+\\frac {W}{\\sqrt{2}}\\right)\\frac{W}{\\sqrt{2}}\n",
    "\\end{align}\n",
    "with $a_n$ the effective polarization 4-vector of the neutron in the deuteron and $T_d$ the 3-dimensional deuteron polarization tensor in the deuteron rest frame.\n",
    "\n",
    "## Neutron light-front momentum distributions\n",
    "Using equations derived in Nucleon operators, the expectation value of the isoscalar vector current in a deuteron ensemble can be given by\n",
    "\\begin{equation}\n",
    "\\langle J_V^+ \\rangle = g_{VN}\\int\\frac{d\\alpha_p}{\\alpha_p}d^2p_{pT}\\frac{2Tr[\\Pi_d\\gamma^+]}{(2-\\alpha_p)^2} = p_d^+g_{Vd}\n",
    "\\end{equation}\n",
    "We identify the function\n",
    "\\begin{equation}\n",
    "    f_d(\\alpha_p,\\mathbf{p}_{pT}) \\equiv \\frac{Tr[\\Pi_d\\gamma^+]}{(2-\\alpha_p)^2p_d^+}\n",
    "\\end{equation}\n",
    "as the helicity-independent LF momentum distribution of neutrons in the deuteron ensemble. The trace in the equation has contributions from both the unpolarized and tensor-polarized parts of the neuteron density matrix described above. \n",
    "\\begin{equation}\n",
    "    f_d = f_d[unpol] + f_d[tensor]\n",
    "\\end{equation}\n",
    "we find for the unpolarized contribution\n",
    "\\begin{equation}\n",
    "    f_d(\\alpha_p,\\mathbf{p}_{pT})[unpol] = \\frac{U^2 + W^2}{2-\\alpha_p}\n",
    "\\end{equation}\n",
    "and for the tensor polarized contribution\n",
    "\\begin{align}\n",
    "    f_d(\\alpha_p,\\mathbf{p}_{pT})[tensor] &= -\\frac{3}{2-\\alpha_p}\\frac{\\mathbf{k}T_d\\mathbf{k}}{k^2}\\left( 2U + \\frac{W}{\\sqrt{2}}\\right)\\frac{W}{\\sqrt{2}} \\\\\n",
    "    &= -\\frac{1}{2-\\alpha_p}\\left(1-\\frac{3|k_T|^2}{2k^2}\\right)\\left( 2U + \\frac{W}{\\sqrt{2}}\\right)\\frac{W}{\\sqrt{2}}\n",
    "\\end{align}\n",
    "\n",
    "Using the isoscalar vector current in the deuteron ensemble, we can define analogously the helicity-dependent LF momentum distribution of neutrons in the deuteron ensemble as\n",
    "\\begin{equation}\n",
    "    \\Delta f_d(\\alpha_p,\\mathbf{p}_{pT}) \\equiv \\frac{Tr[\\Pi_d(-\\gamma^+\\gamma_5)]}{(2-\\alpha_p)^2p_d^+}\n",
    "\\end{equation}\n",
    "which has only contributions from the vector polarized part of the neutron density matrix\n",
    "\\begin{equation}\n",
    "    \\Delta f_d \\equiv \\Delta f_d[vector]\n",
    "\\end{equation}\n",
    "given by\n",
    "\\begin{align}\n",
    "    \\Delta f_d(\\alpha_p,\\mathbf{p}_{pT})[\\text{pure +1}] &= \\Delta f_d(\\alpha_p,\\mathbf{p}_{pT})[\\text{vector}] 1= \\frac{1}{2-\\alpha_p}\\left(U-\\frac{W}{\\sqrt{2}}\\right)\\left(U R_U - \\frac{WR_W}{\\sqrt{2}}\\right) \\\\\n",
    "    R_U &= 1-\\frac{(E+k^z)|\\mathbf{k}_T|^2}{(E+m)(m^2+|\\mathbf{k}_T|^2)} \\\\\n",
    "    R_W &= 1-\\frac{(E+2m)(E+k^z)|\\mathbf{k}_T|^2}{(m^2+|\\mathbf{k}_T|^2)|\\mathbf{k}|^2} \\\\\n",
    "\\end{align}"
   ]
  },
  {
   "cell_type": "code",
   "execution_count": 3,
   "metadata": {},
   "outputs": [
    {
     "data": {
      "application/vnd.jupyter.widget-view+json": {
       "model_id": "28322334f7294f8daba59cb8f2b44ac3",
       "version_major": 2,
       "version_minor": 0
      },
      "text/plain": [
       "HTMLMath(value='<center><b><h1>Helicity independent unpolarised momentum distribution</h1></b>\\n    </center>\\…"
      ]
     },
     "metadata": {},
     "output_type": "display_data"
    },
    {
     "data": {
      "application/vnd.jupyter.widget-view+json": {
       "model_id": "af58520479764808ab74fff8dfba765b",
       "version_major": 2,
       "version_minor": 0
      },
      "text/plain": [
       "HBox(children=(Text(value='0.6', description='$\\\\alpha_{p}$ lower bound', layout=Layout(width='480px'), placeh…"
      ]
     },
     "metadata": {},
     "output_type": "display_data"
    },
    {
     "data": {
      "application/vnd.jupyter.widget-view+json": {
       "model_id": "240b45add8e44533823ef5ea71d263e9",
       "version_major": 2,
       "version_minor": 0
      },
      "text/plain": [
       "Text(value='0.001', description='$\\\\Delta \\\\alpha_p$', layout=Layout(width='480px'), placeholder='proton momen…"
      ]
     },
     "metadata": {},
     "output_type": "display_data"
    },
    {
     "data": {
      "application/vnd.jupyter.widget-view+json": {
       "model_id": "245b74ed992f465da30f59a4cd8ef6b0",
       "version_major": 2,
       "version_minor": 0
      },
      "text/plain": [
       "HBox(children=(Text(value='0,100,200,300,400', description='$p_{pt} (MeV)$', layout=Layout(width='480px'), pla…"
      ]
     },
     "metadata": {},
     "output_type": "display_data"
    },
    {
     "data": {
      "application/vnd.jupyter.widget-view+json": {
       "model_id": "b954c43fc0f84a668202bc2c6c7cb363",
       "version_major": 2,
       "version_minor": 0
      },
      "text/plain": [
       "HBox(children=(Checkbox(value=False, description='logaritmic y axis', layout=Layout(width='480px'), style=Desc…"
      ]
     },
     "metadata": {},
     "output_type": "display_data"
    },
    {
     "data": {
      "application/vnd.jupyter.widget-view+json": {
       "model_id": "6dbc0c086fe74388a87e80d7bda006c2",
       "version_major": 2,
       "version_minor": 0
      },
      "text/plain": [
       "Button(description='Make fd[unpol] figure', icon='check', layout=Layout(width='initial'), style=ButtonStyle(),…"
      ]
     },
     "metadata": {},
     "output_type": "display_data"
    },
    {
     "data": {
      "application/vnd.jupyter.widget-view+json": {
       "model_id": "9e2d62f2515e468ab745e87c3df9988e",
       "version_major": 2,
       "version_minor": 0
      },
      "text/plain": [
       "Output()"
      ]
     },
     "metadata": {},
     "output_type": "display_data"
    }
   ],
   "source": [
    "out=Output()\n",
    "make_figure_fd_unpol(out)\n",
    "out"
   ]
  },
  {
   "cell_type": "code",
   "execution_count": 4,
   "metadata": {},
   "outputs": [
    {
     "data": {
      "application/vnd.jupyter.widget-view+json": {
       "model_id": "0209ebee50e14294bd1ccbfe5a1501fd",
       "version_major": 2,
       "version_minor": 0
      },
      "text/plain": [
       "HTMLMath(value='<center><b><h1>Helicity independent tensor polarized momentum distribution</h1>\\n    </b></cen…"
      ]
     },
     "metadata": {},
     "output_type": "display_data"
    },
    {
     "data": {
      "application/vnd.jupyter.widget-view+json": {
       "model_id": "3d1aa3e92db64fea963c1b869ff787db",
       "version_major": 2,
       "version_minor": 0
      },
      "text/plain": [
       "HBox(children=(Text(value='0.6', description='$\\\\alpha_{p}$ lower bound', layout=Layout(width='480px'), placeh…"
      ]
     },
     "metadata": {},
     "output_type": "display_data"
    },
    {
     "data": {
      "application/vnd.jupyter.widget-view+json": {
       "model_id": "6814c50478034d9f801d247e56bc6db7",
       "version_major": 2,
       "version_minor": 0
      },
      "text/plain": [
       "Text(value='0.001', description='$\\\\Delta \\\\alpha_p$', layout=Layout(width='480px'), placeholder='proton momen…"
      ]
     },
     "metadata": {},
     "output_type": "display_data"
    },
    {
     "data": {
      "application/vnd.jupyter.widget-view+json": {
       "model_id": "30f6babd7d534bbfa47ca5bd34431cd5",
       "version_major": 2,
       "version_minor": 0
      },
      "text/plain": [
       "HBox(children=(Text(value='0,100,200,300,400', description='$p_{pt} (MeV)$', layout=Layout(width='480px'), pla…"
      ]
     },
     "metadata": {},
     "output_type": "display_data"
    },
    {
     "data": {
      "application/vnd.jupyter.widget-view+json": {
       "model_id": "bd2f1c143be642b790f3e5fb1905ce82",
       "version_major": 2,
       "version_minor": 0
      },
      "text/plain": [
       "HBox(children=(Checkbox(value=False, description='logaritmic y axis', layout=Layout(width='480px'), style=Desc…"
      ]
     },
     "metadata": {},
     "output_type": "display_data"
    },
    {
     "data": {
      "application/vnd.jupyter.widget-view+json": {
       "model_id": "c2e27403c2f04bc5a85871bc6c6cd7ae",
       "version_major": 2,
       "version_minor": 0
      },
      "text/plain": [
       "Button(description='Make fd[tensor] figure', icon='check', layout=Layout(width='initial'), style=ButtonStyle()…"
      ]
     },
     "metadata": {},
     "output_type": "display_data"
    },
    {
     "data": {
      "application/vnd.jupyter.widget-view+json": {
       "model_id": "6b5c7230bfc840678005057f4f4a642e",
       "version_major": 2,
       "version_minor": 0
      },
      "text/plain": [
       "Output()"
      ]
     },
     "metadata": {},
     "output_type": "display_data"
    }
   ],
   "source": [
    "out=Output()\n",
    "make_figure_fd_tensor(out)\n",
    "out"
   ]
  },
  {
   "cell_type": "code",
   "execution_count": 5,
   "metadata": {},
   "outputs": [
    {
     "data": {
      "application/vnd.jupyter.widget-view+json": {
       "model_id": "d3c208fd09d744e8be28ea71b070a4ff",
       "version_major": 2,
       "version_minor": 0
      },
      "text/plain": [
       "HTMLMath(value='<center><b><h1>Helicity dependent vector polarized momentum distribution</h1>\\n    </b></cente…"
      ]
     },
     "metadata": {},
     "output_type": "display_data"
    },
    {
     "data": {
      "application/vnd.jupyter.widget-view+json": {
       "model_id": "873e9928af114095a8cc3e638b139d89",
       "version_major": 2,
       "version_minor": 0
      },
      "text/plain": [
       "HBox(children=(Text(value='0.6', description='$\\\\alpha_{p}$ lower bound', layout=Layout(width='480px'), placeh…"
      ]
     },
     "metadata": {},
     "output_type": "display_data"
    },
    {
     "data": {
      "application/vnd.jupyter.widget-view+json": {
       "model_id": "f763edaab0e14333a5f91b887f02ff7b",
       "version_major": 2,
       "version_minor": 0
      },
      "text/plain": [
       "Text(value='0.001', description='$\\\\Delta \\\\alpha_p$', layout=Layout(width='480px'), placeholder='proton momen…"
      ]
     },
     "metadata": {},
     "output_type": "display_data"
    },
    {
     "data": {
      "application/vnd.jupyter.widget-view+json": {
       "model_id": "7d1a8a89775244fbb3cdba6bd7e356a6",
       "version_major": 2,
       "version_minor": 0
      },
      "text/plain": [
       "HBox(children=(Text(value='0,100,200,300,400', description='$p_{pt} (MeV)$', layout=Layout(width='480px'), pla…"
      ]
     },
     "metadata": {},
     "output_type": "display_data"
    },
    {
     "data": {
      "application/vnd.jupyter.widget-view+json": {
       "model_id": "45674c7c85c2441e8212cdbe92e6f362",
       "version_major": 2,
       "version_minor": 0
      },
      "text/plain": [
       "HBox(children=(Checkbox(value=False, description='logaritmic y axis', layout=Layout(width='480px'), style=Desc…"
      ]
     },
     "metadata": {},
     "output_type": "display_data"
    },
    {
     "data": {
      "application/vnd.jupyter.widget-view+json": {
       "model_id": "eded67ae0f6b49259c1db7898ebc34a0",
       "version_major": 2,
       "version_minor": 0
      },
      "text/plain": [
       "Button(description='Make fd[vector] figure', icon='check', layout=Layout(width='initial'), style=ButtonStyle()…"
      ]
     },
     "metadata": {},
     "output_type": "display_data"
    },
    {
     "data": {
      "application/vnd.jupyter.widget-view+json": {
       "model_id": "3264cf3dd6ea432498ae5a19aed4de9f",
       "version_major": 2,
       "version_minor": 0
      },
      "text/plain": [
       "Output()"
      ]
     },
     "metadata": {},
     "output_type": "display_data"
    }
   ],
   "source": [
    "out=Output()\n",
    "make_figure_fd_vector(out)\n",
    "out"
   ]
  },
  {
   "cell_type": "markdown",
   "metadata": {},
   "source": [
    "## Kinematic variables\n",
    "We have defined several different kinematic variables, $p_p^z$, $k$, $k^z$, $\\mathbf{k}_T$, $\\mathbf{p}_{pT}$ and $\\alpha_p$, which are connected to each other via the following equations\n",
    "\\begin{align}\n",
    "\tp_p^z &= (\\alpha_p-1)m \\\\\n",
    "\tk^z &= \\sqrt{\\frac{\\mathbf{p}_{pT}^2 + m^2}{\\alpha_p(2-\\alpha_p)}}(\\alpha_p-1)\\\\\n",
    "\t\\mathbf{k}_T &= \\mathbf{p}_{pT} \\\\ \n",
    "\tk &= \\sqrt{\\mathbf{k}^2} = \\sqrt{\\frac{\\mathbf{p}_{pT}^2 + m^2}{\\alpha_p(2-\\alpha_p)} -m^2}\\\\\n",
    "    \\alpha_p &= 1 + \\frac{p_p^z}{m} \\\\\n",
    "    \\alpha_p &= 1 + \\frac{k^z}{\\sqrt{k^2 + m^2}} = 1 + \\frac{k^z}{\\sqrt{(k^z)^2 + p_{pT}^2 + m^2}}\n",
    "\\end{align}\n",
    "One last variable can be defined, called the invariant momentum transfer between the deuteron and the proton which is defined as \n",
    "\\begin{equation}\n",
    "t \\equiv (p_d - p_p)^2 \\quad t' \\equiv t-m^2\n",
    "\\end{equation}\n",
    "which is related to the proton transverse momentum $|\\mathbf{p}_{pT}|$ as\n",
    "\\begin{equation}\n",
    "t' = \\frac{\\alpha_p(2-\\alpha_p)m_d^2-4m^2} {2\\alpha_p} - \\frac{2|\\mathbf{p}_{pT}|^2} {\\alpha_p}\n",
    "\\end{equation}\n",
    "Here we show some countour plots of the kinematic variables as function of each other\n",
    "<table>\n",
    "    <tr><td>\n",
    "        <img src=\"figures/alpha_ppt_k.png\" width = \"300\" ></td><td>\n",
    "        <img src=\"figures/alpha_ppt_t.png\" width = \"300\" ></td><td>\n",
    "        <img src=\"figures/kz_k_t.png\" width = \"300\" ></td></tr>\n",
    "    <tr><td>\n",
    "        <img src=\"figures/kz_k_ppt.png\" width = \"300\" ></td><td>\n",
    "        <img src=\"figures/kz_ppt_t.png\" width = \"300\" ></td><td>\n",
    "        <img src=\"figures/pz_pt_t.png\" width = \"300\" ></td></tr>\n",
    "</table>"
   ]
  },
  {
   "cell_type": "markdown",
   "metadata": {},
   "source": [
    "## Bibliography\n",
    "[1] W. Cosyn and C. Weiss. \"Polarized electron-deuteron deep-inelastic scattering with spectator nucleon tagging\"."
   ]
  },
  {
   "cell_type": "code",
   "execution_count": null,
   "metadata": {},
   "outputs": [],
   "source": []
  }
 ],
 "metadata": {
  "kernelspec": {
   "display_name": "Python 3",
   "language": "python",
   "name": "python3"
  },
  "language_info": {
   "codemirror_mode": {
    "name": "ipython",
    "version": 3
   },
   "file_extension": ".py",
   "mimetype": "text/x-python",
   "name": "python",
   "nbconvert_exporter": "python",
   "pygments_lexer": "ipython3",
   "version": "3.7.6"
  }
 },
 "nbformat": 4,
 "nbformat_minor": 4
}
