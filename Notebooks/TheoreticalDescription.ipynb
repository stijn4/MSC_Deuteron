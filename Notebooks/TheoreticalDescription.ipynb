{
 "cells": [
  {
   "cell_type": "code",
   "execution_count": 1,
   "metadata": {},
   "outputs": [
    {
     "name": "stderr",
     "output_type": "stream",
     "text": [
      "[NbConvertApp] Converting notebook Programs.ipynb to script\n",
      "[NbConvertApp] Writing 272521 bytes to Programs.py\n"
     ]
    },
    {
     "data": {
      "application/javascript": [
       "\n",
       "IPython.OutputArea.prototype._should_scroll = function(lines) {\n",
       "    return false;\n",
       "}\n"
      ],
      "text/plain": [
       "<IPython.core.display.Javascript object>"
      ]
     },
     "metadata": {},
     "output_type": "display_data"
    }
   ],
   "source": [
    "!jupyter nbconvert --to script Programs.ipynb\n",
    "from Programs import *\n",
    "error_settings = np.seterr(all='ignore')"
   ]
  },
  {
   "cell_type": "markdown",
   "metadata": {},
   "source": [
    "# Theoretical background\n",
    "## Collinear frame\n",
    "<figure style=\"border: 1px solid #000; display: inline-block;padding:20px;margin:20px\">\n",
    "    <img src=\"figures/collinear_frame.png\" width =\"300\" />\n",
    "    <figcaption style=\"text-align:center\">Figure: Tagged deuteron DIS in the collinear frame. The deuteron 3-momentum $\\mathbf{p}_d$ and the momentum transfer $\\mathbf{q}$ are collinear and define the z-axis (q points in the negative z-direction). The initial and final electron momenta, $\\mathbf{p}_e$ and $\\mathbf{p}_{e'}$, define the xz plane (both have positive x components). The deuteron vector polarization is described by the longitudinal (z-) spin $S_L$ and the transverse (xy-) spin vector $S_T$ (the azimuthal angle $\\phi_S$ is measured relative to the positive x axis). The\n",
    "proton recoil momentum $\\mathbf{p}_p$ has both longitudinal and transverse components (azimuthal angle $\\phi_p$).[1] </figcaption>\n",
    "</figure>\n",
    "\n",
    "For the purpose here the experimental setup that will be used consists of a polarized electron and a polarized deuteron where the final state nucleon that will be detected is a proton. A deuteron is the core of deuterium or heavy water ($^2H$) and exist of a proton and neutron that are bound in a stable ensemble with charge +1e. The scattering between the electron and deuteron is mediated by a virtual photon, to describe the particles involved a choice of frame has to be made. A collinear frame will be used here, this can be seen in the above figure, where the z-axis is defined as the axis where the deuteron momentum $\\mathbf{p}_d$ and the momentum transfer or virtual photon $\\mathbf{q}$ are collinear. The classical four-momentum of the deuteron is given by\n",
    "\\begin{equation}\n",
    "\tp_d = (E_d,0,0,p_d^z).\n",
    "\\end{equation}\n",
    "\n",
    "Using the four-vectors of the deuteron and the incoming and outgoing electron a handfull of kinematic variabls can be defined such as the momentum transfer $q^2$, the conventional Bjorken scaling variable for scattering of the deuteron $x_d$, $y$ and $\\gamma^2$. They are given by\n",
    "\\begin{align}\n",
    "    q &= p_e - p_{e'} \\Rightarrow Q^2 = -q^2 > 0, \\\\\n",
    "    x_d &\\equiv \\frac{-q^2}{2(p_dq)}, \\\\\n",
    "    y &\\equiv \\frac{(p_dq)}{(p_dp_e)} \\equiv \\frac{Q^2}{x_d(s_{ed}-m_d^2)}, \\\\\n",
    "    \\gamma^2 &\\equiv \\frac{m_d^2Q^2}{(p_dq)^2} = \\frac{4x_dm_d^2}{Q^2},\n",
    "\\end{align}\n",
    "where $s_{ed} = (p_e+p_d)^2$ is the square of the C.O.M. energy of the electron deuteron system and $m_d$ the deuteron mass. \n",
    "\n",
    "Introducing the light-front (LF) components of a classical 4 vector v in a collinear frame gives\n",
    "\\begin{equation}\n",
    "    v^{\\pm} \\equiv v^0 \\pm v^z, \\quad \\mathbf{v}_T \\equiv (v^x,v^y),\n",
    "\\end{equation}\n",
    "with the following notation for a four-vector in LF components\n",
    "\\begin{equation}\n",
    "    v = [v^+,v^-,\\mathbf{v}_T].\n",
    "\\end{equation}\n",
    "The LF components of the 4-momenta $p_d$ and q in the collinear frame are:\n",
    "\\begin{align}\n",
    "    p_d &= \\left[p_d^+,\\frac{M_d^2}{p_d^+}, \\mathbf{0}_T \\right], \\\\\n",
    "    q &= \\left[-\\xi_d p_d^+,\\frac{Q^2}{\\xi_d p_d^+}, \\mathbf{0}_T \\right],\n",
    "\\end{align}\n",
    "with $\\xi_d$ given by\n",
    "\\begin{equation}\n",
    "    \\xi_d = \\frac{2x_d}{1+\\sqrt{1+\\gamma^2}}.\n",
    "\\end{equation}\n",
    "\n",
    "## Spectator momentum variables\n",
    "Using these definitions the proton momentum LF components in the collinear frame can be defined as follows\n",
    "\\begin{equation}\n",
    "    \\alpha_p \\equiv \\frac{2p_p^+}{p_d^+}, \\quad \\mathbf{p}_{pT}.\n",
    "\\end{equation}\n",
    "The fraction $\\alpha_p$ is boost-invariant and in the deuteron rest frame is given by\n",
    "\\begin{equation}\n",
    "\t\\alpha_p = \\frac{2(E_p+p_p^z)}{m_d} = 1 + \\frac{p_p^z}{m} + \\mathcal{O}\\bigg(\\frac{|\\mathbf{p}_p|^2}{m^2}\\frac{\\epsilon_d}{m}\\bigg).\n",
    "\\end{equation}\n",
    "The proton and neutron 4-momenta in LF components become\n",
    "\\begin{align}\n",
    "    p_p &= \\left[\\frac{\\alpha_p p_d^+}{2}, \\frac{2(|\\mathbf{p}_{pT}^2| + m^2)}{\\alpha_pp_d^+}, \\mathbf{p}_{pT} \\right], \\\\\n",
    "    p_n &= \\left[\\frac{(2-\\alpha_p)p_d^+}{2}, \\frac{2(|\\mathbf{p}_{pT}^2| + m^2)}{(2-\\alpha_p)p_d^+}, -\\mathbf{p}_{pT} \\right], \\\\\n",
    "    m^2 &= \\left(\\frac{p_p + p_n}{2}\\right)^2.\n",
    "\\end{align}\n",
    "The proton and neutron masses used here are on-shell, this is the result of the employment of light-front quantum mechanics where all masses of the intermediary particles are on-shell. This has the result that there is no conservation of the minus component, this will be demonstrated later. LF quantum mechanics are used in order to expand the deuteron state in pn states, the deuteron LF wave functions can be writen as a contraction between, among others, the proton and neuteron LF bispinors. The total 4-momentum of the pn pair and its invariant mass can be defined using the same conventions\n",
    "\\begin{align}\n",
    "    P_{pn}   &\\equiv p_p + p_n = \\left[p_d^+, \\frac{M_{pn}^2}{p_d^+}, \\mathbf{0}_{T} \\right], \\\\\n",
    "    P_{pn}^2 &= M_{pn}^2 \\equiv \\frac{4(|\\mathbf{p}_{pT}^2| + m^2)}{\\alpha_p(2-\\alpha_p)}.\n",
    "\\end{align}\n",
    "It can be clearly seen that the plus and the transverse 4-momentum coomponents (LF momenta) of the pn pair are the same as those of the external deuteron state\n",
    "\\begin{equation}\n",
    "    P_{pn}^+ = p_d^+, \\quad \\mathbf{P}_{pn,T} = \\mathbf{p}_{d,T} (=0).\n",
    "\\end{equation}\n",
    "The minus component (LF energy) however is different, a result of the use of LF QM\n",
    "\\begin{equation}\n",
    "P_{pn}^- \\neq p_d^-,\n",
    "\\end{equation}\n",
    "another consequence is the difference between the mass of the pn pair and the deuteron\n",
    "\\begin{equation}\n",
    "M_{pn}^2 \\neq M_d^2.\n",
    "\\end{equation}\n",
    "\n",
    "## Center-of-mass frame variables\n",
    "<figure style=\"border: 1px solid #000; display: inline-block;padding:20px;margin:20px\">\n",
    "    <img src=\"figures/cm_frame_variables.png\" width =\"300\" />\n",
    "    <figcaption style=\"text-align:center\">Figure: CM frame variables for the deutereron LF wave function. In a general collinear frame the wave function depends on the longitudinal and transverse momenta, $\\alpha_p$ and $p_{pT}$ (right). By a longitudinal boost any such frame is connected with the CM frame of the pn pair, in which the wave function depends on the 3-momentum $\\mathbf{k}$ and exhibits rotational symmetry (left).[1]</figcaption>\n",
    "</figure>\n",
    "\n",
    "The CM frame of a given pn configuration is defined as the frame where the proton and neutron have opposite 3-momenta. This frame is a member of the collinear frames and can be reached from any other collinear frame by a longitudinal boost (see the above figure). To show this we look at $p_d^+$ which has, in the CM frame, the value of\n",
    "\\begin{equation}\n",
    "    p_d^+[CM] = M_{pn}.\n",
    "\\end{equation}\n",
    "The 4-momentum of the pn configuration in this collinear frame is given by\n",
    "\\begin{equation}\n",
    "    P_{pn}[CM] = \\left[M_{pn}, M_{pn}, \\mathbf{0}_{T} \\right],\n",
    "\\end{equation}\n",
    "and the ordinary components are\n",
    "\\begin{equation}\n",
    "    P_{pn}[CM] = \\left(M_{pn}, \\mathbf{0} \\right).\n",
    "\\end{equation}\n",
    "The individual proton and neutron 4-momenta have LF components\n",
    "\\begin{align}\n",
    "    p_{p}[CM] &= \\left[\\frac{\\alpha_p M_{pn}}{2}, \\frac{(2-\\alpha_p)M_{pn}}{2}, \\mathbf{p}_{pT} \\right], \\\\\n",
    "    p_{n}[CM] &= \\left[\\frac{(2-\\alpha_p) M_{pn}}{2}, \\frac{\\alpha_p M_{pn}}{2}, -\\mathbf{p}_{pT} \\right],\n",
    "\\end{align}\n",
    "and since they have the same energy and opposite 3-momenta their ordinary 4-momenta components can be expressed as\n",
    "\\begin{align}\n",
    "    p_{p}[CM] &= \\left(E, \\mathbf{k} \\right), \\\\\n",
    "    p_{n}[CM] &= \\left(E, -\\mathbf{k} \\right), \\\\\n",
    "    E &\\equiv E(\\mathbf{k}) \\equiv \\sqrt{|\\mathbf{k}|^2 + m^2}.\n",
    "\\end{align}\n",
    "The relation between the CM momentum $\\mathbf{k}$ and the LF variables $\\alpha_p$ and $\\mathbf{p}_{pT}$ is\n",
    "\\begin{align}\n",
    "    k^z &= \\frac{p_p^+ - p_p^-}{2} = \\frac{M_{pn}}{2}(\\alpha_p -1), \\quad \\mathbf{k}_T = \\mathbf{p}_{pt}, \\quad |\\mathbf{k}|^2 = |\\mathbf{k}_T|^2 + |k^z|^2 = \\frac{M_{pn}^2}{4} -m^2, \\\\\n",
    "    \\alpha_p &= 1 + \\frac{k^z}{E}, \\quad M_{pn} = 2E, \\\\\n",
    "    E \\equiv E(\\mathbf{k}) &\\equiv \\sqrt{|\\mathbf{k}|^2 + m^2}.\n",
    "\\end{align}\n",
    "\n",
    "In the CM frame the pn LF wave function can be formulated as a 3-dimensional relativistic wave function in the 3-momentum variable $\\mathbf{k}$. It is constructed using angular momentum wave functions (S and D waves), canonical nucleon spinors and the Melosh rotations mediating the transition from canonical spin to LF helicity. The dynamical information is contained ni the radial wave functions of the S- and D-waves\n",
    "\\begin{equation}\n",
    "    f_0(k), f_2(k) \\quad [k \\equiv |k|],\n",
    "\\end{equation}\n",
    "which are normalized such that\n",
    "\\begin{equation}\n",
    "    4\\pi \\int \\frac{dk k^2}{E(k)}\\left[f_0^2(k) + f_2^2(k)\\right] = 1.\n",
    "\\end{equation}\n",
    "A nonrelativistic approximation to the deuteron LF wave functions can be constructed from the nonrelativistic wave function obtained with an effective nonrelativistic NN interaction. The nonrelativistic nuclear theory of NN interactions is more extensive and is adequate for nucleon rest-frame momenta $|\\mathbf{p}_p| \\lesssim 300 MeV$ and is used in this study. In the nonrelativistic limit $k^2 \\ll m^2$, the relativistic radial wave functions in the CM frame approach the nonrelativistic radial wave function,\n",
    "\\begin{equation}\n",
    "    f_0(k) \\rightarrow \\sqrt{m} f_{0,nr}(k) \\quad (k^2 \\ll m^2, \\text{same for $f_2$}).\n",
    "\\end{equation}\n",
    "The factor $\\sqrt{m}$ results from the normalization convention for the nonrelativistic radial functions which is different than the relativistic one\n",
    "\\begin{equation}\n",
    "    4\\pi \\int dk k^2\\left[f_{0,nr}^2(k) + f_{2,nr}^2(k)\\right] = 1.\n",
    "\\end{equation}\n",
    "This normalization corresponds to the normalization of the unpolarized momentum distribution of the neutron in the deuteron that will be discussed later. A nonrelativistic approximation to the relativistic radial functions is provided by\n",
    "\\begin{equation}\n",
    "    f_0(k) = \\sqrt{E(k)} f_{0,nr} \\quad (\\text{same for $f_2$}).\n",
    "\\end{equation}"
   ]
  },
  {
   "cell_type": "markdown",
   "metadata": {},
   "source": [
    "## Kinematic variables\n",
    "Several different kinematic variables can be defined, $p_p^z$, $k$, $k^z$, $\\mathbf{k}_T$, $\\mathbf{p}_{pT}$ and $\\alpha_p$, which are connected to each other via the following equations\n",
    "\\begin{align}\n",
    "\tp_p^z &= (\\alpha_p-1)m, \\\\\n",
    "\tk^z &= \\sqrt{\\frac{\\mathbf{p}_{pT}^2 + m^2}{\\alpha_p(2-\\alpha_p)}}(\\alpha_p-1),\\\\\n",
    "\t\\mathbf{k}_T &= \\mathbf{p}_{pT} \\\\ \n",
    "\tk &= \\sqrt{\\mathbf{k}^2} = \\sqrt{\\frac{\\mathbf{p}_{pT}^2 + m^2}{\\alpha_p(2-\\alpha_p)} -m^2},\\\\\n",
    "    \\alpha_p &= 1 + \\frac{p_p^z}{m} \\\\\n",
    "    \\alpha_p &= 1 + \\frac{k^z}{\\sqrt{k^2 + m^2}} = 1 + \\frac{k^z}{\\sqrt{(k^z)^2 + p_{pT}^2 + m^2}}.\n",
    "\\end{align}\n",
    "One last variable can be defined, called the invariant momentum transfer between the deuteron and the proton which is defined as \n",
    "\\begin{equation}\n",
    "t \\equiv (p_d - p_p)^2 \\quad t' \\equiv t-m^2,\n",
    "\\end{equation}\n",
    "which is related to the proton transverse momentum $|\\mathbf{p}_{pT}|$ as\n",
    "\\begin{equation}\n",
    "t' = \\frac{\\alpha_p(2-\\alpha_p)m_d^2-4m^2} {2\\alpha_p} - \\frac{2|\\mathbf{p}_{pT}|^2} {\\alpha_p}.\n",
    "\\end{equation}\n",
    "The physical region of this variable is given by values for $p_{pT}$ of $p_{pT} \\geqslant 0$. The minimum value of $t'$ for fixed $\\alpha_p$ is given by its value at $p_{pT}=0$ or\n",
    "\\begin{equation}\n",
    "    t'_{\\text{min}}(\\alpha_p) = \\frac{\\alpha_p(2-\\alpha_p)m_d^2-4m^2}{2\\alpha_p},\n",
    "\\end{equation}\n",
    "the absolute minimum exists at $\\alpha_p=2m/m_d$, the value for $t'$ at this point is\n",
    "\\begin{equation}\n",
    "    t'_{\\text{min}} = m_d\\epsilon_d,\n",
    "\\end{equation}\n",
    "with $\\epsilon_d$ the binding energy of the deuteron. The on-shell limit corresponds to $t'\\rightarrow 0$ corresponding to neutron exchange between the deuteron breakup and the DIS process. Tabulating the structure functions or asymmetries of the deuteron in function of this variable $t'$ and extrapolating to $t'=0$ is called pole extrapolation.\n",
    "\n",
    "Countour plots of the kinematic variables as function of each other are shown in the figure below.\n",
    "<table>\n",
    "    <tr><td>\n",
    "        <img src=\"figures/alpha_ppt_k.png\" width = \"300\" ></td><td>\n",
    "        <img src=\"figures/alpha_ppt_t.png\" width = \"300\" ></td><td>\n",
    "        <img src=\"figures/kz_k_t.png\" width = \"300\" ></td></tr>\n",
    "    <tr><td>\n",
    "        <img src=\"figures/kz_k_ppt.png\" width = \"300\" ></td><td>\n",
    "        <img src=\"figures/kz_ppt_t.png\" width = \"300\" ></td><td>\n",
    "        <img src=\"figures/pz_pt_t.png\" width = \"300\" ></td></tr>\n",
    "    <tr><td>\n",
    "        <img src=\"figures/pz_pt_kz.png\" width = \"300\" ></td><td>\n",
    "        <img src=\"figures/pz_pt_k.png\" width = \"300\" ></td><td>\n",
    "        <img src=\"figures/alpha_pt_pz.png\" width = \"300\" ></td></tr>\n",
    "    <tr><td>\n",
    "        <img src=\"figures/kz_pt_pz.png\" width = \"300\" ></td><td>\n",
    "        <img src=\"figures/k_pt_pz.png\" width = \"300\" ></td></tr>\n",
    "</table>"
   ]
  },
  {
   "cell_type": "code",
   "execution_count": 2,
   "metadata": {},
   "outputs": [
    {
     "data": {
      "application/vnd.jupyter.widget-view+json": {
       "model_id": "57ac4498d7304933a1bc40a2e300619e",
       "version_major": 2,
       "version_minor": 0
      },
      "text/plain": [
       "HTMLMath(value='<center><b><h1>Non-relativistic momentum density</h1></b></center>\\n    <hr>\\n    <figure styl…"
      ]
     },
     "metadata": {},
     "output_type": "display_data"
    },
    {
     "data": {
      "application/vnd.jupyter.widget-view+json": {
       "model_id": "a20698b0470f470e9ab192ad1d1a097f",
       "version_major": 2,
       "version_minor": 0
      },
      "text/plain": [
       "HBox(children=(HTMLMath(value='The lower bound of the proton 3 momentum norm bin can be given here.\\n    <hr>'…"
      ]
     },
     "metadata": {},
     "output_type": "display_data"
    },
    {
     "data": {
      "application/vnd.jupyter.widget-view+json": {
       "model_id": "c1ecc33f47b04b93af095c247fbb36de",
       "version_major": 2,
       "version_minor": 0
      },
      "text/plain": [
       "HBox(children=(HTMLMath(value='The upper bound of the proton 3 momentum norm bin can be given here.\\n    <hr>'…"
      ]
     },
     "metadata": {},
     "output_type": "display_data"
    },
    {
     "data": {
      "application/vnd.jupyter.widget-view+json": {
       "model_id": "1d9ec08f7a774c52b0ca66cbd0144617",
       "version_major": 2,
       "version_minor": 0
      },
      "text/plain": [
       "HBox(children=(HTMLMath(value='The spacing between values of the proton 3 momentum norm.\\n    <hr>', layout=La…"
      ]
     },
     "metadata": {},
     "output_type": "display_data"
    },
    {
     "data": {
      "application/vnd.jupyter.widget-view+json": {
       "model_id": "638784aa255243009c52611c899f3c87",
       "version_major": 2,
       "version_minor": 0
      },
      "text/plain": [
       "HBox(children=(HTMLMath(value='By selecting this the momentum density is displayed on a \\n    logaritmic y-axi…"
      ]
     },
     "metadata": {},
     "output_type": "display_data"
    },
    {
     "data": {
      "application/vnd.jupyter.widget-view+json": {
       "model_id": "34c25a79ecb14a9c89f1b6d9c44d2b13",
       "version_major": 2,
       "version_minor": 0
      },
      "text/plain": [
       "HBox(children=(HTMLMath(value='If a name is given here the figure is stored as following name.png.\\n    If no …"
      ]
     },
     "metadata": {},
     "output_type": "display_data"
    },
    {
     "data": {
      "application/vnd.jupyter.widget-view+json": {
       "model_id": "ced7c0e5143e41bab8dae28c37feeea7",
       "version_major": 2,
       "version_minor": 0
      },
      "text/plain": [
       "HBox(children=(HTMLMath(value='Pressing the <b>\"Make momentum density figure\"</b> button will create \\n    the…"
      ]
     },
     "metadata": {},
     "output_type": "display_data"
    },
    {
     "data": {
      "application/vnd.jupyter.widget-view+json": {
       "model_id": "cffca86fcf8f4406b0eaedad239374b0",
       "version_major": 2,
       "version_minor": 0
      },
      "text/plain": [
       "Output()"
      ]
     },
     "metadata": {},
     "output_type": "display_data"
    }
   ],
   "source": [
    "out=Output()\n",
    "make_figure_momentum_density(out)\n",
    "out"
   ]
  },
  {
   "cell_type": "markdown",
   "metadata": {},
   "source": [
    "## Nucleon operators\n",
    "The expectation value for a generic nucleon one-body operator coupling to the neutron, $O_n$,  in a polarized deuteron ensemble is given as\n",
    "\\begin{equation}\n",
    "    \\langle O_n \\rangle \\equiv \\sum_{\\lambda_d',\\lambda_d} \\rho_d(\\lambda_d,\\lambda_d')\\langle p_d,\\lambda_d'|O_n| p_d,\\lambda_d \\rangle,\n",
    "\\end{equation}\n",
    "where $\\rho_d$ is the deuteron spin matrix and $\\lambda_d'$ and $\\lambda_d$ the LF helicities of the deuteron states. The matrix element of the nucleon operator between deuteron states with LF helicities $\\lambda_d$ and $\\lambda_d'$ cna be calculated by inserting a complete set of proton-neutron intermediate states as follows\n",
    "\\begin{aligned}\n",
    "    \\langle p_d,\\lambda_d'|O_n|p_d,\\lambda_d \\rangle =& \\int \\frac{d\\alpha_p}{\\alpha_p}d^2p_{pT} \\sum_{\\sigma_p, \\sigma_n',\\sigma_n} \\frac{2}{(2-\\alpha_p)^2}\\Psi^*_d(\\alpha_p,\\mathbf{p}_{pT};\\sigma_p,\\sigma_n'|\\lambda_d')\\Psi_d(\\alpha_p,\\mathbf{p}_{pT};\\sigma_p,\\sigma_n|\\lambda_d) \\\\\n",
    "&\\times \\langle n,p_n,\\sigma_n '|O_n|n,p_n,\\sigma_n \\rangle.\n",
    "\\end{aligned}\n",
    "Wherein $\\Psi_d$ and \\Psi^*_d are the deuteron LF wave function and its complex conjugate that can be constructed out of nucleon LF bispinors and a deuteron polarization 4-vector\n",
    "\\begin{equation}\n",
    "\t\\Psi_d(\\alpha_p,\\mathbf{p}_{pT};\\sigma_p,\\sigma_n|\\lambda_d) = \\bar{u}_{LF}(p_n,\\sigma_n)\\Gamma_{\\alpha} v_{LF}(p_p,\\sigma_p) \\epsilon_{pn}^{\\alpha}(P_{pn},\\lambda_d).\n",
    "\\end{equation}\n",
    "The function $\\Gamma_{\\alpha}$ connects the nucleon bispinor and the deuteron 4-vector to an invarinat form, its explicit form is not important here but can be found in [arXiv:2006.03033](https://arxiv.org/abs/2006.03033). The matrix element of the neucleon operator between neutron states with 4-momentum $p_n$ and LF helicities $\\sigma_n$ and $\\sigma_n'$ can be represented as a bilinear form in the same way\n",
    "\\begin{equation}\n",
    "\\langle n,p_n,\\sigma_n '|O_n|n,p_n,\\sigma_n \\rangle = \\bar{u}_{LF}(p_n,\\sigma_n')\\Gamma_n u_{LF}(p_n,\\sigma_n).\n",
    "\\end{equation}\n",
    "The deuteron expectation value can be obtained a bispinor trace as follows\n",
    "\\begin{equation}\n",
    "\\langle O_n \\rangle = \\int \\frac{d\\alpha_p}{\\alpha_p}d^2p_{pT}\\frac{2Tr[\\Pi_d\\Gamma_n]}{(2-\\alpha_p)^2},\n",
    "\\label{eq:deut_exp}\n",
    "\\end{equation}\n",
    "where the bispinor matrix $\\Gamma_n$ is specific to the operator and $\\Pi_d$ is a matrix in bispinor indices and represents the effective neutron spin density matrix in the deuteron for a given proton LF momentum $\\alpha_p$ and $\\mathbf{p}_{pT}$. This effective neutron spin density matrix has contributions from unpolarized, vector-polarized and tensor-polarized parts\n",
    "\\begin{equation}\n",
    "\\Pi_d = \\Pi_d[\\text{unpol}] + \\Pi_d[\\text{vector}] + \\Pi_d[\\text{tensor}].\n",
    "\\end{equation}\n",
    "There full derivation of their specific form can be found in section V.B. in [arXiv:2006.03033](https://arxiv.org/abs/2006.03033). Their form in the center of mass frame will prove to be usefull and are given by\n",
    "\\begin{align}\n",
    "\\Pi_d[\\text{unpol}] &= \\frac{1}{2}(\\hat{p}_n + m)(U^2+W^2)\\\\\n",
    "\\Pi_d[\\text{vector}] &= \\frac{1}{2}(\\hat{p}_n + m)\\hat{s}_n\\gamma_5 \\\\\n",
    "\\Pi_d[\\text{tensor}] &= -\\frac{1}{2}(\\hat{p}_n + m)(\\textbf{k}T_d\\textbf{k})\\frac{3}{k^2}\\left(2U+\\frac {W}{\\sqrt{2}}\\right)\\frac{W}{\\sqrt{2}}\n",
    "\\end{align}\n",
    "with $s_n$ the effective polarization 4-vector of the neutron in the deuteron and $T_d$ the 3-dimensional deuteron polarization tensor in the deuteron rest frame. The deuteron polarization 4-vector $s_n$ depends on the S- and D-wave and will become apparent later, how precisely they depend on them can be found in the paper but will not be given here. \n",
    "\n",
    "## Neutron light-front momentum distributions\n",
    "### Helicity-independent LF momentum distribution\n",
    "The function given by\n",
    "\\begin{equation}\n",
    "    \\mathcal{S}_d(\\alpha_p,\\mathbf{p}_{pT}) \\equiv \\frac{Tr[\\Pi_d\\gamma^+]}{(2-\\alpha_p)^2p_d^+},\n",
    "\\end{equation}\n",
    "can be defined as the helicity-independent LF momentum distribution of neutrons in the deuteron ensemble. For the derivation we refer to section V.C. of the paper [arXiv:2006.03033](https://arxiv.org/abs/2006.03033). The trace in the equation has contributions from both the unpolarized and tensor-polarized parts of the neuteron density matrix described above\n",
    "\\begin{equation}\n",
    "    \\mathcal{S}_d = \\mathcal{S}_d[\\text{unpol}] + \\mathcal{S}_d[\\text{tensor}].\n",
    "\\end{equation}\n",
    "#### Unpolarized helicity-independent LF momentum distribution\n",
    "The unpolarized part contributes as follows\n",
    "\\begin{equation}\n",
    "    \\mathcal{S}_d(\\alpha_p,\\mathbf{p}_{pT})[\\text{unpol}] = \\frac{U^2 + W^2}{2-\\alpha_p}.\n",
    "\\end{equation}\n",
    "This function can be shown in the section below for a set of parameters that can be chosen by the user."
   ]
  },
  {
   "cell_type": "code",
   "execution_count": 3,
   "metadata": {},
   "outputs": [
    {
     "data": {
      "application/vnd.jupyter.widget-view+json": {
       "model_id": "2391651899254497995630ad153c2441",
       "version_major": 2,
       "version_minor": 0
      },
      "text/plain": [
       "HTMLMath(value='<center><b><h1>Helicity independent unpolarised momentum distribution</h1></b>\\n    </center>\\…"
      ]
     },
     "metadata": {},
     "output_type": "display_data"
    },
    {
     "data": {
      "application/vnd.jupyter.widget-view+json": {
       "model_id": "73d4ae107c964267ae1ec05a6c93c445",
       "version_major": 2,
       "version_minor": 0
      },
      "text/plain": [
       "HBox(children=(HTMLMath(value='The proton light front momentum fraction is defined as \\n    $\\\\alpha_p=\\\\frac{…"
      ]
     },
     "metadata": {},
     "output_type": "display_data"
    },
    {
     "data": {
      "application/vnd.jupyter.widget-view+json": {
       "model_id": "03a2a80df2b24af5ad5b46c29110a31b",
       "version_major": 2,
       "version_minor": 0
      },
      "text/plain": [
       "HBox(children=(HTMLMath(value='The upper bound of the $\\\\alpha_p$ bin can be given here.<hr>', layout=Layout(w…"
      ]
     },
     "metadata": {},
     "output_type": "display_data"
    },
    {
     "data": {
      "application/vnd.jupyter.widget-view+json": {
       "model_id": "154370fd95894b0d90daf0ce993b026e",
       "version_major": 2,
       "version_minor": 0
      },
      "text/plain": [
       "HBox(children=(HTMLMath(value='The spacing between values of the proton LF momentum fraction.<hr>', layout=Lay…"
      ]
     },
     "metadata": {},
     "output_type": "display_data"
    },
    {
     "data": {
      "application/vnd.jupyter.widget-view+json": {
       "model_id": "8f6320a13d19422f9ef399eb90f0069d",
       "version_major": 2,
       "version_minor": 0
      },
      "text/plain": [
       "HBox(children=(HTMLMath(value='Multiple momentum distribution can be given for multiple transverse proton \\n  …"
      ]
     },
     "metadata": {},
     "output_type": "display_data"
    },
    {
     "data": {
      "application/vnd.jupyter.widget-view+json": {
       "model_id": "9a08d58256d54e30b3ce3b25cc9a77d9",
       "version_major": 2,
       "version_minor": 0
      },
      "text/plain": [
       "HBox(children=(HTMLMath(value='By selecting this the momentum distribution is displayed on a \\n    logaritmic …"
      ]
     },
     "metadata": {},
     "output_type": "display_data"
    },
    {
     "data": {
      "application/vnd.jupyter.widget-view+json": {
       "model_id": "0a5b2c219ba44e78a6240d7474c9a060",
       "version_major": 2,
       "version_minor": 0
      },
      "text/plain": [
       "HBox(children=(HTMLMath(value='If a name is given here the figure is stored as following name.png.\\n    If no …"
      ]
     },
     "metadata": {},
     "output_type": "display_data"
    },
    {
     "data": {
      "application/vnd.jupyter.widget-view+json": {
       "model_id": "a693f8b19b70406b8b462977e4cd94e7",
       "version_major": 2,
       "version_minor": 0
      },
      "text/plain": [
       "HBox(children=(HTMLMath(value='Pressing the <b>\"Make fd[unpol] figure\"</b> button will create the \\n    figure…"
      ]
     },
     "metadata": {},
     "output_type": "display_data"
    },
    {
     "data": {
      "application/vnd.jupyter.widget-view+json": {
       "model_id": "4ddbca995dba487aa271e7cf45007e7f",
       "version_major": 2,
       "version_minor": 0
      },
      "text/plain": [
       "Output()"
      ]
     },
     "metadata": {},
     "output_type": "display_data"
    }
   ],
   "source": [
    "out=Output()\n",
    "make_figure_Sd_unpol(out)\n",
    "out"
   ]
  },
  {
   "cell_type": "markdown",
   "metadata": {},
   "source": [
    "#### Tensor polarized helicity-independent LF momentum distribution\n",
    "The tensor polarized contribution is given by\n",
    "\\begin{align}\n",
    "    \\mathcal{S}_d(\\alpha_p,\\mathbf{p}_{pT})[\\text{tensor}] &= -\\frac{3}{2-\\alpha_p}\\frac{\\mathbf{k}T_d\\mathbf{k}}{k^2}\\left( 2U + \\frac{W}{\\sqrt{2}}\\right)\\frac{W}{\\sqrt{2}} \\\\\n",
    "    &= -\\frac{1}{2-\\alpha_p}\\left(1-\\frac{3|k_T|^2}{2k^2}\\right)\\left( 2U + \\frac{W}{\\sqrt{2}}\\right)\\frac{W}{\\sqrt{2}},\n",
    "\\end{align}\n",
    "where the second line is obtained by evaluating the expression on the first line in the case of pure deuteron polarization along the z-axis with LF helicity +1. The contraction of the 3-dimensional deuteron polarization tensor with the 3-momentum $\\mathbf{k}$ in this case becomes\n",
    "\\begin{equation}\n",
    "T_d = -\\frac{1}{6}[k^2- 3(k^z)^2].\n",
    "\\end{equation}\n",
    "The tensor polarized contribution for deuteron polarization along the z-axis with LF helicity +1 can be generated in the cell below for parameters chosen by the user."
   ]
  },
  {
   "cell_type": "code",
   "execution_count": 4,
   "metadata": {},
   "outputs": [
    {
     "data": {
      "application/vnd.jupyter.widget-view+json": {
       "model_id": "d5184fdbbbfc45ca9ab12ebdfe9db87b",
       "version_major": 2,
       "version_minor": 0
      },
      "text/plain": [
       "HTMLMath(value='<center><b><h1>Helicity independent tensor polarized momentum distribution</h1>\\n    </b></cen…"
      ]
     },
     "metadata": {},
     "output_type": "display_data"
    },
    {
     "data": {
      "application/vnd.jupyter.widget-view+json": {
       "model_id": "0ee3a2dbdf4d4cf6be0b11d934f832ff",
       "version_major": 2,
       "version_minor": 0
      },
      "text/plain": [
       "HBox(children=(HTMLMath(value='The proton light front momentum fraction is defined as \\n    $\\\\alpha_p=\\\\frac{…"
      ]
     },
     "metadata": {},
     "output_type": "display_data"
    },
    {
     "data": {
      "application/vnd.jupyter.widget-view+json": {
       "model_id": "c947f431f3a04ba0b542852fb89dc517",
       "version_major": 2,
       "version_minor": 0
      },
      "text/plain": [
       "HBox(children=(HTMLMath(value='The upper bound of the $\\\\alpha_p$ bin can be given here.<hr>', layout=Layout(w…"
      ]
     },
     "metadata": {},
     "output_type": "display_data"
    },
    {
     "data": {
      "application/vnd.jupyter.widget-view+json": {
       "model_id": "74fb5320954a4a5790354d7283fd4ec7",
       "version_major": 2,
       "version_minor": 0
      },
      "text/plain": [
       "HBox(children=(HTMLMath(value='The spacing between values of the proton LF momentum fraction.<hr>', layout=Lay…"
      ]
     },
     "metadata": {},
     "output_type": "display_data"
    },
    {
     "data": {
      "application/vnd.jupyter.widget-view+json": {
       "model_id": "6a10d0cda85442d5aecbf88906e4db28",
       "version_major": 2,
       "version_minor": 0
      },
      "text/plain": [
       "HBox(children=(HTMLMath(value='Multiple momentum distribution can be given for multiple transverse proton \\n  …"
      ]
     },
     "metadata": {},
     "output_type": "display_data"
    },
    {
     "data": {
      "application/vnd.jupyter.widget-view+json": {
       "model_id": "461902046eb248cabf43b2b096686b87",
       "version_major": 2,
       "version_minor": 0
      },
      "text/plain": [
       "HBox(children=(HTMLMath(value='By selecting this the momentum distribution is displayed on a \\n    logaritmic …"
      ]
     },
     "metadata": {},
     "output_type": "display_data"
    },
    {
     "data": {
      "application/vnd.jupyter.widget-view+json": {
       "model_id": "97661248a77b427db849d9e95abceb33",
       "version_major": 2,
       "version_minor": 0
      },
      "text/plain": [
       "HBox(children=(HTMLMath(value='If a name is given here the figure is stored as following name.png.\\n    If no …"
      ]
     },
     "metadata": {},
     "output_type": "display_data"
    },
    {
     "data": {
      "application/vnd.jupyter.widget-view+json": {
       "model_id": "9ce9991b285548ea97842397ab1783a1",
       "version_major": 2,
       "version_minor": 0
      },
      "text/plain": [
       "HBox(children=(HTMLMath(value='Pressing the <b>\"Make fd[tensor] figure\"</b> button will create the \\n    figur…"
      ]
     },
     "metadata": {},
     "output_type": "display_data"
    },
    {
     "data": {
      "application/vnd.jupyter.widget-view+json": {
       "model_id": "7f21acf8c11e499a8c55cf6c0129dd3d",
       "version_major": 2,
       "version_minor": 0
      },
      "text/plain": [
       "Output()"
      ]
     },
     "metadata": {},
     "output_type": "display_data"
    }
   ],
   "source": [
    "out=Output()\n",
    "make_figure_Sd_tensor(out)\n",
    "out"
   ]
  },
  {
   "cell_type": "markdown",
   "metadata": {},
   "source": [
    "### Helicity-dependent LF momentum distribution\n",
    "The function\n",
    "\\begin{equation}\n",
    "    \\Delta \\mathcal{S}_d(\\alpha_p,\\mathbf{p}_{pT}) \\equiv \\frac{Tr[\\Pi_d(-\\gamma^+\\gamma_5)]}{(2-\\alpha_p)^2p_d^+},\n",
    "\\end{equation}\n",
    "is defined as the helicity dependent LF momentum distribution of the neutron in the deuteron ensemble. The derivation is doen in section V.C. of the paper [arXiv:2006.03033](https://arxiv.org/abs/2006.03033). This momentum distribution only has contributions from the vector polarized part of the neutron density matrix\n",
    "\\begin{equation}\n",
    "    \\Delta \\mathcal{S}_d \\equiv \\Delta \\mathcal{S}_d[vector].\n",
    "\\end{equation}\n",
    "#### Vector polarized helicity-dependent LF momentum distribution\n",
    "The (vector polarized) helicity-dependent LF momentum distribution is given by\n",
    "\\begin{align}\n",
    "    \\Delta \\mathcal{S}_d(\\alpha_p,\\mathbf{p}_{pT})[\\text{pure +1}] &= \\Delta f_d(\\alpha_p,\\mathbf{p}_{pT})[\\text{vector}] 1= \\frac{1}{2-\\alpha_p}\\left(U-\\frac{W}{\\sqrt{2}}\\right)\\left(U R_U - \\frac{WR_W}{\\sqrt{2}}\\right), \\\\\n",
    "    R_U &= \\frac{m}{(2-\\alpha_p)E}\\left[S_d^z - \\frac{\\mathbf{S}_d\\mathbf{k}}{m} + \\frac{(\\mathbf{S}_d\\mathbf{k})k^z}{m(E+m)} \\right], \\\\\n",
    "\t\tR_W &= \\frac{m}{(2-\\alpha_p)E}\\left[-2S_d^z - \\frac{\\mathbf{S}_d\\mathbf{k}}{m} + \\frac{(E+2m)(\\mathbf{S}_d\\mathbf{k})k^z}{m|k|^2} \\right].\n",
    "\\end{align}\n",
    "The factors $R_U$ and $R_W$ can be rewritten in for the case of pure deuteron polarization along the z-direction with LF helicity +1. The deuteron polarization 3-vector in the rest frame in this cas is given by $\\mathbf{S}_d = \\mathbf{e}_z$. In this case $R_U$ and $R_W$ are given by\n",
    "\\begin{align}\n",
    "    R_U &= 1-\\frac{(E+k^z)|\\mathbf{k}_T|^2}{(E+m)(m^2+|\\mathbf{k}_T|^2)}, \\\\\n",
    "    R_W &= 1-\\frac{(E+2m)(E+k^z)|\\mathbf{k}_T|^2}{(m^2+|\\mathbf{k}_T|^2)|\\mathbf{k}|^2}. \\\\\n",
    "\\end{align}\n",
    "The vector polarized helicity-dependent LF momentum distribution for deuteron polarization along the z-direction with LF helicity +1 can be shown in the cell below for user specified parameters."
   ]
  },
  {
   "cell_type": "code",
   "execution_count": 5,
   "metadata": {},
   "outputs": [
    {
     "data": {
      "application/vnd.jupyter.widget-view+json": {
       "model_id": "26f7d851a91047fdbbe2afc4302d593b",
       "version_major": 2,
       "version_minor": 0
      },
      "text/plain": [
       "HTMLMath(value='<center><b><h1>Helicity dependent vector polarized momentum distribution</h1>\\n    </b></cente…"
      ]
     },
     "metadata": {},
     "output_type": "display_data"
    },
    {
     "data": {
      "application/vnd.jupyter.widget-view+json": {
       "model_id": "3d504306397544698e97facf30357869",
       "version_major": 2,
       "version_minor": 0
      },
      "text/plain": [
       "HBox(children=(HTMLMath(value='The proton light front momentum fraction is defined as \\n    $\\\\alpha_p=\\\\frac{…"
      ]
     },
     "metadata": {},
     "output_type": "display_data"
    },
    {
     "data": {
      "application/vnd.jupyter.widget-view+json": {
       "model_id": "a610b5f80ed6494aa3eb979e85ae4d35",
       "version_major": 2,
       "version_minor": 0
      },
      "text/plain": [
       "HBox(children=(HTMLMath(value='The upper bound of the $\\\\alpha_p$ bin can be given here.<hr>', layout=Layout(w…"
      ]
     },
     "metadata": {},
     "output_type": "display_data"
    },
    {
     "data": {
      "application/vnd.jupyter.widget-view+json": {
       "model_id": "6debf56af5a94900ac2c63f0a27e9189",
       "version_major": 2,
       "version_minor": 0
      },
      "text/plain": [
       "HBox(children=(HTMLMath(value='The spacing between values of the proton LF momentum fraction.<hr>', layout=Lay…"
      ]
     },
     "metadata": {},
     "output_type": "display_data"
    },
    {
     "data": {
      "application/vnd.jupyter.widget-view+json": {
       "model_id": "041e8d66ae4f44a586e43fb96643fb28",
       "version_major": 2,
       "version_minor": 0
      },
      "text/plain": [
       "HBox(children=(HTMLMath(value='Multiple momentum distribution can be given for multiple transverse proton \\n  …"
      ]
     },
     "metadata": {},
     "output_type": "display_data"
    },
    {
     "data": {
      "application/vnd.jupyter.widget-view+json": {
       "model_id": "3a95a992a2ec4fba88bf51d70d8171f6",
       "version_major": 2,
       "version_minor": 0
      },
      "text/plain": [
       "HBox(children=(HTMLMath(value='By selecting this the momentum distribution is displayed on a \\n    logaritmic …"
      ]
     },
     "metadata": {},
     "output_type": "display_data"
    },
    {
     "data": {
      "application/vnd.jupyter.widget-view+json": {
       "model_id": "cf23e48af35042d1842c49a001620f2f",
       "version_major": 2,
       "version_minor": 0
      },
      "text/plain": [
       "HBox(children=(HTMLMath(value='If a name is given here the figure is stored as following name.png.\\n    If no …"
      ]
     },
     "metadata": {},
     "output_type": "display_data"
    },
    {
     "data": {
      "application/vnd.jupyter.widget-view+json": {
       "model_id": "b53a0449bd214bb0a10d44bae02ff3c1",
       "version_major": 2,
       "version_minor": 0
      },
      "text/plain": [
       "HBox(children=(HTMLMath(value='Pressing the <b>\"Make fd[vector] figure\"</b> button will create the \\n    figur…"
      ]
     },
     "metadata": {},
     "output_type": "display_data"
    },
    {
     "data": {
      "application/vnd.jupyter.widget-view+json": {
       "model_id": "2b8b5878442e419aac5fcbd1934e67f3",
       "version_major": 2,
       "version_minor": 0
      },
      "text/plain": [
       "Output()"
      ]
     },
     "metadata": {},
     "output_type": "display_data"
    }
   ],
   "source": [
    "out=Output()\n",
    "make_figure_Sd_vector(out)\n",
    "out"
   ]
  },
  {
   "cell_type": "code",
   "execution_count": null,
   "metadata": {},
   "outputs": [],
   "source": []
  }
 ],
 "metadata": {
  "kernelspec": {
   "display_name": "Python 3",
   "language": "python",
   "name": "python3"
  },
  "language_info": {
   "codemirror_mode": {
    "name": "ipython",
    "version": 3
   },
   "file_extension": ".py",
   "mimetype": "text/x-python",
   "name": "python",
   "nbconvert_exporter": "python",
   "pygments_lexer": "ipython3",
   "version": "3.7.6"
  }
 },
 "nbformat": 4,
 "nbformat_minor": 4
}
