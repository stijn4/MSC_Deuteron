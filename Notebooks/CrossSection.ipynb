{
 "cells": [
  {
   "cell_type": "code",
   "execution_count": 1,
   "metadata": {},
   "outputs": [
    {
     "name": "stderr",
     "output_type": "stream",
     "text": [
      "[NbConvertApp] Converting notebook Programs.ipynb to script\n",
      "[NbConvertApp] Writing 168802 bytes to Programs.py\n"
     ]
    }
   ],
   "source": [
    "!jupyter nbconvert --to script Programs.ipynb\n",
    "from Programs import *\n",
    "error_settings = np.seterr(all='ignore')"
   ]
  },
  {
   "cell_type": "markdown",
   "metadata": {},
   "source": [
    "# The search for mass\n",
    "## Particles\n",
    "\n",
    "<figure style=\"float: right;\">\n",
    "    <img src=\"figures/full_atom.png\" width =\"300\" >\n",
    "    <figcaption>fig 1: Nuclear substructure of atoms.[6]</figcaption>\n",
    "</figure>\n",
    "As we all know matter is made out of atoms and atoms themselfs again have a substructure consistent of electrons neutrons and protons. Electrons have no substructure and are therfore called point particles. Protons and neutrons on the other are made out of even smaller particles, these are called quarks and are to the best of our knowledge point particles.\n",
    "\n",
    "Now a quick chemistry recap. If we look at a water molecule, $H_2O$, and take a sum of the masses of its constituants, 2 hydrogen atoms ($m_H$ = 0.93878 GeV) and 1 oxygen atom ($m_O$ = 14.90297 GeV) we get a mass of 16.78054 GeV while a water molecule weighs 16.78552 GeV so we miss about 0.00498 GeV or 0.03%. This is because of the binding energy that we did not take into acount, however the difference is very small.\n",
    "\n",
    "If we now look at a similar problem but on an atomic scale, the mass of a helium-4 atom ($M_{^4He}$ = 3.7284 GeV) which consits out of 2 protons ($m_p$ = 0.93827 GeV), 2 neutrons ($m_n$ = 0.93957) and 2 electrons ($m_e$ = 0.00051 GeV) we see that the sum of the constituants equals 3.7567 GeV, a difference of 0.0283 GeV or 0.759%. Again the difference is almost unnoticeable and can be acounted for by binding energy.\n",
    "\n",
    "<figure style=\"float: right;\">\n",
    "    <img src=\"figures/nucleons.gif\" width =\"300\" >\n",
    "    <figcaption>fig 2: Quark composition of nucleons.[7]</figcaption>\n",
    "</figure>\n",
    "\n",
    "The real problems arise when we look at the protons/neturon mass. As stated before they are made out of even smaller particles called quarks and thus we can do the same. The proton ($m_p$ = 938.27209 MeV) has 3 valence quarks of which 2 are up quarks ($m_u$ = 2.2 MeV) and 1 is a down quark($m_d$ = 4.7 MeV) which gives a sum of 9.1 MeV. We see thus that we are missing 929.17209 MeV or 99% of the mass. And for the neutron ($m_n$ = 939.56542 MeV) which also has 3 valence quaks but this time they are 1 up quark and 2 down quarks, so we find a sum of 11.6 MeV. Again we are missing 927.96542 MeV or 99% of the mass. Now this time the anwser for the missing mass is not so straight forward and requires detailed studies of the quarks and their interactions.\n",
    "\n",
    "A first problem in the studie of quarks arises from the fact that they are what is called confined. This means that free quarks do not exist and cannot be produced, only a combination of quarks, such as in a proton or neutron, can exist. However since we know how that protons and neutrons exist out of the same quarks, up and down, we can look at their data and use that to infer the roles of the quarks and anything else that might be present in the nucleons. So extensive and detailed data from both the free proton and free neutron is required for this. \n",
    "\n",
    "<figure style=\"float: right;\">\n",
    "    <img src=\"figures/neutron_decay.png\" width =\"150\" >\n",
    "    <figcaption>fig 3: Feynam diagram of neutron decay.[8]</figcaption>\n",
    "</figure>\n",
    "\n",
    "Here arises another problem, the unstability of the neutron. It decays to a proton and electron in about 880s or 14 min 40s. So the study of free neutrons is impossible since they would decay before their interactions could be measured.\n",
    "\n",
    "Luckily a solution to this problem is available and this is the main focus of this notebook. This solution is fully explained in [1], here we will go over the most important findings.\n",
    "\n",
    "# The EIC\n",
    "Before we get into the theoretical description we will look at the experimental setup that will allow us to study quarks in greater detail. The study of quarks using particle colliders have a long history, beginning with their discovery at the Stanford Linear Accelerator (SLAC) in 1968. Which lead to the 1990 Nobel Prize in Physics for Richard Taylor, Jerome I. Friedman and Henry Kendall. Since SLAC there have been many colliders, such as HEPL, HERA, DESY, CEBAF, JLAB and so on, each reaching new regions of physics with increasing accuracy. The next generation of colliders that will allow us to probe further into the quark world is called the Electron-Ion Collider or EIC. This generation of colliders will achieve a higher degree of polarization for both beams, a higher luminosity and a larger collision energy of the electrons and nucleons. To achieve this larger energy the EIC is one of the first colliders that will not use a fixed target experiment but rather the collision between 2 beams. This allows to reach higher energy regions as well as have the added simplification that the center of mass of the target and projectile system is approximately at rest in the laboratory which simplifies the analysis of the collision events leading to a better resolution. And as mentioned before the collider setup for counter propagating electron and hadron beams has many advantages over a fixed target experiment. The separation between of the beams of deflected electrons and target nucleons or its decay products is much easier in a collider beam than in a fixed target setup since all reaction products end up in a narrow region of the detector in the beam line. The ability to collide polarized particles will give access to the carriers of spin and angular momentum in the proton, and in particularly the contribution of the gluon-spin, which is something that previously has been unsuccessful.\n",
    "\n",
    "<figure style=\"float: right;\">\n",
    "<img src=\"figures/energy_distribution.png\" width =\"300\" >\n",
    "<figcaption>fig 4: Energy distribution of nucleon constituants.[9]</figcaption>\n",
    "</figure>\n",
    "\n",
    "As stated above the missing mass or energy of the proton or neutron is a little more complicated than the other situations in which the, small, amount of missing energy can be found in the binding energy. Nucleons are a complex many body system in which besides the valence quarks other particles are present according to theories and experiments. One of which are the gluons, the force carrier of the strong force, and sea quarks, a constant creations of quark anti-quark pairs from gluons that are then annihilated. Gluons themself have no mass and the valence quaks as stated above are nearly massless and only contribute for about a percentage. So the combination of gluons and sea quarks will be crucial to understand where the mass of the heavy nucleons is coming from. but the precise mechanism is poorly understood and the use of high energy colliders to obtain very precise measurements of distribution of quarks in both space and momentum will shed light on this. \n",
    "\n",
    "<figure style=\"float: right;\">\n",
    "<img src=\"figures/Nucleon_quark_spin.png\" width =\"300\" >\n",
    "<figcaption>fig 5: Schematic view of the nucleon and its <br>potential spin contributions .[10]</figcaption>\n",
    "</figure>\n",
    "\n",
    "Than there is the spin of the nucleon. Both proton and neutron have spin 1/2, a property that is used for example in magnetic resonance imaging or MRI. But a similar problem as before with the mass arises. Naively this total spin could be the sum of the spin of the 3 valence quarks, but experiments have shown that the valence quarks only contribute no more than 30% to the total spin. So the question remains, where does the rest of the spin comes from. Possible origins could be the spin of the gluons, the angular momentum of all the quarks (including sea quarks) and the angular momentum of the Gluons. Very little data is available about this, so the higher resolution of the EIC will allow a better study of the origin of spin. More about this can be found in [9] and [10].\n",
    "\n",
    "Some of these properties can already be study by the use of inclusive deep inelastic scattering, where after the collision between an electron and a nucleon only the scattered electron is measured. This has already revealed some basic information about the nucleons, such as the existence of valence quarks. But this can only give a one-dimensional picture of the substructure of the nucleon, such as the fraction of the nucleon's momentum that is carried by the struck quark in the direction of the incident electron. This longitudinal momentum fraction, x, is called a parton distribution function (PDF). For a more detailed analysis a 3D picture is needed which can be achieved by measuring all reaction particles, which is called exclusive DIS. This 3D picture of the nucleon in momentum space will provide new knowledge about the transverse momentum distributions (TMDs) which could be related to the nucleon spin direction.\n",
    "\n",
    "<figure style=\"float: right;\">\n",
    "    <img src=\"figures/electron_deuteron.png\" width =\"300\" />\n",
    "    <figcaption>fig 6: (a) Polarized electron-deuteron DIS with proton <br>tagging, e + D &rarr; e' + X + p. (b) Momenta in the <br>photon-deuteron collinear frame. [2] </figcaption>\n",
    "</figure>\n",
    "Since we know that a free neutron cannot be used in an experiment because of its decay, a deuteron will be used instead and the free neutrons properties will be inferred from that. For this extraction of the free neutron structure functions and asymmetries, a technique called spectator proton tagging will be employed. In this technique the scattered electron and final state proton will be detected. By using the data for the deuteron ensemble and the state of the detected electron and proton a polynomial can be fitted which will lead to the free neutron case after on-shell extrapolation. \n",
    "\n",
    "These are the scientific reasons for building the EIC. There is of course also the technological reason. Building such an accelerator capable of exploring such high energy regions and answering the questions above and others that might arise requires the innovation of new technologies, some of which often find their way into everyday life such as the invention of touch screen or most famously the internet at CERN ([11], [12])."
   ]
  },
  {
   "cell_type": "markdown",
   "metadata": {},
   "source": [
    "## Kinematic variables\n",
    "First some conventional scaling variables are defined, such as the conventional Bjorken scaling variable for scattering of the deuteron $x_d$\n",
    "\\begin{align}\n",
    "    x_d &\\equiv \\frac{-q^2}{2(p_dq)} \\\\\n",
    "    y &\\equiv \\frac{(p_dq)}{(p_dp_e)} \\equiv \\frac{Q^2}{x_d(s_{ed}-m_d^2)}\n",
    "\\end{align}\n",
    "where $s_{ed} = (p_e+p_d)^2$ is the square of the C.O.M. energy of the electron deuteron system and $m_d$ the deuteron mass. The effective Bjorken variable for scattering from a nucleon in the deuteron in the absence of nuclear binding is the rescaled variable\n",
    "\\begin{equation}\n",
    "    x = 2x_d\n",
    "\\end{equation}\n",
    "and q is the 4-momentum transfer between the initial and final electron, which can also be seen as the 4-momentum of the virtual photon that is exchanged\n",
    "\\begin{equation}\n",
    "    q = p_e - p_{e'} \\Rightarrow Q^2 = -q^2 > 0\n",
    "\\end{equation}\n",
    "2 new kinematic variable are also introduced, $\\gamma$ and the virtual photon polarization parameter $\\epsilon$\n",
    "\\begin{align}\n",
    "    \\gamma^2 &\\equiv \\frac{m_d^2Q^2}{(p_dq)^2} = \\frac{4x_dm_d^2}{Q^2} \\\\\n",
    "    \\epsilon &\\equiv \\frac{1-y-\\gamma^2y^2/4}{1-y+y^2/2+\\gamma^2y^2/4}\n",
    "\\end{align}\n",
    "\n",
    "## Cross section\n",
    "New invariant structure functions dependend on $x_d$ and $Q^2$, as well as on variables specifying the momentum of the final-state proton, are introduced\n",
    "\\begin{equation}\n",
    "    F_{[UU,T]d} \\equiv F_{[UU,T]d}(x,Q^2,{p_p})\n",
    "\\end{equation}\n",
    "We will use a notation to identify the structure functions corresponding to different electron, deuteron and virtual photon polarizations\n",
    "\\begin{equation}\n",
    "    F_{[electron-deuteron,photon]} =\\left\\{ \\begin{array}{l}\n",
    "    electron &= U,L\\\\\n",
    "    deuteron &= U,S_L,S_T,T_{LL},T_{LT},T_{TT}\\\\\n",
    "    photon &= L,T\n",
    "    \\end{array}\\right.\n",
    "\\end{equation}\n",
    "Where their relation to the traditional structure functions are given by\n",
    "\\begin{align}\n",
    "    F_{[UU,T]d} &= 2F_{1d} \\quad F_{[UU,L]d} = (1+\\gamma^2)\\frac{F_{2d}}{x_d} - 2F_{1d} \\\\\n",
    "    F_{[LS_{L}]d} &= 2(g_{1d}-\\gamma^2g_{2d}) \\quad F_{[LS_{T}]d} = -2\\gamma(g_{1d}+g_{2d})\n",
    "\\end{align}\n",
    "\n",
    "The differential cross section of polarized tagged DIS (given in Kinematic variables) then becomes\n",
    "\\begin{align}\n",
    "d\\sigma[ed \\rightarrow e'Xp] &=  \\frac{2\\pi\\alpha_{em}^2y^2}{Q^4(1-\\epsilon)}dx_ddQ^2\\frac{d\\phi_{e'}}{2\\pi}(F_{[U]d} + F_{[L]d})\\frac{1}{[2(2\\pi)^3]}\\frac{d^3p_p}{E_p} \\\\\n",
    "F_{[U]d} &= F_{[UU,T]d} + \\epsilon F_{[UU,L]d} + T_{LL}(F_{[UT_{LL},T]d} + \\epsilon F_{[UT_{LL},L]d}) \\\\\n",
    "&+ \\sqrt{2\\epsilon(1+\\epsilon)}S_{T}sin\\phi_SF_{[US_T]d} + \\sqrt{2\\epsilon(1+\\epsilon)}T_{LT}cos\\phi_{T_L} F_{[UT_{LT}]d} \\\\\n",
    "&+ \\epsilon T_{TT}cos2\\phi_{T_T}F_{[UT_{TT}]d} \\\\\n",
    "F_{[L]d} &= (2\\sigma_e) \\{\\sqrt{1-\\epsilon^2}S_L F_{[LS_L]d} + \\sqrt{2\\epsilon(1+\\epsilon)}S_Tcos\\phi_S F_{[LS_{T}]d} \\\\\n",
    "\t&+ \\sqrt{2\\epsilon(1+\\epsilon)}T_{LT}sin\\phi_{T_L} F_{[LT_{LT}]d}\\}\n",
    "\\end{align}\n",
    "With $F_{[U]d}$ the structure functions independent of the electron helicity (U) and $F_{[L]d}$ which are proportional to the electron helicity (L)."
   ]
  },
  {
   "cell_type": "markdown",
   "metadata": {},
   "source": [
    "## Unpolarized electron scattering\n",
    "Unpolarized electron scattering involves the symmetric parts of the deuteron and neutron tensor. Using these one obtains expressions for the tagged deuteron structure functions and their relation to the free neutron structure functions\n",
    "\\begin{align}\n",
    "    F_{[UU,T]d}(x,Q^2;\\alpha_p,\\mathbf{p}_{pT}) &= [2(2\\pi)^3]\\frac{2f_d(\\alpha_p,\\mathbf{p}_{pT})[unpol]}{2-\\alpha_p}F_{[UU,T]n}(\\tilde{x},Q^2) \\\\\n",
    "    F_{[UU,L]d}(x,Q^2;\\alpha_p,\\mathbf{p}_{pT}) &= [2(2\\pi)^3]\\frac{2f_d(\\alpha_p,\\mathbf{p}_{pT})[unpol]}{2-\\alpha_p}F_{[UU,L]n}(\\tilde{x},Q^2) \\\\\n",
    "    \\tilde{x} &\\equiv \\frac{x}{2-\\alpha_p}\n",
    "\\end{align}\n",
    "$\\tilde{x}$ is the effective scaling variable for scattering on the neutron, which takes into account its longitudinal LF momentum in the deuteron. These expressions are valid in the DIS limit $Q^2 \\gg m^2$, neglecting kinematic corrections $\\mathcal{O}(m^2/Q^2)$. The corresponding expressions for the tagged deuteron structure functions $F_{1d}$ and F_{2d} are\n",
    "\\begin{align}\n",
    "    F_{1d}(x,Q^2;\\alpha_p,\\mathbf{p}_{pT}) &= [2(2\\pi)^3]\\frac{2f_d(\\alpha_p,\\mathbf{p}_{pT})[unpol]}{2-\\alpha_p}F_{1n}(\\tilde{x},Q^2) \\\\\n",
    "    F_{2d}(x,Q^2;\\alpha_p,\\mathbf{p}_{pT}) &= [2(2\\pi)^3]f_d(\\alpha_p,\\mathbf{p}_{pT})[unpol]F_{2n}(\\tilde{x},Q^2)\n",
    "\\end{align}\n",
    "so we see that the tagged deuteron structure function $F_{2d}$ and the neuteron structure function $F_{2n}$ are related directly by the neutron momentum distribution in the deuteron.\n",
    "\n",
    "The same can be done for the tensor-polarized part of the symmetric deuteron tensor, which leads to the tensor structure functions\n",
    "\\begin{align}\n",
    "    T_{LL}F_{[UT_{LL},T]d}(x,Q^2;\\alpha_p,\\mathbf{p}_{pT}) &= [2(2\\pi)^3]\\frac{2f_d(\\alpha_p,\\mathbf{p}_{pT})[tensor]}{2-\\alpha_p}F_{[UU,T]n}(\\tilde{x},Q^2) \\\\\n",
    "     T_{LL}F_{[U T_{LL},L]d}(x,Q^2;\\alpha_p,\\mathbf{p}_{pT}) &= [2(2\\pi)^3]\\frac{2f_d(\\alpha_p,\\mathbf{p}_{pT})[tensor]}{2-\\alpha_p}F_{[UU,L]n}(\\tilde{x},Q^2) \\\\\n",
    "     T_{LL} &= \\frac{1}{6}(3S_L^2-1) = \\frac{1}{6}\\left[\\frac{3(1+\\gamma^2y/2^2)}{1+\\gamma^2}-1\\right]\n",
    "\\end{align}\n",
    "\n",
    "## Polarized electron scattering\n",
    "Polarized electron scattering involves the antisymmetric parts of the deuteron and neutron tensors. Which can be used to derive the expression for the tagged deuteron spin structure function $F_{[LS_L]d}$, since $F_{[LS_T]d}$ is suppressed. This gives rise to\n",
    "\\begin{align}\n",
    "    F_{[LS_L]d}(x,Q^2;\\alpha_p,\\mathbf{p}_{pT}) &= [2(2\\pi)^3]\\frac{2\\Delta f_d(\\alpha_p,\\mathbf{p}_{pT})[\\text{pure +1}]}{2-\\alpha_p}F_{[LS_L]n}(\\tilde{x},Q^2) \\\\\n",
    "    g_{1d}(x,Q^2;\\alpha_p,\\mathbf{p}_{pT}) &= [2(2\\pi)^3]\\frac{2\\Delta f_d(\\alpha_p,\\mathbf{p}_{pT})[\\text{pure +1}]}{2-\\alpha_p}g_{1n}(\\tilde{x},Q^2)\n",
    "\\end{align}\n",
    "These equations aply in the DIS limit, where $g_{2}$ is suppressed.\n",
    "\n",
    "## On-shell extrapolation of structure functions\n",
    "<figure >\n",
    "    <img src=\"figures/on-shell_extrapolation.png\" width =\"300\" />\n",
    "    <figcaption>fig 11: Kinematic variables $\\alpha_p$ and t' in neutron structure meassurements with on-shell extrapolation. The tagged structure functions are meassured at fixed $\\alpha_p$ as functions of $|\\mathbf{p}_{pT}| > 0$, corresponding to a certain range in t' (solid vertical line). The physical region (shaded area) ends at $|\\mathbf{p}_{pT}| = 0$. The measurements are then extrapolated to $t' \\rightarrow 0$ at fixed $\\alpha_p$ (dotted line). [1]</figcaption>\n",
    "</figure>\n",
    "\n",
    "We will now study the extraction of the free neutron structure functions from tagged deuteron DIS measurments. In general, for arbitrary nonzero values of the proton recoil momentum, the tagged cross section is modified by initial-state nuclear binding effects beyond those included in the pn LF wave function, and by final-state interactions beyond the IA. These effects can be eliminated by on-shell extrapolation in the proton recoil momentum, which relies on the analytic properties of cross sections. The method permits model-independent extraction of free neutron structure. Here we will review its use in the unpolarized case.\n",
    "\n",
    "To discuss the analytic properties, one regards the tagged DIS cross section as a function of the proton LF momentum fraction $\\alpha_p$ and the invariant momentum transfer between the deuteron and the proton.\n",
    "\\begin{equation}\n",
    "    t \\equiv (p_d - p_p)^2 \\quad t' \\equiv t-m^2\n",
    "\\end{equation}\n",
    "which is related to the proton transverse pomentum $|\\mathbf{p}_{pT}|$ as\n",
    "\\begin{equation}\n",
    "    t' = \\frac{\\alpha_p(2-\\alpha_p)m_d^2-4m^2}{2\\alpha_p}-\\frac{2|\\mathbf{p}_{pT}|^2}{\\alpha_p}\n",
    "\\end{equation}\n",
    "The physical region in these variales is shown in fig 11. For fixed $\\alpha_p$, the kinematic limit of t' is\n",
    "\\begin{equation}\n",
    "    t'_{min}(\\alpha_p) = \\frac{\\alpha_p(2-\\alpha_p)m_d^2 -4m^2}{2\\alpha_p}\n",
    "\\end{equation}\n",
    "the absolute limit is attained at $\\alpha_p=2m/m_d$ and given by\n",
    "\\begin{equation}\n",
    "    t'_{min} = m_d\\epsilon_d\n",
    "\\end{equation}\n",
    "where $\\epsilon_d$ is the deuteron binding energy.\n",
    "\n",
    "<figure >\n",
    "    <img src=\"figures/neutron_exchange.png\" width =\"150\" />\n",
    "    <figcaption>fig 12: Neutron pole of the tagged DIS amplitude $e+d \\rightarrow e' + X +p$. It corresponds to \"neutron exchange\" between the deuteron breakup and the DIS process. The virtuality $t'=t-m^2$ is fixed kinematically by the proton recoil momentum. [1]</figcaption>\n",
    "</figure>\n",
    "\n",
    "On general grounds, the $e+d \\rightarrow e' + X$ scattering amplitude has a pole at $t=m^2$, or $t'=0$, corresponding to \"neutron exchange\" between the deuteron breakup and the DIS process (see fig 12)\n",
    "\\begin{equation}\n",
    "    Amp(e+d\\rightarrow e'+X+p) \\sim Amp(d\\rightarrow n+p)\\times \\frac{1}{t'}\\times Amp(e+n \\rightarrow e'+X)\n",
    "\\end{equation}\n",
    "The cross section is given by the squared modulus of the amplitude, summed over all final states X. In the vicinity of $t'=0$ the tagged structure functions therefore behave as\n",
    "\\begin{align}\n",
    "    F_{[UU,T]d}(x,Q^2;\\alpha_p,\\mathbf{p}_{pT}) &\\sim [2(2\\pi)^3]\\frac{C_d}{(t')^2} F_{[UU,T]n}(\\tilde{x},Q^2) \\\\\n",
    "    &+ (\\text{terms less singular for t'} \\rightarrow 0)\n",
    "\\end{align}\n",
    "and similarly for $F_{[UU,L]d}$. Here $C_d$ is, up to a factor, the square of the $d \\rightarrow n + p$ vertex at the on-shell point, and $F_{[UU,T]n}(\\tilde{x},Q^2)$ is the free neutron structure function, evaluated at the effective scaling variable $\\tilde{x}$.\n",
    "\n",
    "So the unpolarized tagged deuteron differential cross section is thus given by\n",
    "\\begin{equation}\n",
    "    d\\sigma[ed \\rightarrow e'Xp] =  \\frac{2\\pi\\alpha_{em}^2y^2}{Q^4(1-\\epsilon)}dx_ddQ^2\\frac{d\\phi_{e'}}{2\\pi}(F_{[UU,T]d} + \\epsilon F_{[UU,L]d})\\frac{1}{[2(2\\pi)^3]}\\frac{\\pi}{2}d\\alpha_pd(-t')\n",
    "\\end{equation}\n",
    "Where using the relation between the tagged deuteron structure functions and the free neutron structure functions we find\n",
    "\\begin{equation}\n",
    "    d\\sigma[ed \\rightarrow e'Xp] =  \\frac{1}{16 \\pi}\\frac{\\alpha_{em}^2y^2}{Q^4(1-\\epsilon)}dx_ddQ^2[2(2\\pi)^3]\\frac{2f_d(\\alpha_p,\\mathbf{p}_{pT})[unpol]}{2-\\alpha_p}(F_{[UU,T]n} + \\epsilon F_{[UU,L]n})d\\alpha_pd(-t')\n",
    "\\end{equation}\n",
    "Where it is integrated out over the recol electron angle.\n",
    "\n",
    "The extraction of the free neutron structure function requires the measurement of the tagged deuteron structure function at a given $x$ and $Q^2$ as function of the recoil mproton momentum, at fixed $\\alpha_p$ and variable $\\mathbf{p}_{pT}$, corresponding to variable $|t'| > |t'_{min}(\\alpha_p)|$. The ranges of these variables should be chosen such that they correspond to nucleon CM momenta of the order of the typical nucleon momenta in the deuteron, $|\\mathbf{k}| \\lesssim 100 MeV$ (ideally, much smaller than tat), which implies\n",
    "\\begin{equation}\n",
    "    0.9 \\lesssim \\alpha_p \\lesssim 1.1 \\quad 0 < |\\mathbf{p}_{pT}| \\lesssim 0.1 \\text{GeV} \\quad |t'_{min}(\\alpha_p)| < |t'| \\lesssim 0.03 \\text{GeV}^2\n",
    "\\end{equation}\n",
    "One than tabulates the measured tagged deuteron structure functions in t', multiplied by $(t')^2/C_d$ to remove the pole factor, and extrapolates to the point t'=0\n",
    "\\begin{equation}\n",
    "    F_{[UU,T]n}(\\tilde{x},Q^2) = \\lim_{t'\\rightarrow 0} \\left[\\frac{(t')^2}{c_d}F_{[UU,T]d}(x,Q^2;\\alpha_p,t') \\right]\n",
    "\\end{equation}\n",
    "In the region of t' sufficiently close to zero, where there are no other singularities in t' besides the nucleon pole, the extrapolation can be performed through a polynomial fit and is model-independent."
   ]
  },
  {
   "cell_type": "code",
   "execution_count": 2,
   "metadata": {},
   "outputs": [
    {
     "data": {
      "application/vnd.jupyter.widget-view+json": {
       "model_id": "9d8c1553ad6547fda154d1d37bdc99d8",
       "version_major": 2,
       "version_minor": 0
      },
      "text/plain": [
       "HTMLMath(value='<center><b><h1>Differential cross sections.</h1></b></center>\\n    <hr>\\n    <figure style=\"fl…"
      ]
     },
     "metadata": {},
     "output_type": "display_data"
    },
    {
     "data": {
      "application/vnd.jupyter.widget-view+json": {
       "model_id": "1e41bf376d304a5eb9703877650176c6",
       "version_major": 2,
       "version_minor": 0
      },
      "text/plain": [
       "HBox(children=(Text(value='1e6', description='$L_{int}$ $(nb^{-1})$', layout=Layout(width='480px'), placeholde…"
      ]
     },
     "metadata": {},
     "output_type": "display_data"
    },
    {
     "data": {
      "application/vnd.jupyter.widget-view+json": {
       "model_id": "2084b281ca5a402ca3f57e5b0e3e9816",
       "version_major": 2,
       "version_minor": 0
      },
      "text/plain": [
       "HBox(children=(Text(value='0.04', description='Bjorken $x$ lower bound', layout=Layout(width='480px'), placeho…"
      ]
     },
     "metadata": {},
     "output_type": "display_data"
    },
    {
     "data": {
      "application/vnd.jupyter.widget-view+json": {
       "model_id": "2e3a7befecf240bf9798e5e05b12e7ec",
       "version_major": 2,
       "version_minor": 0
      },
      "text/plain": [
       "HBox(children=(Text(value='30e6', description='$Q^2$ lower bound $(MeV^2)$', layout=Layout(width='480px'), pla…"
      ]
     },
     "metadata": {},
     "output_type": "display_data"
    },
    {
     "data": {
      "application/vnd.jupyter.widget-view+json": {
       "model_id": "f73e48fc5c424b9abb081b77079d0ba7",
       "version_major": 2,
       "version_minor": 0
      },
      "text/plain": [
       "HBox(children=(Text(value='0.98', description='$\\\\alpha_p$ lower bound', layout=Layout(width='480px'), placeho…"
      ]
     },
     "metadata": {},
     "output_type": "display_data"
    },
    {
     "data": {
      "application/vnd.jupyter.widget-view+json": {
       "model_id": "77ff6548d62043e0a56c791f3b9413e1",
       "version_major": 2,
       "version_minor": 0
      },
      "text/plain": [
       "HBox(children=(RadioButtons(description='kinematic variable:', layout=Layout(width='480px'), options=((\"t' (Me…"
      ]
     },
     "metadata": {},
     "output_type": "display_data"
    },
    {
     "data": {
      "application/vnd.jupyter.widget-view+json": {
       "model_id": "4b844bc43ef9447a8408b28dba89dc3e",
       "version_major": 2,
       "version_minor": 0
      },
      "text/plain": [
       "HBox(children=(Text(value='0', description='kin. var. upper bound $(MeV/MeV^2)$', layout=Layout(width='480px')…"
      ]
     },
     "metadata": {},
     "output_type": "display_data"
    },
    {
     "data": {
      "application/vnd.jupyter.widget-view+json": {
       "model_id": "dea83fbe39144709b359176ee9f00547",
       "version_major": 2,
       "version_minor": 0
      },
      "text/plain": [
       "HBox(children=(Dropdown(description='Structure Function:', index=3, layout=Layout(width='480px'), options=(('C…"
      ]
     },
     "metadata": {},
     "output_type": "display_data"
    },
    {
     "data": {
      "application/vnd.jupyter.widget-view+json": {
       "model_id": "ea45c4d1fd2f4213bfc2a8e001f0b79d",
       "version_major": 2,
       "version_minor": 0
      },
      "text/plain": [
       "HBox(children=(RadioButtons(description='cross section $(nb/GeV^4)$:', layout=Layout(width='480px'), options=(…"
      ]
     },
     "metadata": {},
     "output_type": "display_data"
    },
    {
     "data": {
      "application/vnd.jupyter.widget-view+json": {
       "model_id": "0852e2a9ac224d4c808b852ccd956ab7",
       "version_major": 2,
       "version_minor": 0
      },
      "text/plain": [
       "HBox(children=(Checkbox(value=True, description='logaritmic y-axis', layout=Layout(width='480px'), style=Descr…"
      ]
     },
     "metadata": {},
     "output_type": "display_data"
    },
    {
     "data": {
      "application/vnd.jupyter.widget-view+json": {
       "model_id": "530d4d298d7c46929e3da8f6c5245ebf",
       "version_major": 2,
       "version_minor": 0
      },
      "text/plain": [
       "HBox(children=(Text(value='10', description='MC iterations:', layout=Layout(width='480px'), placeholder='nitn'…"
      ]
     },
     "metadata": {},
     "output_type": "display_data"
    },
    {
     "data": {
      "application/vnd.jupyter.widget-view+json": {
       "model_id": "7e6f092e5e974eeb835f9403cad1ad87",
       "version_major": 2,
       "version_minor": 0
      },
      "text/plain": [
       "HBox(children=(Button(description='Make bin average figure', icon='check', layout=Layout(width='initial'), sty…"
      ]
     },
     "metadata": {},
     "output_type": "display_data"
    },
    {
     "data": {
      "application/vnd.jupyter.widget-view+json": {
       "model_id": "935f0f717d9b4cb7a7eb807bab605c0f",
       "version_major": 2,
       "version_minor": 0
      },
      "text/plain": [
       "Output()"
      ]
     },
     "metadata": {},
     "output_type": "display_data"
    }
   ],
   "source": [
    "out = Output()\n",
    "make_figure_cross_section(out)\n",
    "out"
   ]
  },
  {
   "cell_type": "markdown",
   "metadata": {},
   "source": [
    "# Bibliography\n",
    "[1] Cosyn, W. and Weiss, C. (2019). Polarized electron-deuteron deep-inelastic scattering with spectator nucleon tagging.\n",
    "\n",
    "[2] Cosyn, W. and Weiss, C. (2019). Neutron spin structure from polarized deuteron DIS with proton tagging\n",
    "\n",
    "[3] Griswold, B. (2014, january 24). What is the Universe Made Of? NASA. Retrieved from https://map.gsfc.nasa.gov/universe/uni_matter.html\n",
    "\n",
    "[4] Swinburne University of Technology. Baryonic Matter. Cosmos. Retrieved from http://astronomy.swin.edu.au/cosmos/B/Baryonic+Matter\n",
    "\n",
    "[5] jimblom. What is Electricity? sparkfun. Retrieved from https://learn.sparkfun.com/tutorials/what-is-electricity/flowing-charges\n",
    "\n",
    "[6] Wenner, S. (2011, october 23). What size are the particles of an atom in relation to its size? Quora. Retrieved from https://www.quora.com/What-size-are-the-particles-of-an-atom-in-relation-to-its-size\n",
    "\n",
    "[7] Silverman, D. (2013, august 19). Where Our Mass Comes From. Energy blog. Retrieved from https://sites.uci.edu/energyobserver/2013/08/19/where-our-mass-comes-from/\n",
    "\n",
    "[8] (2020, march 25). Free neutron decay. Wikipedia. Retrieved from https://en.wikipedia.org/wiki/Free_neutron_decay\n",
    "\n",
    "[9] National Academies of Sciences, Engineering, and Medicine 2018. An Assessment of U.S.-Based Electron-Ion Collider Science. Washington, DC: The National Academies Press. https://doi.org/10.17226/25171.\n",
    "\n",
    "[10] Nuclear Science Advisory Committee (NSAC) 2015. Reaching for the horizon: The 2015 long range plan for nuclear science. Washington, DC: Department of energy. https://science.osti.gov/-/media/np/nsac/pdf/2015LRP/2015_LRPNS_091815.pdf?la=en&hash=F731E22D31731E61C64E4B684377314FD4A0D6C7\n",
    "\n",
    "[11] (2020, march 19). Touchscreen. Wikipedia. Retrieved from https://en.wikipedia.org/wiki/Touchscreen\n",
    "\n",
    "[12] (2020, april 10). World Wide Web. Wikipedia. Retrieved from https://en.wikipedia.org/wiki/World_Wide_Web"
   ]
  },
  {
   "cell_type": "code",
   "execution_count": null,
   "metadata": {},
   "outputs": [],
   "source": []
  }
 ],
 "metadata": {
  "kernelspec": {
   "display_name": "Python 3",
   "language": "python",
   "name": "python3"
  },
  "language_info": {
   "codemirror_mode": {
    "name": "ipython",
    "version": 3
   },
   "file_extension": ".py",
   "mimetype": "text/x-python",
   "name": "python",
   "nbconvert_exporter": "python",
   "pygments_lexer": "ipython3",
   "version": "3.7.6"
  }
 },
 "nbformat": 4,
 "nbformat_minor": 4
}
