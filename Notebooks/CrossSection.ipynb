{
 "cells": [
  {
   "cell_type": "code",
   "execution_count": 1,
   "metadata": {},
   "outputs": [
    {
     "name": "stderr",
     "output_type": "stream",
     "text": [
      "[NbConvertApp] Converting notebook Programs.ipynb to script\n",
      "[NbConvertApp] Writing 272521 bytes to Programs.py\n"
     ]
    },
    {
     "data": {
      "application/javascript": [
       "\n",
       "IPython.OutputArea.prototype._should_scroll = function(lines) {\n",
       "    return false;\n",
       "}\n"
      ],
      "text/plain": [
       "<IPython.core.display.Javascript object>"
      ]
     },
     "metadata": {},
     "output_type": "display_data"
    }
   ],
   "source": [
    "!jupyter nbconvert --to script Programs.ipynb\n",
    "from Programs import *\n",
    "error_settings = np.seterr(all='ignore')"
   ]
  },
  {
   "cell_type": "markdown",
   "metadata": {},
   "source": [
    "<figure style=\"border: 1px solid #000; display: inline-block;padding:20px;margin:20px\">\n",
    "    <img src=\"figures/collinear_frame.png\" width =\"300\" />\n",
    "    <figcaption style=\"text-align:center\">Figure: A collinear frame of the electron deuteron scattering with a proton final state. Such a frame is characterized by the fact that the deuteron and electron momentum exchange, or virtual photon momentum, are collinear and form the z-axis. A collinear frame is not unique but rather a class of frames that are connected via longitudinal boost (boosts along the z-axis).</figcaption>\n",
    "</figure>\n",
    "\n",
    "This projects involves 4 notebooks, each dealing with a different step of the “polarized electron- deuteron deep inelastic scattering with spectator nucleon tagging”. For the full discussion of this we refer to the paper published by W. Cosyn and C. Weiss under the same name [arXiv:2006.03033](https://arxiv.org/abs/2006.03033). This is the first notebook that discusses how the experimental data of the tagged deuteron can be used in order to obtain data on the free neutron in this case, the other notebooks are:\n",
    "\n",
    "- Programs: this notebook contains the code necessary to run the notebooks and is not meant for the user to interact with directly. \n",
    "- TheoreticalDiscription: Here some theoretical background pertaining to the description of the electron-deuteron scattering is given. Such as the frame that is used and the subsequent way of noting the four-momentum of the particles as well as the variety of kinematic variables that will be used. A way of evaluating a nucleon one-body operator that is coupled to the deuteron will be discussed and how it leads to the light-front momentum distribution functions of the neutron in the deuteron. This will prove paramount to find the link between the deuteron and free neutron, a link that will be further explained in the subsequent notebooks.\n",
    "- CrossSection: In this notebook the differential cross section of polarized electron-deuteron scattering is discussed. How the cross section is made up of a sum of terms, each one consisting of an invariant structure function that describes the effect of different polarizations of the electron deuteron and virtual photon. Some of the structure functions are multiplied by the virtual photon polarization parameter $\\epsilon$ that will be defined and effective polarizations parameters. How the tagged deuteron structure functions are related to the free neutron ones is also noted here as well as how the free neutron ones can be extracted through experiments. The user is then able to make a figure  of the differential cross section in function of a chosen kinematic variable.\n",
    "- Asymmetry: This notebook will look at different spin asymmetries that can be defined using the differential cross section that is defined in the CrossSection notebook. Two asymmetries will be looked at in particular, the first will establish a link between the deuteron spin asymmetry that will be measured in experiments and the free neutron asymmetry that can be inferred from it. The second asymmetry can be used to infer the contribution of certain waves to the overall angular momentum wave function of the deuteron. Both will require the connection between the tagged deuteron structure functions and the free neutron ones, a discussion that was already started in CrossSection and will be continued here. After the theoretical side the user will be able to plot the different asymmetries and other terms that will appear in the discussion.\n",
    "\n",
    "For the purpose here the experimental setup that will be used consists of a polarized electron and a polarized deuteron where the final state nucleon that will be detected is a proton. A deuteron is the core of deuterium or heavy water ($^2H$) and exist of a proton and neutron that are bound in a stable ensemble with charge +1e. The scattering between the electron and deuteron is mediated by a virtual photon, to describe the particles involved a choice of frame has to be made. A collinear frame will be used here, this can be seen in the above figure, where the z-axis is defined as the axis where the deuteron and virtual photon are collinear. In this work the LF components in the collinear frame will be used so that the deuteron and virtual photon four-momenta are given by\n",
    "\\begin{align}\n",
    "\tp_d &= \\left[p_d^+,\\frac{m_d^2}{p_d^+},\\mathbf{0}_T \\right], \\\\\n",
    "q &= \\left[-\\xi_d p_d^+,\\frac{Q^2}{\\xi_d p_d^+}, \\mathbf{0}_T \\right], \\\\\n",
    "\\end{align}\n",
    "where $\\xi_d$ is related to $x_d$ and $\\gamma$, which will be defined later, as follows\n",
    "\\begin{equation}\n",
    "\\xi_d = \\frac{2x_d}{1+\\sqrt{1+\\gamma^2}}.\n",
    "\\end{equation}\n",
    "\n",
    "The experiment will be preformed at the electron ion collider (EIC), this collider with its higher luminosity, degree of polarization for both the electrons and deuteron and collision energy will allow to obtain a high degree of precision on the measurements. This will lead to both a better understanding of the mechanisms at play and in this particular case measurements of the free neutron with a higher precision then before.\n"
   ]
  },
  {
   "cell_type": "markdown",
   "metadata": {},
   "source": [
    "## Kinematic variables\n",
    "First some conventional scaling variables are defined, such as the conventional Bjorken scaling variable for scattering of the deuteron $x_d$\n",
    "\\begin{align}\n",
    "    x_d &\\equiv \\frac{-q^2}{2(p_dq)}, \\\\\n",
    "    y &\\equiv \\frac{(p_dq)}{(p_dp_e)} \\equiv \\frac{Q^2}{x_d(s_{ed}-m_d^2)},\n",
    "\\end{align}\n",
    "where $s_{ed} = (p_e+p_d)^2$ is the square of the C.O.M. energy of the electron deuteron system and $m_d$ the deuteron mass. The effective Bjorken variable for scattering from a nucleon in the deuteron in the absence of nuclear binding is the rescaled variable\n",
    "\\begin{equation}\n",
    "    x = 2x_d,\n",
    "\\end{equation}\n",
    "and q is the 4-momentum transfer between the initial and final electron, which can also be seen as the 4-momentum of the virtual photon that is exchanged\n",
    "\\begin{equation}\n",
    "    q = p_e - p_{e'} \\Rightarrow Q^2 = -q^2 > 0.\n",
    "\\end{equation}\n",
    "Two additional kinematic variable can be introduced, $\\gamma$ and the virtual photon polarization parameter $\\epsilon$\n",
    "\\begin{align}\n",
    "    \\gamma^2 &\\equiv \\frac{m_d^2Q^2}{(p_dq)^2} = \\frac{4x_dm_d^2}{Q^2}, \\\\\n",
    "    \\epsilon &\\equiv \\frac{1-y-\\gamma^2y^2/4}{1-y+y^2/2+\\gamma^2y^2/4}.\n",
    "\\end{align}\n",
    "\n",
    "A very usefull variable is the fraction $\\alpha_p$ defined by\n",
    "\\begin{equation}\n",
    "    \\alpha_p = \\frac{2p_p^+}{p_d^+},\n",
    "\\end{equation}\n",
    "together with the transverse proton momentum $\\mathbf{p}_{pT}$ it specifies the proton momentum LF components in the collinear frame.\n",
    "\n",
    "## Cross section\n",
    "New invariant structure functions dependend on $x_d$ and $Q^2$, as well as on variables specifying the momentum of the final-state proton, are introduced\n",
    "\\begin{equation}\n",
    "    F_{[UU,T]d} \\equiv F_{[UU,T]d}(x,Q^2,{p_p}).\n",
    "\\end{equation}\n",
    "A notation will be used to identify the structure functions corresponding to different electron, deuteron and virtual photon polarizations\n",
    "\\begin{equation}\n",
    "    F_{[electron-deuteron,photon]} =\\left\\{ \\begin{array}{l}\n",
    "    electron &= U,L\\\\\n",
    "    deuteron &= U,S_L,S_T,T_{LL},T_{LT},T_{TT}\\\\\n",
    "    photon &= L,T\n",
    "    \\end{array}\\right.\n",
    "\\end{equation}\n",
    "Where their relation to the traditional structure functions are given by\n",
    "\\begin{align}\n",
    "    F_{[UU,T]d} &= 2F_{1d}, \\quad F_{[UU,L]d} = (1+\\gamma^2)\\frac{F_{2d}}{x_d} - 2F_{1d} ,\\\\\n",
    "    F_{[LS_{L}]d} &= 2(g_{1d}-\\gamma^2g_{2d}), \\quad F_{[LS_{T}]d} = -2\\gamma(g_{1d}+g_{2d}).\n",
    "\\end{align}\n",
    "\n",
    "The differential cross section of polarized tagged DIS (given in Kinematic variables) then becomes\n",
    "\\begin{align}\n",
    "d\\sigma[ed \\rightarrow e'Xp] &=  \\frac{2\\pi\\alpha_{em}^2y^2}{Q^4(1-\\epsilon)}dx_ddQ^2\\frac{d\\phi_{e'}}{2\\pi}(F_{[U]d} + F_{[L]d})\\frac{1}{[2(2\\pi)^3]}\\frac{d^3p_p}{E_p}, \\\\\n",
    "F_{[U]d} &= F_{[UU,T]d} + \\epsilon F_{[UU,L]d} + T_{LL}(F_{[UT_{LL},T]d} + \\epsilon F_{[UT_{LL},L]d}) \\\\\n",
    "&+ \\sqrt{2\\epsilon(1+\\epsilon)}S_{T}\\sin\\phi_SF_{[US_T]d} + \\sqrt{2\\epsilon(1+\\epsilon)}T_{LT}\\cos\\phi_{T_L} F_{[UT_{LT}]d} \\\\\n",
    "&+ \\epsilon T_{TT}\\cos2\\phi_{T_T}F_{[UT_{TT}]d}, \\\\\n",
    "F_{[L]d} &= (2\\sigma_e) \\{\\sqrt{1-\\epsilon^2}S_L F_{[LS_L]d} + \\sqrt{2\\epsilon(1+\\epsilon)}S_T\\cos\\phi_S F_{[LS_{T}]d} \\\\\n",
    "\t&+ \\sqrt{2\\epsilon(1+\\epsilon)}T_{LT}\\sin\\phi_{T_L} F_{[LT_{LT}]d}\\}.\n",
    "\\end{align}\n",
    "With $F_{[U]d}$ the structure functions independent of the electron helicity (U) and $F_{[L]d}$ which are proportional to the electron helicity (L). This differential cross section is valid for the average over the azimuthal angle $\\phi_p$ of the spectator proton. The tagged structure functions sometimes appear multiplied with the virtual photon parameter $\\epsilon$ which is related to the electron kinematics. Besides this the structure functions are also occasionally multiplied with different factors called the effective polarization factors. They can be divided into two categories, the effective vector polarizations which are $S_L$, $S_T\\cos\\phi_s$ and $S_T\\sin\\phi_s$. The other kind are the effective tensor polarizations and are $T_{LL}$, $T_{LT}\\cos\\phi_{T_L}$, $T_{LT}\\sin\\phi_{T_L}$ and $T_{TT}\\cos 2\\phi_{T_T}$. They are the result of the contractions of the deuteron polarization 4-vector and 4-tensor with the kinematic vectors of the scattering process. For their full definition and derivation we refer to the paper [arXiv:2006.03033](https://arxiv.org/abs/2006.03033). "
   ]
  },
  {
   "cell_type": "markdown",
   "metadata": {},
   "source": [
    "## Unpolarized electron scattering\n",
    "Unpolarized electron scattering involves the symmetric parts of the deuteron and neutron tensor. Using these one obtains expressions for the tagged deuteron structure functions and their relation to the free neutron structure functions\n",
    "\\begin{align}\n",
    "    F_{[UU,T]d}(x,Q^2;\\alpha_p,\\mathbf{p}_{pT}) &= [2(2\\pi)^3]\\frac{2\\mathcal{S}_d(\\alpha_p,\\mathbf{p}_{pT})[\\text{unpol}]}{2-\\alpha_p}F_{[UU,T]n}(\\tilde{x},Q^2), \\\\\n",
    "    F_{[UU,L]d}(x,Q^2;\\alpha_p,\\mathbf{p}_{pT}) &= [2(2\\pi)^3]\\frac{2\\mathcal{S}_d(\\alpha_p,\\mathbf{p}_{pT})[\\text{unpol}]}{2-\\alpha_p}F_{[UU,L]n}(\\tilde{x},Q^2), \\\\\n",
    "    \\tilde{x} &\\equiv \\frac{x}{2-\\alpha_p}.\n",
    "\\end{align}\n",
    "$\\tilde{x}$ is the effective scaling variable for scattering on the neutron, which takes into account its longitudinal LF momentum in the deuteron. These expressions are valid in the DIS limit $Q^2 \\gg m^2$, neglecting kinematic corrections $\\mathcal{O}(m^2/Q^2)$. The corresponding expressions for the tagged deuteron structure functions $F_{1d}$ and $F_{2d}$ are\n",
    "\\begin{align}\n",
    "    F_{1d}(x,Q^2;\\alpha_p,\\mathbf{p}_{pT}) &= [2(2\\pi)^3]\\frac{2\\mathcal{S}_d(\\alpha_p,\\mathbf{p}_{pT})[\\text{unpol}]}{2-\\alpha_p}F_{1n}(\\tilde{x},Q^2), \\\\\n",
    "    F_{2d}(x,Q^2;\\alpha_p,\\mathbf{p}_{pT}) &= [2(2\\pi)^3]\\mathcal{S}_d(\\alpha_p,\\mathbf{p}_{pT})[\\text{unpol}]F_{2n}(\\tilde{x},Q^2).\n",
    "\\end{align}\n",
    "The tagged deuteron structure function $F_{2d}$ and the neuteron structure function $F_{2n}$ are related directly by the helicity independent neutron momentum distribution in the deuteron defined as $\\mathcal{S}_d$. For a further explenation and how this is constructed we refer to the [TheoreticalDescription](TheoreticalDescription.ipynb) notebook.\n",
    "\n",
    "A similar relation between the tagged deuteron tensor structure function and the free neutron structure functions can be constructed using the helicity independent neutron momentum distribution. The relation between the deuteron vector structure function and the neutron ones is comparible with the relation given above with the exception that the helicity dependent neutron momentum distribution in the deuteron ensemble is used, given by $\\Delta \\mathcal{S}_d$. For these relations we refer to the [Asymmetry](Asymmetry.ipynb) notebook as they will be used there excplicitly.\n",
    "\n",
    "## Pole extrapolation of structure functions\n",
    "<figure style=\"border: 1px solid #000; display: inline-block;padding:20px;margin:20px;\">\n",
    "    <img src=\"figures/on-shell_extrapolation.png\" width =\"300\" />\n",
    "    <figcaption style=\"text-align:center\">Figure: Kinematic variables $\\alpha_p$ and t' in neutron structure meassurements with pole extrapolation. The tagged structure functions are meassured at fixed $\\alpha_p$ as functions of $|\\mathbf{p}_{pT}| > 0$, corresponding to a certain range in t' (solid vertical line). The physical region (shaded area) ends at $|\\mathbf{p}_{pT}| = 0$. The measurements are then extrapolated to $t' \\rightarrow 0$ at fixed $\\alpha_p$ (dotted line).</figcaption>\n",
    "</figure>\n",
    "\n",
    "Here the extraction of the free neutron structure functions from tagged deuteron DIS measurments will be studied. In general, for arbitrary nonzero values of the proton recoil momentum, the tagged cross section is modified by initial-state nuclear binding effects beyond those included in the pn LF wave function, and by final-state interactions beyond the IA. These effects can be eliminated by pole extrapolation in the proton recoil momentum, which relies on the analytic properties of cross sections. The method permits model-independent extraction of free neutron structure. Here its use in the unpolarized case will be reviewed.\n",
    "\n",
    "To discuss the analytic properties, one regards the tagged DIS cross section as a function of the proton LF momentum fraction $\\alpha_p$ and the invariant momentum transfer between the deuteron and the proton.\n",
    "\\begin{equation}\n",
    "    t \\equiv (p_d - p_p)^2 \\quad t' \\equiv t-m^2\n",
    "\\end{equation}\n",
    "which is related to the proton transverse pomentum $|\\mathbf{p}_{pT}|$ as\n",
    "\\begin{equation}\n",
    "    t' = \\frac{\\alpha_p(2-\\alpha_p)m_d^2-4m^2}{2\\alpha_p}-\\frac{2|\\mathbf{p}_{pT}|^2}{\\alpha_p}\n",
    "\\end{equation}\n",
    "The physical region in these variales is shown in fig 11. For fixed $\\alpha_p$, the kinematic limit of t' is\n",
    "\\begin{equation}\n",
    "    t'_{min}(\\alpha_p) = \\frac{\\alpha_p(2-\\alpha_p)m_d^2 -4m^2}{2\\alpha_p}\n",
    "\\end{equation}\n",
    "the absolute limit is attained at $\\alpha_p=2m/m_d$ and given by\n",
    "\\begin{equation}\n",
    "    t'_{min} = m_d\\epsilon_d\n",
    "\\end{equation}\n",
    "where $\\epsilon_d$ is the deuteron binding energy.\n",
    "\n",
    "<figure style=\"border: 1px solid #000; display: inline-block;padding:20px;margin:20px;\">\n",
    "    <img src=\"figures/neutron_exchange.png\" width =\"150\" />\n",
    "    <figcaption style=\"text-align:center\">Figure: Neutron pole of the tagged DIS amplitude $e+d \\rightarrow e' + X +p$. It corresponds to \"neutron exchange\" between the deuteron breakup and the DIS process. The virtuality $t'=t-m^2$ is fixed kinematically by the proton recoil momentum.</figcaption>\n",
    "</figure>\n",
    "\n",
    "On general grounds, the $e+d \\rightarrow e' + X$ scattering amplitude has a pole at $t=m^2$, or $t'=0$, corresponding to \"neutron exchange\" between the deuteron breakup and the DIS process (see fig 12)\n",
    "\\begin{equation}\n",
    "    Amp(e+d\\rightarrow e'+X+p) \\sim Amp(d\\rightarrow n+p)\\times \\frac{1}{t'}\\times Amp(e+n \\rightarrow e'+X)\n",
    "\\end{equation}\n",
    "The cross section is given by the squared modulus of the amplitude, summed over all final states X. In the vicinity of $t'=0$ the tagged structure functions therefore behave as\n",
    "\\begin{align}\n",
    "    F_{[UU,T]d}(x,Q^2;\\alpha_p,\\mathbf{p}_{pT}) &\\sim [2(2\\pi)^3]\\frac{C_d}{(t')^2} F_{[UU,T]n}(\\tilde{x},Q^2) \\\\\n",
    "    &+ (\\text{terms less singular for t'} \\rightarrow 0)\n",
    "\\end{align}\n",
    "and similarly for $F_{[UU,L]d}$. Here $C_d$ is, up to a factor, the square of the $d \\rightarrow n + p$ vertex at the pole point, and $F_{[UU,T]n}(\\tilde{x},Q^2)$ is the free neutron structure function, evaluated at the effective scaling variable $\\tilde{x}$.\n",
    "\n",
    "The unpolarized tagged deuteron differential cross section is thus given by\n",
    "\\begin{equation}\n",
    "    d\\sigma[ed \\rightarrow e'Xp] =  \\frac{2\\pi\\alpha_{em}^2y^2}{Q^4(1-\\epsilon)}dx_ddQ^2\\frac{d\\phi_{e'}}{2\\pi}(F_{[UU,T]d} + \\epsilon F_{[UU,L]d})\\frac{1}{[2(2\\pi)^3]}\\frac{\\pi}{2}d\\alpha_pd(-t')\n",
    "\\end{equation}\n",
    "Where using the relation between the tagged deuteron structure functions and the free neutron structure functions it is found that\n",
    "\\begin{equation}\n",
    "    d\\sigma[ed \\rightarrow e'Xp] =  \\frac{1}{16 \\pi}\\frac{\\alpha_{em}^2y^2}{Q^4(1-\\epsilon)}dx_ddQ^2[2(2\\pi)^3]\\frac{2f_d(\\alpha_p,\\mathbf{p}_{pT})[unpol]}{2-\\alpha_p}(F_{[UU,T]n} + \\epsilon F_{[UU,L]n})d\\alpha_pd(-t')\n",
    "\\end{equation}\n",
    "Where it is integrated out over the recol electron angle.\n",
    "\n",
    "The extraction of the free neutron structure function requires the measurement of the tagged deuteron structure function at a given $x$ and $Q^2$ as function of the recoil mproton momentum, at fixed $\\alpha_p$ and variable $\\mathbf{p}_{pT}$, corresponding to variable $|t'| > |t'_{min}(\\alpha_p)|$. The ranges of these variables should be chosen such that they correspond to nucleon CM momenta of the order of the typical nucleon momenta in the deuteron, $|\\mathbf{k}| \\lesssim 100 MeV$ (ideally, much smaller than that), which implies\n",
    "\\begin{equation}\n",
    "    0.9 \\lesssim \\alpha_p \\lesssim 1.1 \\quad 0 < |\\mathbf{p}_{pT}| \\lesssim 0.1 \\text{GeV} \\quad |t'_{min}(\\alpha_p)| < |t'| \\lesssim 0.03 \\text{GeV}^2\n",
    "\\end{equation}\n",
    "One than tabulates the measured tagged deuteron structure functions in t', multiplied by $(t')^2/C_d$ to remove the pole factor, and extrapolates to the point t'=0\n",
    "\\begin{equation}\n",
    "    F_{[UU,T]n}(\\tilde{x},Q^2) = \\lim_{t'\\rightarrow 0} \\left[\\frac{(t')^2}{c_d}F_{[UU,T]d}(x,Q^2;\\alpha_p,t') \\right]\n",
    "\\end{equation}\n",
    "In the region of t' sufficiently close to zero, where there are no other singularities in t' besides the nucleon pole, the extrapolation can be performed through a polynomial fit and is model-independent."
   ]
  },
  {
   "cell_type": "code",
   "execution_count": 2,
   "metadata": {},
   "outputs": [
    {
     "data": {
      "application/vnd.jupyter.widget-view+json": {
       "model_id": "4d6ae24cc2ac4ca29581259d814a6325",
       "version_major": 2,
       "version_minor": 0
      },
      "text/plain": [
       "HTMLMath(value='<center><b><h1>Differential cross sections</h1></b></center>\\n    <hr>\\n    <figure style=\"flo…"
      ]
     },
     "metadata": {},
     "output_type": "display_data"
    },
    {
     "data": {
      "application/vnd.jupyter.widget-view+json": {
       "model_id": "12bac481f19d4a3baf41e2eb19612365",
       "version_major": 2,
       "version_minor": 0
      },
      "text/plain": [
       "HBox(children=(HTMLMath(value='The integrated luminosity in $nb^{-1}$.<hr>', layout=Layout(width='50%'), style…"
      ]
     },
     "metadata": {},
     "output_type": "display_data"
    },
    {
     "data": {
      "application/vnd.jupyter.widget-view+json": {
       "model_id": "50a2c7fe19624f8992170add1c375aee",
       "version_major": 2,
       "version_minor": 0
      },
      "text/plain": [
       "HBox(children=(HTMLMath(value='The squared electron-nucleon center-of-mass energy in $MeV^2$.<hr>', layout=Lay…"
      ]
     },
     "metadata": {},
     "output_type": "display_data"
    },
    {
     "data": {
      "application/vnd.jupyter.widget-view+json": {
       "model_id": "85800951d0bb4f78ae008292424212e8",
       "version_major": 2,
       "version_minor": 0
      },
      "text/plain": [
       "HBox(children=(HTMLMath(value='The effective Bjorken scaling variable for scattering from a nucleon in\\n    th…"
      ]
     },
     "metadata": {},
     "output_type": "display_data"
    },
    {
     "data": {
      "application/vnd.jupyter.widget-view+json": {
       "model_id": "7ea1962c540d4f5d90e90a9d5c8d01fd",
       "version_major": 2,
       "version_minor": 0
      },
      "text/plain": [
       "HBox(children=(HTMLMath(value='The upper bound of the bin for the effective Bjorken scaling variable\\n    $x$ …"
      ]
     },
     "metadata": {},
     "output_type": "display_data"
    },
    {
     "data": {
      "application/vnd.jupyter.widget-view+json": {
       "model_id": "521cf9e35069445eb1bc7a7976d18f00",
       "version_major": 2,
       "version_minor": 0
      },
      "text/plain": [
       "HBox(children=(HTMLMath(value=\"The electron four-momentum transfer is given by $q=p_e-p_{e'}$. Using\\n    this…"
      ]
     },
     "metadata": {},
     "output_type": "display_data"
    },
    {
     "data": {
      "application/vnd.jupyter.widget-view+json": {
       "model_id": "d4302826d295407aaf77a002a3bd84a1",
       "version_major": 2,
       "version_minor": 0
      },
      "text/plain": [
       "HBox(children=(HTMLMath(value='The upper bound of the $Q^2$ bin can be given here in $MeV^2$.<hr>', layout=Lay…"
      ]
     },
     "metadata": {},
     "output_type": "display_data"
    },
    {
     "data": {
      "application/vnd.jupyter.widget-view+json": {
       "model_id": "fcbac05278984e60bcdf25ea43f2f959",
       "version_major": 2,
       "version_minor": 0
      },
      "text/plain": [
       "HBox(children=(HTMLMath(value='The proton light front momentum fraction is defined as \\n    $\\\\alpha_p=\\\\frac{…"
      ]
     },
     "metadata": {},
     "output_type": "display_data"
    },
    {
     "data": {
      "application/vnd.jupyter.widget-view+json": {
       "model_id": "b98cbc04bbd148208dd657317bb68083",
       "version_major": 2,
       "version_minor": 0
      },
      "text/plain": [
       "HBox(children=(HTMLMath(value='The upper bound of the $\\\\alpha_p$ bin can be given here.<hr>', layout=Layout(w…"
      ]
     },
     "metadata": {},
     "output_type": "display_data"
    },
    {
     "data": {
      "application/vnd.jupyter.widget-view+json": {
       "model_id": "91f6c1923f6b4ae8802105e8c90374d6",
       "version_major": 2,
       "version_minor": 0
      },
      "text/plain": [
       "HBox(children=(HTMLMath(value=\"The kinematic variable that will be displayed on the x-axis of the\\n    figure …"
      ]
     },
     "metadata": {},
     "output_type": "display_data"
    },
    {
     "data": {
      "application/vnd.jupyter.widget-view+json": {
       "model_id": "092d8e9c395c48ab9ba17cb3f237d389",
       "version_major": 2,
       "version_minor": 0
      },
      "text/plain": [
       "HBox(children=(HTMLMath(value='The lower bound of the bin for the chosen kinematic variable.<hr>', layout=Layo…"
      ]
     },
     "metadata": {},
     "output_type": "display_data"
    },
    {
     "data": {
      "application/vnd.jupyter.widget-view+json": {
       "model_id": "519b8e59419540efab9ea3be5c61b299",
       "version_major": 2,
       "version_minor": 0
      },
      "text/plain": [
       "HBox(children=(HTMLMath(value='The upper bound of the bin for the chosen kinematic variable.<hr>', layout=Layo…"
      ]
     },
     "metadata": {},
     "output_type": "display_data"
    },
    {
     "data": {
      "application/vnd.jupyter.widget-view+json": {
       "model_id": "ddeb41ce63b144db85f9e0bd097c7d88",
       "version_major": 2,
       "version_minor": 0
      },
      "text/plain": [
       "HBox(children=(HTMLMath(value='The cross section is shown at different values for the chosen kinematic\\n    va…"
      ]
     },
     "metadata": {},
     "output_type": "display_data"
    },
    {
     "data": {
      "application/vnd.jupyter.widget-view+json": {
       "model_id": "f6488562f0e24eebbaf87bcd1314eeca",
       "version_major": 2,
       "version_minor": 0
      },
      "text/plain": [
       "HBox(children=(HTMLMath(value='The deuteron structure functions can be generated using different\\n    paramete…"
      ]
     },
     "metadata": {},
     "output_type": "display_data"
    },
    {
     "data": {
      "application/vnd.jupyter.widget-view+json": {
       "model_id": "701d86fa0ee84c12ad1a394e6ff98bc5",
       "version_major": 2,
       "version_minor": 0
      },
      "text/plain": [
       "HBox(children=(HTMLMath(value=\"Two different differential cross sections can be plotted on the y-axis, \\n    b…"
      ]
     },
     "metadata": {},
     "output_type": "display_data"
    },
    {
     "data": {
      "application/vnd.jupyter.widget-view+json": {
       "model_id": "c3b00048d6f54db38701b7c39b860c2a",
       "version_major": 2,
       "version_minor": 0
      },
      "text/plain": [
       "HBox(children=(HTMLMath(value=\"The kinematic variable that will be displayed on the x-axis of the figure\\n    …"
      ]
     },
     "metadata": {},
     "output_type": "display_data"
    },
    {
     "data": {
      "application/vnd.jupyter.widget-view+json": {
       "model_id": "f0fe69b49ac74e058dfe1af1160eed47",
       "version_major": 2,
       "version_minor": 0
      },
      "text/plain": [
       "HBox(children=(HTMLMath(value='By selecting this the differential cross section is displayed on a \\n    logari…"
      ]
     },
     "metadata": {},
     "output_type": "display_data"
    },
    {
     "data": {
      "application/vnd.jupyter.widget-view+json": {
       "model_id": "325c745d3be742e8bd625fef9792a0a6",
       "version_major": 2,
       "version_minor": 0
      },
      "text/plain": [
       "HBox(children=(HTMLMath(value='If a name is given here the figure is stored as following name.png.\\n    If no …"
      ]
     },
     "metadata": {},
     "output_type": "display_data"
    },
    {
     "data": {
      "application/vnd.jupyter.widget-view+json": {
       "model_id": "00923e6ae9864b67aab488b7bf636f74",
       "version_major": 2,
       "version_minor": 0
      },
      "text/plain": [
       "HBox(children=(HTMLMath(value='When the data has to be calculated using a monte carlo integration it will be\\n…"
      ]
     },
     "metadata": {},
     "output_type": "display_data"
    },
    {
     "data": {
      "application/vnd.jupyter.widget-view+json": {
       "model_id": "6f26f1889be14399bd216c2e6de60aa6",
       "version_major": 2,
       "version_minor": 0
      },
      "text/plain": [
       "HBox(children=(HTMLMath(value='The maximum amount of evaluations of the integral that is allowed in each\\n    …"
      ]
     },
     "metadata": {},
     "output_type": "display_data"
    },
    {
     "data": {
      "application/vnd.jupyter.widget-view+json": {
       "model_id": "b6ddf047eb754c84a0dc929fdbddd89b",
       "version_major": 2,
       "version_minor": 0
      },
      "text/plain": [
       "HBox(children=(HTMLMath(value='Pressing the <b>\"Make central bin figure\"</b> button will create a f\\n    igure…"
      ]
     },
     "metadata": {},
     "output_type": "display_data"
    },
    {
     "data": {
      "application/vnd.jupyter.widget-view+json": {
       "model_id": "efb895f3448d4e888cb19bc701de2dc2",
       "version_major": 2,
       "version_minor": 0
      },
      "text/plain": [
       "Output()"
      ]
     },
     "metadata": {},
     "output_type": "display_data"
    }
   ],
   "source": [
    "out = Output()\n",
    "make_figure_cross_section(out)\n",
    "out"
   ]
  },
  {
   "cell_type": "code",
   "execution_count": null,
   "metadata": {},
   "outputs": [],
   "source": []
  }
 ],
 "metadata": {
  "kernelspec": {
   "display_name": "Python 3",
   "language": "python",
   "name": "python3"
  },
  "language_info": {
   "codemirror_mode": {
    "name": "ipython",
    "version": 3
   },
   "file_extension": ".py",
   "mimetype": "text/x-python",
   "name": "python",
   "nbconvert_exporter": "python",
   "pygments_lexer": "ipython3",
   "version": "3.7.6"
  }
 },
 "nbformat": 4,
 "nbformat_minor": 4
}
