{
 "cells": [
  {
   "cell_type": "code",
   "execution_count": 1,
   "metadata": {
    "scrolled": true
   },
   "outputs": [
    {
     "name": "stderr",
     "output_type": "stream",
     "text": [
      "[NbConvertApp] Converting notebook Programs.ipynb to script\n",
      "[NbConvertApp] Writing 272521 bytes to Programs.py\n"
     ]
    },
    {
     "data": {
      "application/javascript": [
       "\n",
       "IPython.OutputArea.prototype._should_scroll = function(lines) {\n",
       "    return false;\n",
       "}\n"
      ],
      "text/plain": [
       "<IPython.core.display.Javascript object>"
      ]
     },
     "metadata": {},
     "output_type": "display_data"
    }
   ],
   "source": [
    "!jupyter nbconvert --to script Programs.ipynb\n",
    "from Programs import *\n",
    "error_settings = np.seterr(all='ignore')"
   ]
  },
  {
   "cell_type": "markdown",
   "metadata": {},
   "source": [
    "## Asymmetries\n",
    "Here the tagged deuteron asymmetries will be discussed. The differential cross section for polarized tagged electron-deuteron DIS is, as the name would suggest, depended on the polarization of the electron and the deuteron. The spin asymmetry is given by the division of differences and sums of differential cross sections. In the numerator the difference of differential cross sections for different spin states are given, the denominator is made up out of the sum of the differential cross sections from the numerator. For a differential cross section that is dependent on the spin states of the electron, $\\sigma_e $, and the deuteron, $\\lambda_d$ represented as $d\\sigma(\\sigma_e,\\lambda_d)$ one asymmetry can be given by\n",
    "\\begin{equation}\n",
    "A = \\frac{ d\\sigma(+,+)-d\\sigma(+,-)}{d\\sigma(+,+) + d\\sigma(+,-)}.\n",
    "\\end{equation}\n",
    "Many different asymmetries can be defined as shall be shown later. Measuring the spin asymmetry has certain advantages over measuring the differential cross section such as the cancelation of  terms between the numerator and denominator leading to an often smoother function, poles that are present in the numerator and denominator cancel each other. A spin asymmetry is a relative measurements achieving a higher precision much easier than an absolute measurement of the differential cross section.\n",
    "\n",
    "Asymmetries of the deuteron will be plotted and in the case of the differential cross section the pole extraction can be done by extrapolating to the $t’=0$ point. At this point, as will be shown below, one of the deuteron asymmetries will correspond to the free neutron one. Another asymmetry that will be checked will show the contribution of the D wave to the overall radial wave function. After the different asymmetries are introduced and discussed the user will be able to plot them for parameters that they are free to chose.\n",
    "\n",
    "## Kinematic variables\n",
    "The repetition of some scaling variables, such as the conventional Bjorken scaling variable for scattering of the deuteron $x_d$\n",
    "\\begin{align}\n",
    "    x_d &\\equiv \\frac{-q^2}{2(p_dq)}, \\\\\n",
    "    y &\\equiv \\frac{(p_dq)}{(p_dp_e)} = \\frac{Q^2}{x_d(s_{ed}-m_d^2)},\n",
    "\\end{align}\n",
    "where $s_{ed} = (p_e+p_d)^2$ is the square of the C.O.M. energy of the electron deuteron system and $m_d$ the deuteron mass. The effective Bjorken variable for scattering from a nucleon in the deuteron in the absence of nuclear binding is the rescaled variable\n",
    "\\begin{equation}\n",
    "    x = 2x_d.\n",
    "\\end{equation}\n",
    "The effective scaling variable for scattering of the neutron which takes into account the neutrons longitudinal LF momentum, via the use of $\\alpha_p$, in the deuteron is noted as $\\tilde{x}$ and defined as\n",
    "\\begin{equation}\n",
    "\t\\tilde{x} = \\frac{x}{2-\\alpha_p}.\n",
    "\\end{equation}\n",
    "The tagged deuteron structure functions are depended, among other variables, on the effective Bjorken scaling variable $x$, the corresponding neutron structure functions will depend on $\\tilde{x}$. The variable q is the 4-momentum transfer between the initial and final electron, which can be seen as the 4-momentum of the virtual photon that is exchanged\n",
    "\\begin{equation}\n",
    "    q = p_e - p_{e'} \\Rightarrow Q^2 = -q^2 > 0.\n",
    "\\end{equation}\n",
    "\n",
    "Two additional kinematic variables can be introduced, $\\gamma$ and the virtual photon polarization parameter $\\epsilon$\n",
    "\\begin{align}\n",
    "    \\gamma^2 &\\equiv \\frac{m_d^2Q^2}{(p_dq)^2} = \\frac{4x_dm_d^2}{Q^2}, \\\\\n",
    "    \\epsilon &\\equiv \\frac{1-y-\\gamma^2y^2/4}{1-y+y^2/2+\\gamma^2y^2/4}.\n",
    "\\end{align}\n",
    "\n",
    "## Cross section\n",
    "The differential cross section of polarized tagged DIS is given by\n",
    "\\begin{align}\n",
    "d\\sigma[ed \\rightarrow e'Xp] &=  \\frac{2\\pi\\alpha_{em}^2y^2}{Q^4(1-\\epsilon)}dx_ddQ^2\\frac{d\\phi_{e'}}{2\\pi}(F_{[U]d} + F_{[L]d})\\frac{1}{[2(2\\pi)^3]}\\frac{d^3p_p}{E_p}, \\\\\n",
    "F_{[U]d} &= F_{[UU,T]d} + \\epsilon F_{[UU,L]d} + T_{LL}(F_{[UT_{LL},T]d} + \\epsilon F_{[UT_{LL},L]d}) \\\\\n",
    "&+ \\sqrt{2\\epsilon(1+\\epsilon)}S_{T}\\sin\\phi_SF_{[US_T]d} + \\sqrt{2\\epsilon(1+\\epsilon)}T_{LT}\\cos\\phi_{T_L} F_{[UT_{LT}]d} \\\\\n",
    "&+ \\epsilon T_{TT}\\cos2\\phi_{T_T}F_{[UT_{TT}]d}, \\\\\n",
    "F_{[L]d} &= (2\\sigma_e) \\{\\sqrt{1-\\epsilon^2}S_L F_{[LS_L]d} + \\sqrt{2\\epsilon(1+\\epsilon)}S_T\\cos\\phi_S F_{[LS_{T}]d} \\\\\n",
    "\t&+ \\sqrt{2\\epsilon(1+\\epsilon)}T_{LT}\\sin\\phi_{T_L} F_{[LT_{LT}]d}\\}.\n",
    "\\end{align}\n",
    "With $F_{[U]d}$ the structure functions independent of the electron helicity (U) and $F_{[L]d}$ which are proportional to the electron helicity (L)."
   ]
  },
  {
   "cell_type": "markdown",
   "metadata": {},
   "source": [
    "## Vector asymmetry\n",
    "### Three-state asymmetries \n",
    "The sum of differential cross sections over all possible spin states will be looked at. This gives the average of the cross section in all spin states and is the unpolarized part or more specifically\n",
    "\\begin{align}\n",
    "    &\\frac{1}{6}[d\\sigma_{\\parallel}(+\\frac{1}{2},+1) + d\\sigma_{\\parallel}(-\\frac{1}{2},+1) + d\\sigma_{\\parallel}(+\\frac{1}{2},-1) + d\\sigma_{\\parallel}(-\\frac{1}{2},-1) + d\\sigma_{\\parallel}(+\\frac{1}{2},0) + d\\sigma_{\\parallel}(-\\frac{1}{2},0)] \\\\\n",
    "    &= [...](F_{[UU,T]d} + \\epsilon F_{[UU,L]d}),\n",
    "\\end{align}\n",
    "\n",
    "Isolating the electron spin-dependent structure functions $F_{[LS_L]}$ and $F_{[LS_T]}$ can be done by forming double spin differences with respect to both the deuteron and electron spin. This double spin difference gives\n",
    "\\begin{align}\n",
    "    &\\frac{1}{4}[d\\sigma_{\\parallel}(+\\frac{1}{2},+1) - d\\sigma_{\\parallel}(-\\frac{1}{2},+1) + d\\sigma_{\\parallel}(+\\frac{1}{2},-1) - d\\sigma_{\\parallel}(-\\frac{1}{2},-1)] \\\\\n",
    "    &= [...](D_{L \\parallel}F_{[LS_L]d} + D_{T \\parallel}F_{[LS_T]d}),\n",
    "\\end{align}\n",
    "where $D_{L \\parallel}$ and $D_{T \\parallel}$ are depolarization factors and given by\n",
    "\\begin{align}\n",
    "    D_{L \\parallel} &= \\frac{y(1-y/2)(1+\\gamma^2y/2)}{1-y+y/2+\\gamma^2y^2/4}, \\\\\n",
    "    D_{T \\parallel} &= \\frac{-\\gamma y(1-y-\\gamma^2y^2/4)}{1-y+y/2+\\gamma^2y^2/4}.\n",
    "\\end{align}\n",
    "For a full description and derivation of these factors we refer to [arXiv:2006.03033](https://arxiv.org/abs/2006.03033). The ratio of this difference with the full sum gives the three-state asymmetries $A_{\\parallel}^{(3)}$\n",
    "\\begin{align}\n",
    "    A_{\\parallel}^{(3)}[\\text{vector}] &= \\frac{\\frac{1}{4}[d\\sigma_{\\parallel}(+\\frac{1}{2},+1) - d\\sigma_{\\parallel}(-\\frac{1}{2},+1) + d\\sigma_{\\parallel}(+\\frac{1}{2},-1) - d\\sigma_{\\parallel}(-\\frac{1}{2},-1)]}{\\frac{1}{6}[d\\sigma_{\\parallel}(+\\frac{1}{2},+1) + d\\sigma_{\\parallel}(-\\frac{1}{2},+1) + d\\sigma_{\\parallel}(+\\frac{1}{2},-1) + d\\sigma_{\\parallel}(-\\frac{1}{2},-1) + d\\sigma_{\\parallel}(+\\frac{1}{2},0) + d\\sigma_{\\parallel}(-\\frac{1}{2},0)]} \\\\\n",
    "    &= \\frac{D_{L \\parallel}F_{[LS_L]d} + D_{T \\parallel}F_{[LS_T]d}}{F_{[UU,T]d} + \\epsilon F_{[UU,L]d}}.\n",
    "\\end{align}\n",
    "For the purposes here we are working in the DIS limit where $Q^2$ becomes big and $x$ is fixed leading to $\\gamma$ becoming small. Keeping only leading order terms in $\\gamma$ gives us up to a power correction $\\mathcal{O}(\\gamma)$\n",
    "\\begin{equation}\n",
    "    A_{\\parallel}^{(3)}[\\text{vector}] = \\frac{D_{L \\parallel}F_{[LS_L]d}}{F_{[UU,T]d} + \\epsilon F_{[UU,L]d}}.\n",
    "\\end{equation}\n",
    "\n",
    "Using the relation between the tagged deuteron structure functions and the free neutron structure functions it can be found how the free neutron three-state asymmetry is related to the tagged deuteron three-state asymmetry. For the full discussion on how the relation is obtained between the structure functions we refer to the paper [arXiv:2006.03033](https://arxiv.org/abs/2006.03033). Here the relation between the structure functions $F_{[LS_L]d}$ and $F_{[LS_L]n}$ is given\n",
    "\\begin{equation}\n",
    "    F_{[LS_L]d}(x,Q^2;\\alpha_p,\\mathbf{p}_{pT}) = [2(2\\pi)^3]\\frac{2\\Delta \\mathcal{S}_d(\\alpha_p,\\mathbf{p}_{pT})[\\text{pure} +1]}{2-\\alpha_p}F_{[LS_L]n}(\\tilde{x},Q^2).\n",
    "\\end{equation}\n",
    "The function $\\Delta \\mathcal{S}_d$ is the helicity-dependent LF momentum distribution of the neutron in the deuteron ensemble and has been discussed in the [TheoreticalDescription](TheoreticalDescription.ipynb) notebook. The unpolarized structure functions $F_{[UU,T]d}$ and $F_{[UU,L]d}$ are related to $F_{[UU,T]n}$ and $F_{[UU,L]n}$ by\n",
    "\\begin{equation}\n",
    "    \\{F_{[UU,T]d}(x,Q^2;\\alpha_p,\\mathbf{p}_{pT}),F_{[UU,L]d}(x,Q^2;\\alpha_p,\\mathbf{p}_{pT})\\} = [2(2\\pi)^3]\\frac{2 \\mathcal{S}_d(\\alpha_p,\\mathbf{p}_{pT})[\\text{unpol}]}{2-\\alpha_p}\\{F_{[UU,T]n}(\\tilde{x},Q^2),F_{[UU,L]n}(\\tilde{x},Q^2)\\}.\n",
    "\\end{equation}\n",
    "The function $\\mathcal{S}_d[\\text{unpol}]$ is the unpolarized helicity-independent LF momentum distribution, the notebook [TheoreticalDescription](TheoreticalDescription.ipynb) contains more information about this.\n",
    "\n",
    "Using all of this the three-state asymmetries becomes\n",
    "\\begin{align}\n",
    "    A_{\\parallel}^{(3)}[\\text{vector}](x,Q^2;\\alpha_p,\\mathbf{p}_{pT}) &= \\frac{D_{L \\parallel}F_{[LS_L]d}(x,Q^2;\\alpha_p,\\mathbf{p}_{pT})}{[F_{[UU,T]d} + \\epsilon F_{[UU,L]d}](x,Q^2;\\alpha_p,\\mathbf{p}_{pT})} \\\\\n",
    "    &= \\frac{\\Delta \\mathcal{S}_d(\\alpha_p,\\mathbf{p}_{pT})[\\text{pure} +1] D_{L \\parallel} F_{[LS_L]n}(\\tilde{x},Q^2)}{\\mathcal{S}_d(\\alpha_p,\\mathbf{p}_{pT})[\\text{unpol}][F_{[UU,T]n} + \\epsilon F_{[UU,L]n}](\\tilde{x},Q^2)} \\\\\n",
    "    &= D_d^{(3)}[\\text{vector}](\\alpha_p,\\mathbf{p}_{pT})A_{\\parallel n}(y,\\tilde{x},Q^2), \\\\\n",
    "    D_d^{(3)}[\\text{vector}](\\alpha_p,\\mathbf{p}_{pT}) &= \\frac{\\Delta \\mathcal{S}_d(\\alpha_p,\\mathbf{p}_{pT})[\\text{pure} +1]}{\\mathcal{S}_d(\\alpha_p,\\mathbf{p}_{pT})[\\text{unpol}]}, \\\\\n",
    "    A_{\\parallel n}(y,\\tilde{x},Q^2) &= \\frac{D_{L \\parallel} F_{[LS_L]n}(\\tilde{x},Q^2)}{[F_{[UU,T]n} + \\epsilon F_{[UU,L]n}](\\tilde{x},Q^2)},\n",
    "\\end{align}\n",
    "where $D_d^{(3)}$ is the ratio of the helicity-dependent and -independent neutron distribution functions in the deuteron and is called the deuteron depolarization factor. $A_{\\parallel n}$ is the ratio of the polarized and unpolarized neutron structure functions and is the neutron spin asymmetry.\n",
    "\n",
    "### Two-state asymmetries \n",
    "The two-state vecto asymmetry can be defined beginning by using the average of the cross section where the deuteron state is only $\\pm 1$, this gives\n",
    "\\begin{align}\n",
    "    &\\frac{1}{4}[d\\sigma_{\\parallel}(+\\frac{1}{2},+1) + d\\sigma_{\\parallel}(-\\frac{1}{2},+1) + d\\sigma_{\\parallel}(+\\frac{1}{2},-1) + d\\sigma_{\\parallel}(-\\frac{1}{2},-1)] \\\\\n",
    "    &= [...](F_{[UU,T]d} + \\epsilon F_{[UU,L]d} + D_{T_{LL},\\parallel}(F_{[UT_{LL},T]d} + \\epsilon F_{[UT_{LL},L]d})+D_{UT_{LT},\\parallel}F_{[UT_{LT}]d} + D_{T_{TT},\\parallel}F_{[UT_{TT}]d}),\n",
    "\\end{align}\n",
    "where the tensor-polarized structure functions appear with the tensor depolarization factors defined as\n",
    "\\begin{equation}\n",
    "    D_{T_{LL},\\parallel} = \\frac{1}{6}\\left[\\frac{3(1+\\gamma^2y/2)^2}{1+\\gamma^2}-1\\right].\n",
    "\\end{equation}\n",
    "The other factors will be dropped because of their scaling behaviour, more about this later.\n",
    "\n",
    "The two-state asymmetry $A_{\\parallel}^{(2)}$, defined as the ratio of the spin difference that was defined above with this spin average, is given by\n",
    "\\begin{align}\n",
    "    A_{\\parallel}^{(2)}[\\text{vector}] &= \\frac{\\frac{1}{4}[d\\sigma_{\\parallel}(+\\frac{1}{2},+1) - d\\sigma_{\\parallel}(-\\frac{1}{2},+1) + d\\sigma_{\\parallel}(+\\frac{1}{2},-1) - d\\sigma_{\\parallel}(-\\frac{1}{2},-1)]}{\\frac{1}{4}[d\\sigma_{\\parallel}(+\\frac{1}{2},+1) + d\\sigma_{\\parallel}(-\\frac{1}{2},+1) + d\\sigma_{\\parallel}(+\\frac{1}{2},-1) + d\\sigma_{\\parallel}(-\\frac{1}{2},-1)]} \\\\\n",
    "    &= \\frac{D_{L \\parallel}F_{[LS_L]d} + D_{T \\parallel}F_{[LS_T]d}}{F_{[UU,T]d} + \\epsilon F_{[UU,L]d} + D_{T_{LL},\\parallel}(F_{[UT_{LL},T]d} + \\epsilon F_{[UT_{LL},L]d})+D_{UT_{LT},\\parallel}F_{[UT_{LT}]d} + D_{T_{TT},\\parallel}F_{[UT_{TT}]d}}.\n",
    "\\end{align}\n",
    "Keeping only leading order terms, $\\mathcal{O}(\\gamma)$, $A_{\\parallel}^{(2)}$ becomes\n",
    "\\begin{equation}\n",
    "    A_{\\parallel}^{(2)}[\\text{vector}] = \\frac{D_{L \\parallel}F_{[LS_L]d}}{F_{[UU,T]d} + \\epsilon F_{[UU,L]d} + D_{T_{LL},\\parallel}(F_{[UT_{LL},T]d} + \\epsilon F_{[UT_{LL},L]d})}.\n",
    "\\end{equation}\n",
    "\n",
    "The following relation between the tensor tagged deuteron structure functions $F_{[UT_{LL},T]d}$ and $F_{[UT_{LL},L]d}$ and the neutron ones exist\n",
    "\\begin{equation}\n",
    "    D_{T_{LL},\\parallel}\\{F_{[UT_{LL},T]d},F_{[UT_{LL},L]d}\\}(x,Q^2;\\alpha_p,\\mathbf{p}_{pT}) = [2(2\\pi)^3]\\frac{2 \\mathcal{S}_d(\\alpha_p,\\mathbf{p}_{pT}) [\\text{tensor}]}{2-\\alpha_p}\\{F_{[UU,T]n},F_{[UU,L]n}\\}(\\tilde{x},Q^2),\n",
    "\\end{equation}\n",
    "where $\\mathcal{S}_d [\\text{tensor}]$ is the tensor polarized helicity-independent LF momentum distribution, the notebook [TheoreticalDescription](TheoreticalDescription.ipynb) contains more information about this function. Using this the relation between the two-state deuteron asymmetry and the neutron spin asymmetry is given by\n",
    "\\begin{align}\n",
    "    A_{\\parallel}^{(2)}[\\text{vector}](x,Q^2;\\alpha_p,\\mathbf{p}_{pT})  &= \\frac{D_{L \\parallel}F_{[LS_L]d}(x,Q^2;\\alpha_p,\\mathbf{p}_{pT})}{[F_{[UU,T]d} + \\epsilon F_{[UU,L]d} + D_{T_{LL},\\parallel}(F_{[UT_{LL},T]d} + \\epsilon F_{[UT_{LL},L]d})](x,Q^2;\\alpha_p,\\mathbf{p}_{pT})} \\\\\n",
    "    &= \\frac{\\Delta \\mathcal{S}_d(\\alpha_p,\\mathbf{p}_{pT})[\\text{pure} +1] D_{L \\parallel} F_{[LS_L]n}(\\tilde{x},Q^2)}{\\mathcal{S}_d(\\alpha_p,\\mathbf{p}_{pT})[unpol][F_{[UU,T]n} + \\epsilon F_{[UU,L]n}] + \\mathcal{S}_d(\\alpha_p,\\mathbf{p}_{pT}) [\\text{tensor}][F_{[UU,T]n} + \\epsilon F_{[UU,L]n}]}, \\\\\n",
    "    &= D_d^{(2)}[\\text{vector}](\\alpha_p,\\mathbf{p}_{pT})A_{\\parallel n}(y,\\tilde{x},Q^2), \\\\\n",
    "    D_d^{(2)}[\\text{vector}](\\alpha_p,\\mathbf{p}_{pT}) &= \\frac{\\Delta \\mathcal{S}_d(\\alpha_p,\\mathbf{p}_{pT})[\\text{pure} +1]}{\\mathcal{S}_d(\\alpha_p,\\mathbf{p}_{pT})[\\text{unpol}]+\\mathcal{S}_d(\\alpha_p,\\mathbf{p}_{pT}) [\\text{tensor}]}.\n",
    "\\end{align}"
   ]
  },
  {
   "cell_type": "code",
   "execution_count": 2,
   "metadata": {
    "scrolled": true
   },
   "outputs": [
    {
     "data": {
      "application/vnd.jupyter.widget-view+json": {
       "model_id": "fb9b5546ec4644bcbf7a27156f9e9eab",
       "version_major": 2,
       "version_minor": 0
      },
      "text/plain": [
       "HTMLMath(value='<center><b><h1>Deuteron depolarization factors $D_d^{(3)}$ and $D_d^{(2)}$</h1>\\n    </b></cen…"
      ]
     },
     "metadata": {},
     "output_type": "display_data"
    },
    {
     "data": {
      "application/vnd.jupyter.widget-view+json": {
       "model_id": "3ef494f132364754a9ced7e2870679e8",
       "version_major": 2,
       "version_minor": 0
      },
      "text/plain": [
       "HBox(children=(HTMLMath(value='The proton light front momentum fraction is defined as \\n    $\\\\alpha_p=\\\\frac{…"
      ]
     },
     "metadata": {},
     "output_type": "display_data"
    },
    {
     "data": {
      "application/vnd.jupyter.widget-view+json": {
       "model_id": "6b9a003c24984127aa40cf88c048ec02",
       "version_major": 2,
       "version_minor": 0
      },
      "text/plain": [
       "HBox(children=(HTMLMath(value=\"The kinematic variable that will be displayed on the x-axis of the\\n    figure …"
      ]
     },
     "metadata": {},
     "output_type": "display_data"
    },
    {
     "data": {
      "application/vnd.jupyter.widget-view+json": {
       "model_id": "f312adb05ccf4b5698e87a8558e96ae0",
       "version_major": 2,
       "version_minor": 0
      },
      "text/plain": [
       "HBox(children=(HTMLMath(value='The lower bound of the bin for the chosen kinematic variable.<hr>', layout=Layo…"
      ]
     },
     "metadata": {},
     "output_type": "display_data"
    },
    {
     "data": {
      "application/vnd.jupyter.widget-view+json": {
       "model_id": "3653fd3eba314a4898f52f5eaa0b11f2",
       "version_major": 2,
       "version_minor": 0
      },
      "text/plain": [
       "HBox(children=(HTMLMath(value='The upper bound of the bin for the chosen kinematic variable.<hr>', layout=Layo…"
      ]
     },
     "metadata": {},
     "output_type": "display_data"
    },
    {
     "data": {
      "application/vnd.jupyter.widget-view+json": {
       "model_id": "4880ba7be7564442bc56bec3013d3475",
       "version_major": 2,
       "version_minor": 0
      },
      "text/plain": [
       "HBox(children=(HTMLMath(value='The spacing between values of kinematic variables on the x-axis.<hr>', layout=L…"
      ]
     },
     "metadata": {},
     "output_type": "display_data"
    },
    {
     "data": {
      "application/vnd.jupyter.widget-view+json": {
       "model_id": "45f81df2fa4e47978960e9c2bbb41092",
       "version_major": 2,
       "version_minor": 0
      },
      "text/plain": [
       "HBox(children=(HTMLMath(value=\"The kinematic variable that will be displayed on the x-axis of the figure\\n    …"
      ]
     },
     "metadata": {},
     "output_type": "display_data"
    },
    {
     "data": {
      "application/vnd.jupyter.widget-view+json": {
       "model_id": "2b02096a24a6456f8a53d9e58cfa4582",
       "version_major": 2,
       "version_minor": 0
      },
      "text/plain": [
       "HBox(children=(HTMLMath(value='If a name is given here the figure is stored as following name.png.\\n    If no …"
      ]
     },
     "metadata": {},
     "output_type": "display_data"
    },
    {
     "data": {
      "application/vnd.jupyter.widget-view+json": {
       "model_id": "6ab341b9a076447e8622a6981eaea2b8",
       "version_major": 2,
       "version_minor": 0
      },
      "text/plain": [
       "HBox(children=(HTMLMath(value='Pressing the <b>\"Make D_d[vector] figure\"</b> button will create a \\n    figure…"
      ]
     },
     "metadata": {},
     "output_type": "display_data"
    },
    {
     "data": {
      "application/vnd.jupyter.widget-view+json": {
       "model_id": "964c6833a3cf4f80ac64311d26197567",
       "version_major": 2,
       "version_minor": 0
      },
      "text/plain": [
       "Output()"
      ]
     },
     "metadata": {},
     "output_type": "display_data"
    }
   ],
   "source": [
    "out = Output()\n",
    "make_figure_D_d(out)\n",
    "out"
   ]
  },
  {
   "cell_type": "code",
   "execution_count": 3,
   "metadata": {
    "scrolled": true
   },
   "outputs": [
    {
     "data": {
      "application/vnd.jupyter.widget-view+json": {
       "model_id": "d96e7ecaf7b5497298f13c3682aa91c2",
       "version_major": 2,
       "version_minor": 0
      },
      "text/plain": [
       "HTMLMath(value='<center><b><h1>Deuteron depolarization factors $D_d^{(3)}$ and $D_d^{(2)}$<br/>\\n    for diffe…"
      ]
     },
     "metadata": {},
     "output_type": "display_data"
    },
    {
     "data": {
      "application/vnd.jupyter.widget-view+json": {
       "model_id": "4f70545d3c39491cae67af51ee6f1da4",
       "version_major": 2,
       "version_minor": 0
      },
      "text/plain": [
       "HBox(children=(HTMLMath(value='The proton light front momentum fraction is defined as \\n    $\\\\alpha_p=\\\\frac{…"
      ]
     },
     "metadata": {},
     "output_type": "display_data"
    },
    {
     "data": {
      "application/vnd.jupyter.widget-view+json": {
       "model_id": "919073564d88477dad45bfa677dc91e6",
       "version_major": 2,
       "version_minor": 0
      },
      "text/plain": [
       "HBox(children=(HTMLMath(value=\"The kinematic variable that will be displayed on the x-axis of the\\n    figure …"
      ]
     },
     "metadata": {},
     "output_type": "display_data"
    },
    {
     "data": {
      "application/vnd.jupyter.widget-view+json": {
       "model_id": "28d7add75dd04502b3023e4a5aac55bf",
       "version_major": 2,
       "version_minor": 0
      },
      "text/plain": [
       "HBox(children=(HTMLMath(value='The lower bound of the bin for the chosen kinematic variable.<hr>', layout=Layo…"
      ]
     },
     "metadata": {},
     "output_type": "display_data"
    },
    {
     "data": {
      "application/vnd.jupyter.widget-view+json": {
       "model_id": "6abf5fb9aa1a4711958f75676f4e5769",
       "version_major": 2,
       "version_minor": 0
      },
      "text/plain": [
       "HBox(children=(HTMLMath(value='The upper bound of the bin for the chosen kinematic variable.<hr>', layout=Layo…"
      ]
     },
     "metadata": {},
     "output_type": "display_data"
    },
    {
     "data": {
      "application/vnd.jupyter.widget-view+json": {
       "model_id": "6ed8276fd9f84eeba6eaca1352604d28",
       "version_major": 2,
       "version_minor": 0
      },
      "text/plain": [
       "HBox(children=(HTMLMath(value='The spacing between values of kinematic variables on the x-axis.<hr>', layout=L…"
      ]
     },
     "metadata": {},
     "output_type": "display_data"
    },
    {
     "data": {
      "application/vnd.jupyter.widget-view+json": {
       "model_id": "08339fb5a25841188eefec4be8b17d86",
       "version_major": 2,
       "version_minor": 0
      },
      "text/plain": [
       "HBox(children=(HTMLMath(value=\"The kinematic variable that will be displayed on the x-axis of the figure\\n    …"
      ]
     },
     "metadata": {},
     "output_type": "display_data"
    },
    {
     "data": {
      "application/vnd.jupyter.widget-view+json": {
       "model_id": "fb196dcdb981437c994057e62620ff37",
       "version_major": 2,
       "version_minor": 0
      },
      "text/plain": [
       "HBox(children=(HTMLMath(value='If a name is given here the figure is stored as following name.png.\\n    If no …"
      ]
     },
     "metadata": {},
     "output_type": "display_data"
    },
    {
     "data": {
      "application/vnd.jupyter.widget-view+json": {
       "model_id": "f0bb6bde1b9a4ca782940859ca5d275e",
       "version_major": 2,
       "version_minor": 0
      },
      "text/plain": [
       "HBox(children=(HTMLMath(value='Pressing the <b>\"Make D_d[vector] figure\"</b> button will create a \\n    figure…"
      ]
     },
     "metadata": {},
     "output_type": "display_data"
    },
    {
     "data": {
      "application/vnd.jupyter.widget-view+json": {
       "model_id": "6b039a9b53ea49fe98e7d009a710db34",
       "version_major": 2,
       "version_minor": 0
      },
      "text/plain": [
       "Output()"
      ]
     },
     "metadata": {},
     "output_type": "display_data"
    }
   ],
   "source": [
    "out = Output()\n",
    "make_figure_D_d_zoom(out)\n",
    "out"
   ]
  },
  {
   "cell_type": "code",
   "execution_count": 4,
   "metadata": {
    "scrolled": false
   },
   "outputs": [
    {
     "data": {
      "application/vnd.jupyter.widget-view+json": {
       "model_id": "4034d9ee4e3545de90ffa75e26ce82eb",
       "version_major": 2,
       "version_minor": 0
      },
      "text/plain": [
       "HTMLMath(value='<center><b><h1>Spin asymmetry $A_{\\\\parallel d}^{(3)}$[vector]</h1></b></center>\\n    <hr>\\n  …"
      ]
     },
     "metadata": {},
     "output_type": "display_data"
    },
    {
     "data": {
      "application/vnd.jupyter.widget-view+json": {
       "model_id": "7407f0864143458e92fe6a84954c2f66",
       "version_major": 2,
       "version_minor": 0
      },
      "text/plain": [
       "HBox(children=(HTMLMath(value='The integrated luminosity in $nb^{-1}$.<hr>', layout=Layout(width='50%'), style…"
      ]
     },
     "metadata": {},
     "output_type": "display_data"
    },
    {
     "data": {
      "application/vnd.jupyter.widget-view+json": {
       "model_id": "7501bb96632d4034a689737a02f4755f",
       "version_major": 2,
       "version_minor": 0
      },
      "text/plain": [
       "HBox(children=(HTMLMath(value='The squared electron-nucleon center-of-mass energy in $MeV^2$.<hr>', layout=Lay…"
      ]
     },
     "metadata": {},
     "output_type": "display_data"
    },
    {
     "data": {
      "application/vnd.jupyter.widget-view+json": {
       "model_id": "d007392f707c4242818ad90a8eb2f086",
       "version_major": 2,
       "version_minor": 0
      },
      "text/plain": [
       "HBox(children=(HTMLMath(value='The effective Bjorken scaling variable for scattering from a nucleon in\\n    th…"
      ]
     },
     "metadata": {},
     "output_type": "display_data"
    },
    {
     "data": {
      "application/vnd.jupyter.widget-view+json": {
       "model_id": "ec1670a738064b85a0f39292ada83728",
       "version_major": 2,
       "version_minor": 0
      },
      "text/plain": [
       "HBox(children=(HTMLMath(value='The upper bound of the bin for the effective Bjorken scaling variable\\n    $x$ …"
      ]
     },
     "metadata": {},
     "output_type": "display_data"
    },
    {
     "data": {
      "application/vnd.jupyter.widget-view+json": {
       "model_id": "19e4891e0d254739b6430f004b3c9f16",
       "version_major": 2,
       "version_minor": 0
      },
      "text/plain": [
       "HBox(children=(HTMLMath(value=\"The electron four-momentum transfer is given by $q=p_e-p_{e'}$. Using\\n    this…"
      ]
     },
     "metadata": {},
     "output_type": "display_data"
    },
    {
     "data": {
      "application/vnd.jupyter.widget-view+json": {
       "model_id": "dbff58dd922d43c19e3aad08b8a9aacc",
       "version_major": 2,
       "version_minor": 0
      },
      "text/plain": [
       "HBox(children=(HTMLMath(value='The upper bounds of multiple $Q^2$ bisn can be given here in $MeV^2$, \\n    sep…"
      ]
     },
     "metadata": {},
     "output_type": "display_data"
    },
    {
     "data": {
      "application/vnd.jupyter.widget-view+json": {
       "model_id": "06aa559ca7fb4746a02827b874b0f8bd",
       "version_major": 2,
       "version_minor": 0
      },
      "text/plain": [
       "HBox(children=(HTMLMath(value='The proton light front momentum fraction is defined as \\n    $\\\\alpha_p=\\\\frac{…"
      ]
     },
     "metadata": {},
     "output_type": "display_data"
    },
    {
     "data": {
      "application/vnd.jupyter.widget-view+json": {
       "model_id": "4dfe623267c44a3898b8d9dffcb80b22",
       "version_major": 2,
       "version_minor": 0
      },
      "text/plain": [
       "HBox(children=(HTMLMath(value='The upper bound of the $\\\\alpha_p$ bin can be given here.<hr>', layout=Layout(w…"
      ]
     },
     "metadata": {},
     "output_type": "display_data"
    },
    {
     "data": {
      "application/vnd.jupyter.widget-view+json": {
       "model_id": "c167e4a2b0d74725b04240765c983ce3",
       "version_major": 2,
       "version_minor": 0
      },
      "text/plain": [
       "HBox(children=(HTMLMath(value=\"The kinematic variable that will be displayed on the x-axis of the\\n    figure …"
      ]
     },
     "metadata": {},
     "output_type": "display_data"
    },
    {
     "data": {
      "application/vnd.jupyter.widget-view+json": {
       "model_id": "1da98bf502d743a5a03696e8b8cc7127",
       "version_major": 2,
       "version_minor": 0
      },
      "text/plain": [
       "HBox(children=(HTMLMath(value='The lower bound of the bin for the chosen kinematic variable.<hr>', layout=Layo…"
      ]
     },
     "metadata": {},
     "output_type": "display_data"
    },
    {
     "data": {
      "application/vnd.jupyter.widget-view+json": {
       "model_id": "30141f42ca6945d5a7126adcf7966f50",
       "version_major": 2,
       "version_minor": 0
      },
      "text/plain": [
       "HBox(children=(HTMLMath(value='The upper bound of the bin for the chosen kinematic variable.<hr>', layout=Layo…"
      ]
     },
     "metadata": {},
     "output_type": "display_data"
    },
    {
     "data": {
      "application/vnd.jupyter.widget-view+json": {
       "model_id": "8ba2b1ae211040fcac4e20bb34b170a7",
       "version_major": 2,
       "version_minor": 0
      },
      "text/plain": [
       "HBox(children=(HTMLMath(value='The three-state vector asymmetry is shown at different values for the \\n    cho…"
      ]
     },
     "metadata": {},
     "output_type": "display_data"
    },
    {
     "data": {
      "application/vnd.jupyter.widget-view+json": {
       "model_id": "40f4bfb3080c4b9fb024e781613ef4c5",
       "version_major": 2,
       "version_minor": 0
      },
      "text/plain": [
       "HBox(children=(HTMLMath(value='The deuteron structure functions can be generated using different\\n    paramete…"
      ]
     },
     "metadata": {},
     "output_type": "display_data"
    },
    {
     "data": {
      "application/vnd.jupyter.widget-view+json": {
       "model_id": "8b8fb88328754c6aa5fbf3f3c41ccd08",
       "version_major": 2,
       "version_minor": 0
      },
      "text/plain": [
       "HBox(children=(HTMLMath(value=\"The kinematic variable that will be displayed on the x-axis of the figure\\n    …"
      ]
     },
     "metadata": {},
     "output_type": "display_data"
    },
    {
     "data": {
      "application/vnd.jupyter.widget-view+json": {
       "model_id": "56baf89b7a9b4a369b18b60d7267ad9c",
       "version_major": 2,
       "version_minor": 0
      },
      "text/plain": [
       "HBox(children=(HTMLMath(value='If a name is given here the figure is stored as following name.png.\\n    If no …"
      ]
     },
     "metadata": {},
     "output_type": "display_data"
    },
    {
     "data": {
      "application/vnd.jupyter.widget-view+json": {
       "model_id": "508579bf0e6b4f05bcc12fde0b61dcec",
       "version_major": 2,
       "version_minor": 0
      },
      "text/plain": [
       "HBox(children=(HTMLMath(value='When the data has to be calculated using a monte carlo integration it will be\\n…"
      ]
     },
     "metadata": {},
     "output_type": "display_data"
    },
    {
     "data": {
      "application/vnd.jupyter.widget-view+json": {
       "model_id": "69e09be23a6f45af8f91f2e2649e0233",
       "version_major": 2,
       "version_minor": 0
      },
      "text/plain": [
       "HBox(children=(HTMLMath(value='The maximum amount of evaluations of the integral that is allowed in each\\n    …"
      ]
     },
     "metadata": {},
     "output_type": "display_data"
    },
    {
     "data": {
      "application/vnd.jupyter.widget-view+json": {
       "model_id": "b26159f811804b19acad55252faded84",
       "version_major": 2,
       "version_minor": 0
      },
      "text/plain": [
       "HBox(children=(HTMLMath(value='Pressing the <b>\"Make A_d_3[vector] central bin figure\"</b> button will\\n    cr…"
      ]
     },
     "metadata": {},
     "output_type": "display_data"
    },
    {
     "data": {
      "application/vnd.jupyter.widget-view+json": {
       "model_id": "d2def9cec6ec4633bd0e88aeae31a86b",
       "version_major": 2,
       "version_minor": 0
      },
      "text/plain": [
       "Output()"
      ]
     },
     "metadata": {},
     "output_type": "display_data"
    }
   ],
   "source": [
    "out = Output()\n",
    "make_figure_A_d_3_vec(out)\n",
    "out"
   ]
  },
  {
   "cell_type": "code",
   "execution_count": 5,
   "metadata": {
    "scrolled": false
   },
   "outputs": [
    {
     "data": {
      "application/vnd.jupyter.widget-view+json": {
       "model_id": "f962f673dc904a8eb34cd4387ca8c38e",
       "version_major": 2,
       "version_minor": 0
      },
      "text/plain": [
       "HTMLMath(value='<center><b><h1>Spin asymmetry $A_{\\\\parallel d}^{(2)}$[vector]</h1></b></center>\\n    <hr>\\n  …"
      ]
     },
     "metadata": {},
     "output_type": "display_data"
    },
    {
     "data": {
      "application/vnd.jupyter.widget-view+json": {
       "model_id": "7fe447f0c2a64254b8884b383f319ddc",
       "version_major": 2,
       "version_minor": 0
      },
      "text/plain": [
       "HBox(children=(HTMLMath(value='The integrated luminosity in $nb^{-1}$.<hr>', layout=Layout(width='50%'), style…"
      ]
     },
     "metadata": {},
     "output_type": "display_data"
    },
    {
     "data": {
      "application/vnd.jupyter.widget-view+json": {
       "model_id": "ee988a68828945549bd6bd94e4b83c3a",
       "version_major": 2,
       "version_minor": 0
      },
      "text/plain": [
       "HBox(children=(HTMLMath(value='The squared electron-nucleon center-of-mass energy in $MeV^2$.<hr>', layout=Lay…"
      ]
     },
     "metadata": {},
     "output_type": "display_data"
    },
    {
     "data": {
      "application/vnd.jupyter.widget-view+json": {
       "model_id": "49c775beaef44c47a136b2b2dd678b3e",
       "version_major": 2,
       "version_minor": 0
      },
      "text/plain": [
       "HBox(children=(HTMLMath(value='The effective Bjorken scaling variable for scattering from a nucleon in\\n    th…"
      ]
     },
     "metadata": {},
     "output_type": "display_data"
    },
    {
     "data": {
      "application/vnd.jupyter.widget-view+json": {
       "model_id": "c1087ac55d2847ef9332cd51ac76aaa3",
       "version_major": 2,
       "version_minor": 0
      },
      "text/plain": [
       "HBox(children=(HTMLMath(value='The upper bound of the bin for the effective Bjorken scaling variable\\n    $x$ …"
      ]
     },
     "metadata": {},
     "output_type": "display_data"
    },
    {
     "data": {
      "application/vnd.jupyter.widget-view+json": {
       "model_id": "37ccab66ee4f49b59d34df668826d8bc",
       "version_major": 2,
       "version_minor": 0
      },
      "text/plain": [
       "HBox(children=(HTMLMath(value=\"The electron four-momentum transfer is given by $q=p_e-p_{e'}$. Using\\n    this…"
      ]
     },
     "metadata": {},
     "output_type": "display_data"
    },
    {
     "data": {
      "application/vnd.jupyter.widget-view+json": {
       "model_id": "7cb5633cf3a942fda537c4b8f27b30b3",
       "version_major": 2,
       "version_minor": 0
      },
      "text/plain": [
       "HBox(children=(HTMLMath(value='The upper bounds of multiple $Q^2$ bisn can be given here in $MeV^2$, \\n    sep…"
      ]
     },
     "metadata": {},
     "output_type": "display_data"
    },
    {
     "data": {
      "application/vnd.jupyter.widget-view+json": {
       "model_id": "cf66e38d26314d27b0ebad50150e1e5a",
       "version_major": 2,
       "version_minor": 0
      },
      "text/plain": [
       "HBox(children=(HTMLMath(value='The proton light front momentum fraction is defined as \\n    $\\\\alpha_p=\\\\frac{…"
      ]
     },
     "metadata": {},
     "output_type": "display_data"
    },
    {
     "data": {
      "application/vnd.jupyter.widget-view+json": {
       "model_id": "e05c8fd4603d4afeb095826873d2b1ff",
       "version_major": 2,
       "version_minor": 0
      },
      "text/plain": [
       "HBox(children=(HTMLMath(value='The upper bound of the $\\\\alpha_p$ bin can be given here.<hr>', layout=Layout(w…"
      ]
     },
     "metadata": {},
     "output_type": "display_data"
    },
    {
     "data": {
      "application/vnd.jupyter.widget-view+json": {
       "model_id": "610ad0e6a2034490b8ebfae073b3e9f0",
       "version_major": 2,
       "version_minor": 0
      },
      "text/plain": [
       "HBox(children=(HTMLMath(value=\"The kinematic variable that will be displayed on the x-axis of the\\n    figure …"
      ]
     },
     "metadata": {},
     "output_type": "display_data"
    },
    {
     "data": {
      "application/vnd.jupyter.widget-view+json": {
       "model_id": "de08cb53738747d0968f0b3a3d5e64da",
       "version_major": 2,
       "version_minor": 0
      },
      "text/plain": [
       "HBox(children=(HTMLMath(value='The lower bound of the bin for the chosen kinematic variable.<hr>', layout=Layo…"
      ]
     },
     "metadata": {},
     "output_type": "display_data"
    },
    {
     "data": {
      "application/vnd.jupyter.widget-view+json": {
       "model_id": "5a4f5868edd74f7cab49641469d67203",
       "version_major": 2,
       "version_minor": 0
      },
      "text/plain": [
       "HBox(children=(HTMLMath(value='The upper bound of the bin for the chosen kinematic variable.<hr>', layout=Layo…"
      ]
     },
     "metadata": {},
     "output_type": "display_data"
    },
    {
     "data": {
      "application/vnd.jupyter.widget-view+json": {
       "model_id": "d0474876bfde40489e1c3f60f147fa0c",
       "version_major": 2,
       "version_minor": 0
      },
      "text/plain": [
       "HBox(children=(HTMLMath(value='The two-state vector asymmetry is shown at different values for the \\n    chose…"
      ]
     },
     "metadata": {},
     "output_type": "display_data"
    },
    {
     "data": {
      "application/vnd.jupyter.widget-view+json": {
       "model_id": "30c775e108da47e0a00de9e04339bc85",
       "version_major": 2,
       "version_minor": 0
      },
      "text/plain": [
       "HBox(children=(HTMLMath(value='The deuteron structure functions can be generated using different\\n    paramete…"
      ]
     },
     "metadata": {},
     "output_type": "display_data"
    },
    {
     "data": {
      "application/vnd.jupyter.widget-view+json": {
       "model_id": "1bcfb692b36c4407b35819e0cdb6269d",
       "version_major": 2,
       "version_minor": 0
      },
      "text/plain": [
       "HBox(children=(HTMLMath(value=\"The kinematic variable that will be displayed on the x-axis of the figure\\n    …"
      ]
     },
     "metadata": {},
     "output_type": "display_data"
    },
    {
     "data": {
      "application/vnd.jupyter.widget-view+json": {
       "model_id": "860e5e25effd46688bc2ccf7b63c6cfa",
       "version_major": 2,
       "version_minor": 0
      },
      "text/plain": [
       "HBox(children=(HTMLMath(value='If a name is given here the figure is stored as following name.png.\\n    If no …"
      ]
     },
     "metadata": {},
     "output_type": "display_data"
    },
    {
     "data": {
      "application/vnd.jupyter.widget-view+json": {
       "model_id": "4751ef85d1a94c14b90df3087abd7398",
       "version_major": 2,
       "version_minor": 0
      },
      "text/plain": [
       "HBox(children=(HTMLMath(value='When the data has to be calculated using a monte carlo integration it will be\\n…"
      ]
     },
     "metadata": {},
     "output_type": "display_data"
    },
    {
     "data": {
      "application/vnd.jupyter.widget-view+json": {
       "model_id": "a690f5fe7a1744d2b64dc9baedb1d9dd",
       "version_major": 2,
       "version_minor": 0
      },
      "text/plain": [
       "HBox(children=(HTMLMath(value='The maximum amount of evaluations of the integral that is allowed in each\\n    …"
      ]
     },
     "metadata": {},
     "output_type": "display_data"
    },
    {
     "data": {
      "application/vnd.jupyter.widget-view+json": {
       "model_id": "e0fa6a956d114978bdad8968c9b247b5",
       "version_major": 2,
       "version_minor": 0
      },
      "text/plain": [
       "HBox(children=(HTMLMath(value='Pressing the <b>\"Make A_d_2[vector] central bin figure\"</b> button will\\n    cr…"
      ]
     },
     "metadata": {},
     "output_type": "display_data"
    },
    {
     "data": {
      "application/vnd.jupyter.widget-view+json": {
       "model_id": "96f343a67a3642318fa0447ca48a64ea",
       "version_major": 2,
       "version_minor": 0
      },
      "text/plain": [
       "Output()"
      ]
     },
     "metadata": {},
     "output_type": "display_data"
    }
   ],
   "source": [
    "out = Output()\n",
    "make_figure_A_d_2_vec(out)\n",
    "out"
   ]
  },
  {
   "cell_type": "markdown",
   "metadata": {},
   "source": [
    "## Tensor asymmetry\n",
    "### Three-state asymmetry\n",
    "For the tensor asymmetry the deuteron tensor polarized structure functions $F_{[UT_{LL,T}]}$ and $F_{[UT_{LL}]}$ have to be isolated as\n",
    "\\begin{align}\n",
    "\t&\\frac{1}{12}\\big[d\\sigma_{\\parallel}(\\frac{1}{2}, 1) + d\\sigma_{\\parallel}(-\\frac{1}{2}, 1) + d\\sigma_{\\parallel}(\\frac{1}{2}, -1) + d\\sigma_{\\parallel}(-\\frac{1}{2}, -1) - 2 \\big[ d\\sigma_{\\parallel} (\\frac{1}{2}, 0) + d\\sigma_{\\parallel}(-\\frac{1}{2}, 0)\\big]\\big]\\\\\n",
    "\t=& [...]\\big[D_{T_{LL},\\parallel}(F_{[UT_{LL},T]d} + \\epsilon F_{[UT_{LL},L]d}) +D_{UT_{LT},\\parallel} F_{[UT_{LT}]d} + D_{T_{TT},\\parallel} F_{[UT_{TT}]d} \\big].\n",
    "\\end{align}\n",
    "\n",
    "Using the average of the cross section in all  spin states to define a three-state asymmetry as\n",
    "\\begin{align}\n",
    "A_{\\parallel}^{(3)}[\\text{tensor}] &= \\frac{\\frac{1}{12}\\big[d\\sigma_{\\parallel}(\\frac{1}{2}, 1) + d\\sigma_{\\parallel}(-\\frac{1}{2}, 1) + d\\sigma_{\\parallel}(\\frac{1}{2}, -1) + d\\sigma_{\\parallel}(-\\frac{1}{2}, -1) - 2 \\big[ d\\sigma_{\\parallel} (\\frac{1}{2}, 0) + d\\sigma_{\\parallel}(-\\frac{1}{2}, 0)\\big]\\big]} {\\frac{1}{6}\\big[ d\\sigma_{\\parallel}(+\\frac{1}{2},+1) + d\\sigma_{\\parallel}(-\\frac{1}{2},+1) + d\\sigma_{\\parallel}(+\\frac{1}{2},-1) + d\\sigma_{\\parallel}(-\\frac{1}{2},-1)+ d\\sigma_{\\parallel}(+\\frac{1}{2},0)+ d\\sigma_{\\parallel}(-\\frac{1}{2},0) \\big]} \\\\\n",
    "\t&=\\frac{D_{T_{LL},\\parallel}(F_{[UT_{LL},T]d} + \\epsilon F_{[UT_{LL},L]d}) +D_{UT_{LT},\\parallel} F_{[UT_{LT}]d} + D_{T_{TT},\\parallel} F_{[UT_{TT}]d}} {F_{[UU,T]d} + \\epsilon F_{[UU,L]d}}.\n",
    "\\end{align}\n",
    "\n",
    "Applying the scaling behaviour to keep only leading order terms in the DIS limit where $\\gamma$ becomes small gives\n",
    "\\begin{equation}\n",
    "    A_{\\parallel d}^{(3)}[\\text{tensor}] = \\frac{D_{T_{LL},\\parallel} (F_{[UT_{LL},T]d} + \\epsilon F_{[UT_{LL},L]d})} {F_{[UU,T]d} + \\epsilon F_{[UU,L]d}}.\n",
    "\\end{equation}\n",
    "The relations between the tensor tagged deuteron structure functions and the free neutron structure functions is given by\n",
    "\\begin{align}\n",
    "\t\tT_{LL}F_{[UT_{LL},T]d}(x,Q^2;\\alpha_p,\\mathbf{p}_{pT}) &= [2(2\\pi)^3] \\frac{2f_d(\\alpha_p,\\mathbf{p}_{pT})[\\text{tensor}]}{2-\\alpha_p} F_{[UU,T]n}, \\\\\n",
    "\t\tT_{LL}F_{[UT_{LL},L]d}(x,Q^2;\\alpha_p,\\mathbf{p}_{pT}) &= [2(2\\pi)^3] \\frac{2f_d(\\alpha_p,\\mathbf{p}_{pT})[\\text{tensor}]}{2-\\alpha_p} F_{[UU,L]n}.\n",
    "\\end{align}\n",
    "The three-state deuteron tensor asymmetry becomes\n",
    "\\begin{align}\n",
    "\t\tA_{\\parallel d}^{(3)}[\\text{tensor}](x,Q^2;\\alpha_p,\\mathbf{p}_{pT}) &=  \\frac{D_{T_{LL},\\parallel} [F_{[UT_{LL},T]d} + \\epsilon F_{[UT_{LL},L]d}](\\tilde{x},Q^2)} {[F_{[UU,T]d} + \\epsilon F_{[UU,L]d}](\\tilde{x},Q^2)} \\\\\n",
    "\t\t&= \\frac{f_d(\\alpha_p,\\mathbf{p}_{pT})[\\text{tensor}] [[F_{[UU,T]n} + \\epsilon F_{[UU,L]n}] (\\tilde{x},Q^2)} {f_d(\\alpha_p,\\mathbf{p}_{pT})[\\text{unpol}][F_{[UU,T]n} + \\epsilon F_{[UU,L]n}](\\tilde{x},Q^2)} \\\\\n",
    "\t\t&= D_d^{(3)}[\\text{tensor}] (\\alpha_p,\\mathbf{p}_{pT}),\\\\\n",
    "\t\tD_d^{(3)}[\\text{tensor}](\\alpha_p,\\mathbf{p}_{pT}) &= \\frac{ f_d(\\alpha_p,\\mathbf{p}_{pT})[\\text{tensor}]} {f_d(\\alpha_p,\\mathbf{p}_{pT}) [\\text{unpol}]},\n",
    "\\end{align}\n",
    "which is independent of the free neutron and can be used to extract the D-wave contribution to the deuteron wave function."
   ]
  },
  {
   "cell_type": "code",
   "execution_count": 6,
   "metadata": {
    "scrolled": false
   },
   "outputs": [
    {
     "data": {
      "application/vnd.jupyter.widget-view+json": {
       "model_id": "33c434235ddd45ae8006005063b3800c",
       "version_major": 2,
       "version_minor": 0
      },
      "text/plain": [
       "HTMLMath(value='<center><b><h1>Spin asymmetry $A_{\\\\parallel d}^{(3)}$[tensor]</h1></b></center>\\n    <hr>\\n  …"
      ]
     },
     "metadata": {},
     "output_type": "display_data"
    },
    {
     "data": {
      "application/vnd.jupyter.widget-view+json": {
       "model_id": "8808338a6ca049ff82936a1bd0f27fc9",
       "version_major": 2,
       "version_minor": 0
      },
      "text/plain": [
       "HBox(children=(HTMLMath(value='The integrated luminosity in $nb^{-1}$.<hr>', layout=Layout(width='50%'), style…"
      ]
     },
     "metadata": {},
     "output_type": "display_data"
    },
    {
     "data": {
      "application/vnd.jupyter.widget-view+json": {
       "model_id": "712b578600a54be6b1f7795660fbd712",
       "version_major": 2,
       "version_minor": 0
      },
      "text/plain": [
       "HBox(children=(HTMLMath(value='The squared electron-nucleon center-of-mass energy in $MeV^2$.<hr>', layout=Lay…"
      ]
     },
     "metadata": {},
     "output_type": "display_data"
    },
    {
     "data": {
      "application/vnd.jupyter.widget-view+json": {
       "model_id": "8119664bfa2040ecbe8497b66b38d703",
       "version_major": 2,
       "version_minor": 0
      },
      "text/plain": [
       "HBox(children=(HTMLMath(value='The effective Bjorken scaling variable for scattering from a nucleon in\\n    th…"
      ]
     },
     "metadata": {},
     "output_type": "display_data"
    },
    {
     "data": {
      "application/vnd.jupyter.widget-view+json": {
       "model_id": "39fcaac826e64a42b7c331d4b90e0385",
       "version_major": 2,
       "version_minor": 0
      },
      "text/plain": [
       "HBox(children=(HTMLMath(value='The upper bound of the bin for the effective Bjorken scaling variable\\n    $x$ …"
      ]
     },
     "metadata": {},
     "output_type": "display_data"
    },
    {
     "data": {
      "application/vnd.jupyter.widget-view+json": {
       "model_id": "6dd7a46fbd054d9bab43ffaae790317e",
       "version_major": 2,
       "version_minor": 0
      },
      "text/plain": [
       "HBox(children=(HTMLMath(value=\"The electron four-momentum transfer is given by $q=p_e-p_{e'}$. Using\\n    this…"
      ]
     },
     "metadata": {},
     "output_type": "display_data"
    },
    {
     "data": {
      "application/vnd.jupyter.widget-view+json": {
       "model_id": "52c97b351d1f4620ad267e48ed44fecc",
       "version_major": 2,
       "version_minor": 0
      },
      "text/plain": [
       "HBox(children=(HTMLMath(value='The upper bounds of multiple $Q^2$ bisn can be given here in $MeV^2$, \\n    sep…"
      ]
     },
     "metadata": {},
     "output_type": "display_data"
    },
    {
     "data": {
      "application/vnd.jupyter.widget-view+json": {
       "model_id": "f9c36fbb3e4144d4a435e8b3e1f6e6b2",
       "version_major": 2,
       "version_minor": 0
      },
      "text/plain": [
       "HBox(children=(HTMLMath(value='The proton light front momentum fraction is defined as \\n    $\\\\alpha_p=\\\\frac{…"
      ]
     },
     "metadata": {},
     "output_type": "display_data"
    },
    {
     "data": {
      "application/vnd.jupyter.widget-view+json": {
       "model_id": "92c5dbe68af14b538003dbe1cfb367bd",
       "version_major": 2,
       "version_minor": 0
      },
      "text/plain": [
       "HBox(children=(HTMLMath(value='The upper bound of the $\\\\alpha_p$ bin can be given here.<hr>', layout=Layout(w…"
      ]
     },
     "metadata": {},
     "output_type": "display_data"
    },
    {
     "data": {
      "application/vnd.jupyter.widget-view+json": {
       "model_id": "a23adfa9614f4633836e3ebf1454f246",
       "version_major": 2,
       "version_minor": 0
      },
      "text/plain": [
       "HBox(children=(HTMLMath(value=\"The kinematic variable that will be displayed on the x-axis of the\\n    figure …"
      ]
     },
     "metadata": {},
     "output_type": "display_data"
    },
    {
     "data": {
      "application/vnd.jupyter.widget-view+json": {
       "model_id": "59758e6aff3f435494d656b4d844c00b",
       "version_major": 2,
       "version_minor": 0
      },
      "text/plain": [
       "HBox(children=(HTMLMath(value='The lower bound of the bin for the chosen kinematic variable.<hr>', layout=Layo…"
      ]
     },
     "metadata": {},
     "output_type": "display_data"
    },
    {
     "data": {
      "application/vnd.jupyter.widget-view+json": {
       "model_id": "7629e18ca84b45eda689676a317002a8",
       "version_major": 2,
       "version_minor": 0
      },
      "text/plain": [
       "HBox(children=(HTMLMath(value='The upper bound of the bin for the chosen kinematic variable.<hr>', layout=Layo…"
      ]
     },
     "metadata": {},
     "output_type": "display_data"
    },
    {
     "data": {
      "application/vnd.jupyter.widget-view+json": {
       "model_id": "7dbcc86ba9444b0aae9d45dd328351de",
       "version_major": 2,
       "version_minor": 0
      },
      "text/plain": [
       "HBox(children=(HTMLMath(value='The two-state vector asymmetry is shown at different values for the \\n    chose…"
      ]
     },
     "metadata": {},
     "output_type": "display_data"
    },
    {
     "data": {
      "application/vnd.jupyter.widget-view+json": {
       "model_id": "cddfe45ff00041abb404785ac7e26db2",
       "version_major": 2,
       "version_minor": 0
      },
      "text/plain": [
       "HBox(children=(HTMLMath(value='The deuteron structure functions can be generated using different\\n    paramete…"
      ]
     },
     "metadata": {},
     "output_type": "display_data"
    },
    {
     "data": {
      "application/vnd.jupyter.widget-view+json": {
       "model_id": "e4ee4b4ba2ef4fd2802494424d39e1dc",
       "version_major": 2,
       "version_minor": 0
      },
      "text/plain": [
       "HBox(children=(HTMLMath(value=\"The kinematic variable that will be displayed on the x-axis of the figure\\n    …"
      ]
     },
     "metadata": {},
     "output_type": "display_data"
    },
    {
     "data": {
      "application/vnd.jupyter.widget-view+json": {
       "model_id": "d67a50e66f1648439e3ac835e81b940d",
       "version_major": 2,
       "version_minor": 0
      },
      "text/plain": [
       "HBox(children=(HTMLMath(value='If a name is given here the figure is stored as following name.png.\\n    If no …"
      ]
     },
     "metadata": {},
     "output_type": "display_data"
    },
    {
     "data": {
      "application/vnd.jupyter.widget-view+json": {
       "model_id": "9c04524921db4448a8b6259e56fc37a4",
       "version_major": 2,
       "version_minor": 0
      },
      "text/plain": [
       "HBox(children=(HTMLMath(value='When the data has to be calculated using a monte carlo integration it will be\\n…"
      ]
     },
     "metadata": {},
     "output_type": "display_data"
    },
    {
     "data": {
      "application/vnd.jupyter.widget-view+json": {
       "model_id": "df2cf2a1612e4161b59a89e873f38256",
       "version_major": 2,
       "version_minor": 0
      },
      "text/plain": [
       "HBox(children=(HTMLMath(value='The maximum amount of evaluations of the integral that is allowed in each\\n    …"
      ]
     },
     "metadata": {},
     "output_type": "display_data"
    },
    {
     "data": {
      "application/vnd.jupyter.widget-view+json": {
       "model_id": "93620c9c0a9e40f8969c75b640bd65d4",
       "version_major": 2,
       "version_minor": 0
      },
      "text/plain": [
       "HBox(children=(HTMLMath(value='Pressing the <b>\"Make A_d_3[tensor] central bin figure\"</b> button will\\n    cr…"
      ]
     },
     "metadata": {},
     "output_type": "display_data"
    },
    {
     "data": {
      "application/vnd.jupyter.widget-view+json": {
       "model_id": "4dd109a20d474ba0ad8b3860e124cc7c",
       "version_major": 2,
       "version_minor": 0
      },
      "text/plain": [
       "Output()"
      ]
     },
     "metadata": {},
     "output_type": "display_data"
    }
   ],
   "source": [
    "out = Output()\n",
    "make_figure_A_d_3_ten(out)\n",
    "out"
   ]
  },
  {
   "cell_type": "code",
   "execution_count": null,
   "metadata": {
    "scrolled": true
   },
   "outputs": [],
   "source": []
  }
 ],
 "metadata": {
  "kernelspec": {
   "display_name": "Python 3",
   "language": "python",
   "name": "python3"
  },
  "language_info": {
   "codemirror_mode": {
    "name": "ipython",
    "version": 3
   },
   "file_extension": ".py",
   "mimetype": "text/x-python",
   "name": "python",
   "nbconvert_exporter": "python",
   "pygments_lexer": "ipython3",
   "version": "3.7.6"
  }
 },
 "nbformat": 4,
 "nbformat_minor": 4
}
