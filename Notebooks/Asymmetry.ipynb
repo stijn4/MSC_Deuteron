{
 "cells": [
  {
   "cell_type": "code",
   "execution_count": 1,
   "metadata": {},
   "outputs": [
    {
     "name": "stderr",
     "output_type": "stream",
     "text": [
      "[NbConvertApp] Converting notebook Programs.ipynb to script\n",
      "[NbConvertApp] Writing 237066 bytes to Programs.py\n"
     ]
    }
   ],
   "source": [
    "!jupyter nbconvert --to script Programs.ipynb\n",
    "from Programs import *\n",
    "error_settings = np.seterr(all='ignore')"
   ]
  },
  {
   "cell_type": "markdown",
   "metadata": {},
   "source": [
    "## Asymmetries\n",
    "Here the tagged deuteron asymmetries will be discussed. There are 2 different kind of asymmetries, called the three-state asymmetries $A_{\\parallel}^{(3)}$ and the two-state asymmetries $A_{\\parallel}^{(2)}$ which are defined by the sum and differences of differential cross sections for different electron and deuteron spin values, $\\sigma_e$ and $\\lambda_d$. First a quick refresher on the kinematic variables that will be used.\n",
    "\n",
    "## Kinematic variables\n",
    "First some conventional scaling variables are defined, such as the conventional Bjorken scaling variable for scattering of the deuteron $x_d$\n",
    "\\begin{align}\n",
    "    x_d &\\equiv \\frac{-q^2}{2(p_dq)} \\\\\n",
    "    y &\\equiv \\frac{(p_dq)}{(p_dp_e)} \\equiv \\frac{Q^2}{x_d(s_{ed}-m_d^2)}\n",
    "\\end{align}\n",
    "where $s_{ed} = (p_e+p_d)^2$ is the square of the C.O.M. energy of the electron deuteron system and $m_d$ the deuteron mass. The effective Bjorken variable for scattering from a nucleon in the deuteron in the absence of nuclear binding is the rescaled variable\n",
    "\\begin{equation}\n",
    "    x = 2x_d\n",
    "\\end{equation}\n",
    "and q is the 4-momentum transfer between the initial and final electron, which can also be seen as the 4-momentum of the virtual photon that is exchanged\n",
    "\\begin{equation}\n",
    "    q = p_e - p_{e'} \\Rightarrow Q^2 = -q^2 > 0\n",
    "\\end{equation}\n",
    "2 new kinematic variable are also introduced, $\\gamma$ and the virtual photon polarization parameter $\\epsilon$\n",
    "\\begin{align}\n",
    "    \\gamma^2 &\\equiv \\frac{m_d^2Q^2}{(p_dq)^2} = \\frac{4x_dm_d^2}{Q^2} \\\\\n",
    "    \\epsilon &\\equiv \\frac{1-y-\\gamma^2y^2/4}{1-y+y^2/2+\\gamma^2y^2/4}\n",
    "\\end{align}\n",
    "\n",
    "## Cross section\n",
    "We also remember at the form of the differential cross section of polarized tagged DIS (given in Kinematic variables):\n",
    "\\begin{align}\n",
    "d\\sigma[ed \\rightarrow e'Xp] &=  \\frac{2\\pi\\alpha_{em}^2y^2}{Q^4(1-\\epsilon)}dx_ddQ^2\\frac{d\\phi_{e'}}{2\\pi}(F_{[U]d} + F_{[L]d})\\frac{1}{[2(2\\pi)^3]}\\frac{d^3p_p}{E_p} \\\\\n",
    "F_{[U]d} &= F_{[UU,T]d} + \\epsilon F_{[UU,L]d} + T_{LL}(F_{[UT_{LL},T]d} + \\epsilon F_{[UT_{LL},L]d}) \\\\\n",
    "&+ \\sqrt{2\\epsilon(1+\\epsilon)}S_{T}sin\\phi_SF_{[US_T]d} + \\sqrt{2\\epsilon(1+\\epsilon)}T_{LT}cos\\phi_{T_L} F_{[UT_{LT}]d} \\\\\n",
    "&+ \\epsilon T_{TT}cos2\\phi_{T_T}F_{[UT_{TT}]d} \\\\\n",
    "F_{[L]d} &= (2\\sigma_e) \\{\\sqrt{1-\\epsilon^2}S_L F_{[LS_L]d} + \\sqrt{2\\epsilon(1+\\epsilon)}S_Tcos\\phi_S F_{[LS_{T}]d} \\\\\n",
    "\t&+ \\sqrt{2\\epsilon(1+\\epsilon)}T_{LT}sin\\phi_{T_L} F_{[LT_{LT}]d}\\}\n",
    "\\end{align}\n",
    "With $F_{[U]d}$ the structure functions independent of the electron helicity (U) and $F_{[L]d}$ which are proportional to the electron helicity (L).\n",
    "\n",
    "## Vector assymtery\n",
    "### Three-state asymmetries \n",
    "First looking at the sum of differential cross sections over all possible spin states. This gives the average of the cross section in all  spin states and is the unpolarized part or more specifically\n",
    "\\begin{align}\n",
    "    &\\frac{1}{6}[d\\sigma_{\\parallel}(+\\frac{1}{2},+1) + d\\sigma_{\\parallel}(-\\frac{1}{2},+1) + d\\sigma_{\\parallel}(+\\frac{1}{2},-1) + d\\sigma_{\\parallel}(-\\frac{1}{2},-1) + d\\sigma_{\\parallel}(+\\frac{1}{2},0) + d\\sigma_{\\parallel}(-\\frac{1}{2},0)] \\\\\n",
    "    &= [...](F_{[UU,T]d} + \\epsilon F_{[UU,L]d})\n",
    "\\end{align}\n",
    "\n",
    "Now isolating the electron spin-dependent structure functions $F_{[LS_L]}$ and $F_{[LS_T]}$ can be done by forming double spin differences with respect to bot the deuteron and electron spin. So this double spin difference gives\n",
    "\\begin{align}\n",
    "    &\\frac{1}{4}[d\\sigma_{\\parallel}(+\\frac{1}{2},+1) - d\\sigma_{\\parallel}(-\\frac{1}{2},+1) + d\\sigma_{\\parallel}(+\\frac{1}{2},-1) - d\\sigma_{\\parallel}(-\\frac{1}{2},-1)] \\\\\n",
    "    &= [...](D_{L \\parallel}F_{[LS_L]d} + D_{T \\parallel}F_{[LS_T]d})\n",
    "\\end{align}\n",
    "where $D_{L \\parallel}$ and $D_{T \\parallel}$ are given by\n",
    "\\begin{align}\n",
    "    D_{L \\parallel} &= \\frac{y(1-y/2)(1+\\gamma^2y/2)}{1-y+y/2+\\gamma^2y^2/4} \\\\\n",
    "    D_{T \\parallel} &= \\frac{-\\gamma y(1-y-\\gamma^2y^2/4)}{1-y+y/2+\\gamma^2y^2/4}\n",
    "\\end{align}\n",
    "The ratio of this difference with the full sum gives the three-state asymmetries $A_{\\parallel}^{(3)}$\n",
    "\\begin{align}\n",
    "    A_{\\parallel}^{(3)}[\\text{vector}] &= \\frac{\\frac{1}{4}[d\\sigma_{\\parallel}(+\\frac{1}{2},+1) - d\\sigma_{\\parallel}(-\\frac{1}{2},+1) + d\\sigma_{\\parallel}(+\\frac{1}{2},-1) - d\\sigma_{\\parallel}(-\\frac{1}{2},-1)]}{\\frac{1}{6}[d\\sigma_{\\parallel}(+\\frac{1}{2},+1) + d\\sigma_{\\parallel}(-\\frac{1}{2},+1) + d\\sigma_{\\parallel}(+\\frac{1}{2},-1) + d\\sigma_{\\parallel}(-\\frac{1}{2},-1) + d\\sigma_{\\parallel}(+\\frac{1}{2},0) + d\\sigma_{\\parallel}(-\\frac{1}{2},0)]} \\\\\n",
    "    &= \\frac{D_{L \\parallel}F_{[LS_L]d} + D_{T \\parallel}F_{[LS_T]d}}{F_{[UU,T]d} + \\epsilon F_{[UU,L]d}}\n",
    "\\end{align}\n",
    "Only keeping the terms that scale slower than $\\gamma$ gives us up to a power correction $\\mathcal{O}(\\gamma)$\n",
    "\\begin{equation}\n",
    "    A_{\\parallel}^{(3)}[\\text{vector}] = \\frac{D_{L \\parallel}F_{[LS_L]d}}{F_{[UU,T]d} + \\epsilon F_{[UU,L]d}}\n",
    "\\end{equation}\n",
    "\n",
    "Now using the relation between the tagged deuteron structure functions and the free neutron structure functions we can find how the free neutron three-state asymmetry is related to the tagged deuteron three-state asymmetry. So since $F_{[LS_L]d}$ and $F_{[LS_L]n}$ are related as follows\n",
    "\\begin{equation}\n",
    "    F_{[LS_L]d}(x,Q^2;\\alpha_p,\\mathbf{p}_{pT}) = [2(2\\pi)^3]\\frac{2\\Delta f_d(\\alpha_p,\\mathbf{p}_{pT})[pure +1]}{2-\\alpha_p}F_{[LS_L]n}(\\tilde{x},Q^2)\n",
    "\\end{equation}\n",
    "And the unpolarized structure functions $F_{[UU,T]d}$ and $F_{[UU,L]d}$ are related to $F_{[UU,T]n}$ and $F_{[UU,L]n}$ by\n",
    "\\begin{equation}\n",
    "    \\{F_{[UU,T]d}(x,Q^2;\\alpha_p,\\mathbf{p}_{pT}),F_{[UU,L]d}(x,Q^2;\\alpha_p,\\mathbf{p}_{pT})\\} = [2(2\\pi)^3]\\frac{2f_d(\\alpha_p,\\mathbf{p}_{pT})[unpol]}{2-\\alpha_p}\\{F_{[UU,T]n}(\\tilde{x},Q^2),F_{[UU,L]n}(\\tilde{x},Q^2)\\}\n",
    "\\end{equation}\n",
    "\n",
    "Using all of this the three-state asymmetries becomes\n",
    "\\begin{align}\n",
    "    A_{\\parallel}^{(3)}[\\text{vector}](x,Q^2;\\alpha_p,\\mathbf{p}_{pT}) &= \\frac{D_{L \\parallel}F_{[LS_L]d}(x,Q^2;\\alpha_p,\\mathbf{p}_{pT})}{[F_{[UU,T]d} + \\epsilon F_{[UU,L]d}](x,Q^2;\\alpha_p,\\mathbf{p}_{pT})} \\\\\n",
    "    &= \\frac{\\Delta f_d(\\alpha_p,\\mathbf{p}_{pT})[pure +1] D_{L \\parallel} F_{[LS_L]n}(\\tilde{x},Q^2)}{f_d(\\alpha_p,\\mathbf{p}_{pT})[unpol][F_{[UU,T]n} + \\epsilon F_{[UU,L]n}](\\tilde{x},Q^2)} \\\\\n",
    "    &= D_d^{(3)}[\\text{vector}](\\alpha_p,\\mathbf{p}_{pT})A_{\\parallel n}(y,\\tilde{x},Q^2) \\\\\n",
    "    D_d^{(3)}[\\text{vector}](\\alpha_p,\\mathbf{p}_{pT}) &= \\frac{\\Delta f_d(\\alpha_p,\\mathbf{p}_{pT})[pure +1]}{f_d(\\alpha_p,\\mathbf{p}_{pT})[unpol]} \\\\\n",
    "    A_{\\parallel n}(y,\\tilde{x},Q^2) &= \\frac{D_{L \\parallel} F_{[LS_L]n}(\\tilde{x},Q^2)}{[F_{[UU,T]n} + \\epsilon F_{[UU,L]n}](\\tilde{x},Q^2)}\n",
    "\\end{align}\n",
    "where $D_d^{(3)}$ is the ratio of the helicity-dependent and -independent neutron distribution functions in the deuteron and is called the deuteron depolarization factor. $A_{\\parallel n}$ is the ratio of the polarized and unpolarized neutron structure functions and is the neutron spin asymmetry.\n",
    "\n",
    "### Two-state asymmetries \n",
    "The same can be done by using the average of the cross section where the deuteron state is only $\\pm 1$, this gives\n",
    "\\begin{align}\n",
    "    &\\frac{1}{4}[d\\sigma_{\\parallel}(+\\frac{1}{2},+1) + d\\sigma_{\\parallel}(-\\frac{1}{2},+1) + d\\sigma_{\\parallel}(+\\frac{1}{2},-1) + d\\sigma_{\\parallel}(-\\frac{1}{2},-1)] \\\\\n",
    "    &= [...](F_{[UU,T]d} + \\epsilon F_{[UU,L]d} + D_{T_{LL},\\parallel}(F_{[UT_{LL},T]d} + \\epsilon F_{[UT_{LL},L]d})+D_{UT_{LT},\\parallel}F_{[UT_{LT}]d} + D_{T_{TT},\\parallel}F_{[UT_{TT}]d})\n",
    "\\end{align}\n",
    "where the tensor-polarized structure functions appear with the tensor depolarization factors defined as\n",
    "\\begin{equation}\n",
    "    D_{T_{LL},\\parallel} = \\frac{1}{6}\\left[\\frac{3(1+\\gamma^2y/2)^2}{1+\\gamma^2}-1\\right]\n",
    "\\end{equation}\n",
    "The other factors will be dropped because of their scaling behaviour, more about this later.\n",
    "\n",
    "So that the two-state asymmetry $A_{\\parallel}^{(2)}$, defined as the ratio of the spin difference that was defined above with this spin average, is than given by\n",
    "\\begin{align}\n",
    "    A_{\\parallel}^{(2)}[\\text{vector}] &= \\frac{\\frac{1}{4}[d\\sigma_{\\parallel}(+\\frac{1}{2},+1) - d\\sigma_{\\parallel}(-\\frac{1}{2},+1) + d\\sigma_{\\parallel}(+\\frac{1}{2},-1) - d\\sigma_{\\parallel}(-\\frac{1}{2},-1)]}{\\frac{1}{4}[d\\sigma_{\\parallel}(+\\frac{1}{2},+1) + d\\sigma_{\\parallel}(-\\frac{1}{2},+1) + d\\sigma_{\\parallel}(+\\frac{1}{2},-1) + d\\sigma_{\\parallel}(-\\frac{1}{2},-1)]} \\\\\n",
    "    &= \\frac{D_{L \\parallel}F_{[LS_L]d} + D_{T \\parallel}F_{[LS_T]d}}{F_{[UU,T]d} + \\epsilon F_{[UU,L]d} + D_{T_{LL},\\parallel}(F_{[UT_{LL},T]d} + \\epsilon F_{[UT_{LL},L]d})+D_{UT_{LT},\\parallel}F_{[UT_{LT}]d} + D_{T_{TT},\\parallel}F_{[UT_{TT}]d}}\n",
    "\\end{align}\n",
    "Again using the power cutoff, $\\mathcal{O}(\\gamma)$ we find that $A_{\\parallel}^{(2)}$ becomes\n",
    "\\begin{equation}\n",
    "    A_{\\parallel}^{(2)}[\\text{vector}] = \\frac{D_{L \\parallel}F_{[LS_L]d}}{F_{[UU,T]d} + \\epsilon F_{[UU,L]d} + D_{T_{LL},\\parallel}(F_{[UT_{LL},T]d} + \\epsilon F_{[UT_{LL},L]d})}\n",
    "\\end{equation}\n",
    "\n",
    "Using the following relation between the tensor tagged deuteron structure functions $F_{[UT_{LL},T]d}$ and $F_{[UT_{LL},L]d}$ and the neutron ones\n",
    "\\begin{equation}\n",
    "    D_{T_{LL},\\parallel}\\{F_{[UT_{LL},T]d},F_{[UT_{LL},L]d}\\}(x,Q^2;\\alpha_p,\\mathbf{p}_{pT}) = [2(2\\pi)^3]\\frac{2f_d(\\alpha_p,\\mathbf{p}_{pT}) [tensor]}{2-\\alpha_p}\\{F_{[UU,T]n},F_{[UU,L]n}\\}(\\tilde{x},Q^2)\n",
    "\\end{equation}\n",
    "We find again the relation between the two-state deuteron asymmetry and the neutron spin asymmetry\n",
    "\\begin{align}\n",
    "    A_{\\parallel}^{(2)}[\\text{vector}](x,Q^2;\\alpha_p,\\mathbf{p}_{pT})  &= \\frac{D_{L \\parallel}F_{[LS_L]d}(x,Q^2;\\alpha_p,\\mathbf{p}_{pT})}{[F_{[UU,T]d} + \\epsilon F_{[UU,L]d} + D_{T_{LL},\\parallel}(F_{[UT_{LL},T]d} + \\epsilon F_{[UT_{LL},L]d})](x,Q^2;\\alpha_p,\\mathbf{p}_{pT})} \\\\\n",
    "    &= \\frac{\\Delta f_d(\\alpha_p,\\mathbf{p}_{pT})[pure +1] D_{L \\parallel} F_{[LS_L]n}(\\tilde{x},Q^2)}{f_d(\\alpha_p,\\mathbf{p}_{pT})[unpol][F_{[UU,T]n} + \\epsilon F_{[UU,L]n}] + f_d(\\alpha_p,\\mathbf{p}_{pT}) [tensor][F_{[UU,T]n} + \\epsilon F_{[UU,L]n}]} \\\\\n",
    "    &= D_d^{(2)}[\\text{vector}](\\alpha_p,\\mathbf{p}_{pT})A_{\\parallel n}(y,\\tilde{x},Q^2) \\\\\n",
    "    D_d^{(2)}[\\text{vector}](\\alpha_p,\\mathbf{p}_{pT}) &= \\frac{\\Delta f_d(\\alpha_p,\\mathbf{p}_{pT})[pure +1]}{f_d(\\alpha_p,\\mathbf{p}_{pT})[unpol]+f_d(\\alpha_p,\\mathbf{p}_{pT}) [tensor]}\n",
    "\\end{align}\n",
    "\n",
    "## Tensor assymetry\n",
    "### Three-state assymetry\n",
    "Now isolating the deuteron tensor polarized structure functions $F_{[UT_{LL,T}]}$ and $F_{[UT_{LL}]}$ as such\n",
    "\\begin{align}\n",
    "\t&\\frac{1}{8}\\big[d\\sigma_{\\parallel}(\\frac{1}{2}, 1) + d\\sigma_{\\parallel}(-\\frac{1}{2}, 1) + d\\sigma_{\\parallel}(\\frac{1}{2}, -1) + d\\sigma_{\\parallel}(-\\frac{1}{2}, -1) - 2 \\big[ d\\sigma_{\\parallel} (\\frac{1}{2}, 0) + d\\sigma_{\\parallel}(-\\frac{1}{2}, 0)\\big]\\big]\\\\\n",
    "\t=& [...]\\frac{12}{8}\\big[D_{T_{LL},\\parallel}(F_{[UT_{LL},T]d} + \\epsilon F_{[UT_{LL},L]d}) +D_{UT_{LT},\\parallel} F_{[UT_{LT}]d} + D_{T_{TT},\\parallel} F_{[UT_{TT}]d} \\big]\n",
    "\\end{align}\n",
    "\n",
    "Using the average of the cross section in all  spin states to once again define a three-state assymetry as\n",
    "\\begin{align}\n",
    "A_{\\parallel}^{(3)}[\\text{tensor}] &= \\frac{\\frac{1}{8}\\big[d\\sigma_{\\parallel}(\\frac{1}{2}, 1) + d\\sigma_{\\parallel}(-\\frac{1}{2}, 1) + d\\sigma_{\\parallel}(\\frac{1}{2}, -1) + d\\sigma_{\\parallel}(-\\frac{1}{2}, -1) - 2 \\big[ d\\sigma_{\\parallel} (\\frac{1}{2}, 0) + d\\sigma_{\\parallel}(-\\frac{1}{2}, 0)\\big]\\big]} {\\frac{1}{6}\\big[ d\\sigma_{\\parallel}(+\\frac{1}{2},+1) + d\\sigma_{\\parallel}(-\\frac{1}{2},+1) + d\\sigma_{\\parallel}(+\\frac{1}{2},-1) + d\\sigma_{\\parallel}(-\\frac{1}{2},-1)+ d\\sigma_{\\parallel}(+\\frac{1}{2},0)+ d\\sigma_{\\parallel}(-\\frac{1}{2},0) \\big]} \\\\\n",
    "\t&=\\frac{3}{2}\\frac{D_{T_{LL},\\parallel}(F_{[UT_{LL},T]d} + \\epsilon F_{[UT_{LL},L]d}) +D_{UT_{LT},\\parallel} F_{[UT_{LT}]d} + D_{T_{TT},\\parallel} F_{[UT_{TT}]d}} {F_{[UU,T]d} + \\epsilon F_{[UU,L]d}}\n",
    "\\end{align}\n",
    "\n",
    "and again using the scaling behaviour to get up to power corrections $\\mathcal{O}(\\gamma)$\n",
    "\\begin{equation}\n",
    "    A_{\\parallel d}^{(3)}[\\text{tensor}] = \\frac{3}{2} \\frac{D_{T_{LL},\\parallel} (F_{[UT_{LL},T]d} + \\epsilon F_{[UT_{LL},L]d})} {F_{[UU,T]d} + \\epsilon F_{[UU,L]d}}\n",
    "\\end{equation}\n",
    "The relations between the tensor tagged deuteron structure functions and the free neutron structure functions is now given by\n",
    "\t\\begin{align}\n",
    "\t\tT_{LL}F_{[UT_{LL},T]d}(x,Q^2;\\alpha_p,\\mathbf{p}_{pT}) &= [2(2\\pi)^3] \\frac{2f_d(\\alpha_p,\\mathbf{p}_{pT})[\\text{tensor}]}{2-\\alpha_p} F_{[UU,T]n} \\\\\n",
    "\t\tT_{LL}F_{[UT_{LL},L]d}(x,Q^2;\\alpha_p,\\mathbf{p}_{pT}) &= [2(2\\pi)^3] \\frac{2f_d(\\alpha_p,\\mathbf{p}_{pT})[\\text{tensor}]}{2-\\alpha_p} F_{[UU,L]n}\\\n",
    "\\end{align}\n",
    "so that the three-state deuteron tensor assymetry becomes\n",
    "\\begin{align}\n",
    "\t\tA_{\\parallel d}^{(3)}[\\text{tensor}](x,Q^2;\\alpha_p,\\mathbf{p}_{pT}) &= \\frac{3}{2} \\frac{D_{T_{LL},\\parallel} [F_{[UT_{LL},T]d} + \\epsilon F_{[UT_{LL},L]d}](\\tilde{x},Q^2)} {[F_{[UU,T]d} + \\epsilon F_{[UU,L]d}](\\tilde{x},Q^2)} \\\\\n",
    "\t\t&= \\frac{3}{2}\\frac{f_d(\\alpha_p,\\mathbf{p}_{pT})[\\text{tensor}] [[F_{[UU,T]n} + \\epsilon F_{[UU,L]n}] (\\tilde{x},Q^2)} {f_d(\\alpha_p,\\mathbf{p}_{pT})[\\text{unpol}][F_{[UU,T]n} + \\epsilon F_{[UU,L]n}](\\tilde{x},Q^2)} \\\\\n",
    "\t\t&= \\frac{3}{2} D_d^{(3)}[\\text{tensor}] (\\alpha_p,\\mathbf{p}_{pT})\\\\\n",
    "\t\tD_d^{(3)}[\\text{tensor}](\\alpha_p,\\mathbf{p}_{pT}) &= \\frac{ f_d(\\alpha_p,\\mathbf{p}_{pT})[\\text{tensor}]} {f_d(\\alpha_p,\\mathbf{p}_{pT}) [\\text{unpol}]}\n",
    "\\end{align}\n",
    "Which is independent of the free neutron and can be used to extract the D-wave contribution to the deuteron wave function.\n",
    "\n",
    "### Two-state assymetry\n",
    "The two-state tensor assymmetry can be given in the same way. Now using the average of the cross section where the deuteron state is only $\\pm 1$ we find\n",
    "\\begin{align}\n",
    "\tA_{\\parallel}^{(2)}[\\text{tensor}] &= \\frac{\\frac{1}{8}\\big[d\\sigma_{\\parallel}(\\frac{1}{2}, 1) + d\\sigma_{\\parallel}(-\\frac{1}{2}, 1) + d\\sigma_{\\parallel}(\\frac{1}{2}, -1) + d\\sigma_{\\parallel}(-\\frac{1}{2}, -1)- 2 \\big[ d\\sigma_{\\parallel} (\\frac{1}{2}, 0) + d\\sigma_{\\parallel}(-\\frac{1}{2}, 0)\\big]\\big]} {\\frac{1}{6}\\big[ d\\sigma_{\\parallel}(+\\frac{1}{2},+1) + d\\sigma_{\\parallel}(-\\frac{1}{2},+1) + d\\sigma_{\\parallel}(+\\frac{1}{2},-1) + d\\sigma_{\\parallel}(-\\frac{1}{2},-1) \\big]} \\\\\n",
    "\t&=\\frac{3}{2}\\frac{D_{T_{LL},\\parallel}(F_{[UT_{LL},T]d} + \\epsilon F_{[UT_{LL},L]d}) +D_{UT_{LT},\\parallel} F_{[UT_{LT}]d} + D_{T_{TT},\\parallel} F_{[UT_{TT}]d}} {F_{[UU,T]d} + \\epsilon F_{[UU,L]d} + D_{T_{LL},\\parallel} (F_{[UT_{LL},T]d} + \\epsilon F_{[UT_{LL},L]d}) + D_{UT_{LT},\\parallel} F_{[UT_{LT}]d}  + D_{T_{TT},\\parallel} F_{[UT_{TT}]d}} \\\\\n",
    "    &\\approx \\frac{3}{2} \\frac{D_{T_{LL},\\parallel} (F_{[UT_{LL},T]d} + \\epsilon F_{[UT_{LL},L]d})} {F_{[UU,T]d} + \\epsilon F_{[UU,L]d} + D_{T_{LL},\\parallel} (F_{[UT_{LL},T]d} + \\epsilon F_{[UT_{LL},L]d})} + \\mathcal{O}(\\gamma)\n",
    "\\end{align}\n",
    "which again, by using the relation to the neutron structure functions, become\n",
    "\\begin{align}\n",
    "\tA_{\\parallel d}^{(2)}[\\text{tensor}](x,Q^2;\\alpha_p,\\mathbf{p}_{pT}) &= \\frac{3}{2} \\frac{D_{T_{LL},\\parallel} [F_{[UT_{LL},T]d} + \\epsilon F_{[UT_{LL},L]d}](\\tilde{x},Q^2)} {[F_{[UU,T]d} + \\epsilon F_{[UU,L]d} + D_{T_{LL},\\parallel}(F_{[UT_{LL},T]d} +  \\epsilon F_{[UT_{LL},L]d})](x,Q^2;\\alpha_p,\\mathbf{p}_{pT})} \\\\\n",
    "\t&= \\frac{3}{2}\\frac{f_d(\\alpha_p,\\mathbf{p}_{pT})[\\text{tensor}] [F_{[UT_{LL},T]d} + \\epsilon F_{[UT_{LL},L]d}] (\\tilde{x},Q^2)} {f_d(\\alpha_p,\\mathbf{p}_{pT})[\\text{unpol}][F_{[UU,T]n} + \\epsilon F_{[UU,L]n}] +  f_d(\\alpha_p,\\mathbf{p}_{pT}) [\\text{tensor}][F_{[UU,T]n} + \\epsilon F_{[UU,L]n}]}\\\\\n",
    "\t&= \\frac{3}{2} D_d^{(2)}[\\text{tensor}] (\\alpha_p,\\mathbf{p}_{pT}) \\\\\n",
    "\tD_d^{(2)}[\\text{tensor}](\\alpha_p,\\mathbf{p}_{pT}) &= \\frac{ f_d(\\alpha_p,\\mathbf{p}_{pT})[\\text{tensor}]} {f_d(\\alpha_p,\\mathbf{p}_{pT}) [\\text{unpol}] + f_d(\\alpha_p,\\mathbf{p}_{pT}) [\\text{tensor}]} \n",
    "\\end{align}"
   ]
  },
  {
   "cell_type": "code",
   "execution_count": 2,
   "metadata": {},
   "outputs": [
    {
     "data": {
      "application/vnd.jupyter.widget-view+json": {
       "model_id": "ec15ab784c5a47b19f7e2cae3149552a",
       "version_major": 2,
       "version_minor": 0
      },
      "text/plain": [
       "HTMLMath(value='<center><b><h1>Deuteron depolarization factors $D_d^{(3)}$ and $D_d^{(2)}$</h1>\\n    </b></cen…"
      ]
     },
     "metadata": {},
     "output_type": "display_data"
    },
    {
     "data": {
      "application/vnd.jupyter.widget-view+json": {
       "model_id": "ec0c70c30b4148da830da3809bd98128",
       "version_major": 2,
       "version_minor": 0
      },
      "text/plain": [
       "Text(value='1.', description='$\\\\alpha_p$', layout=Layout(width='480px'), placeholder='proton light cone momen…"
      ]
     },
     "metadata": {},
     "output_type": "display_data"
    },
    {
     "data": {
      "application/vnd.jupyter.widget-view+json": {
       "model_id": "861a0e533505430d8841dd6312a2ea53",
       "version_major": 2,
       "version_minor": 0
      },
      "text/plain": [
       "HBox(children=(RadioButtons(description='kinematic variable:', index=1, layout=Layout(width='480px'), options=…"
      ]
     },
     "metadata": {},
     "output_type": "display_data"
    },
    {
     "data": {
      "application/vnd.jupyter.widget-view+json": {
       "model_id": "1fa05cb0aa1442e59723b11bd57cecf9",
       "version_major": 2,
       "version_minor": 0
      },
      "text/plain": [
       "HBox(children=(Text(value='600', description='kin. var. upper limit $(MeV/MeV^2)$', layout=Layout(width='480px…"
      ]
     },
     "metadata": {},
     "output_type": "display_data"
    },
    {
     "data": {
      "application/vnd.jupyter.widget-view+json": {
       "model_id": "26c27aef34394dd5b9b11300cb9cf50a",
       "version_major": 2,
       "version_minor": 0
      },
      "text/plain": [
       "HBox(children=(RadioButtons(description='Wave function:', layout=Layout(width='480px'), options=(('AV18a', 'fi…"
      ]
     },
     "metadata": {},
     "output_type": "display_data"
    },
    {
     "data": {
      "application/vnd.jupyter.widget-view+json": {
       "model_id": "4b93ab8656df4e25a22a703bf70a1e2a",
       "version_major": 2,
       "version_minor": 0
      },
      "text/plain": [
       "Text(value='', description='Figure name:', layout=Layout(width='480px'), placeholder='Name of figure for savin…"
      ]
     },
     "metadata": {},
     "output_type": "display_data"
    },
    {
     "data": {
      "application/vnd.jupyter.widget-view+json": {
       "model_id": "7e1319b596f04e9db8d2bcacb056aa70",
       "version_major": 2,
       "version_minor": 0
      },
      "text/plain": [
       "HBox(children=(Button(description='Make D_d[vector] figure', icon='check', layout=Layout(width='initial'), sty…"
      ]
     },
     "metadata": {},
     "output_type": "display_data"
    },
    {
     "data": {
      "application/vnd.jupyter.widget-view+json": {
       "model_id": "64f805055551415db2233a4539be41af",
       "version_major": 2,
       "version_minor": 0
      },
      "text/plain": [
       "Output()"
      ]
     },
     "metadata": {},
     "output_type": "display_data"
    }
   ],
   "source": [
    "out = Output()\n",
    "make_figure_D_d(out)\n",
    "out"
   ]
  },
  {
   "cell_type": "code",
   "execution_count": 3,
   "metadata": {},
   "outputs": [
    {
     "data": {
      "application/vnd.jupyter.widget-view+json": {
       "model_id": "90bb3061867e405982df9a839fc2c87b",
       "version_major": 2,
       "version_minor": 0
      },
      "text/plain": [
       "HTMLMath(value='<center><b><h1>Deuteron depolarization factors $D_d^{(3)}$ and $D_d^{(2)}$<br/>\\n    for diffe…"
      ]
     },
     "metadata": {},
     "output_type": "display_data"
    },
    {
     "data": {
      "application/vnd.jupyter.widget-view+json": {
       "model_id": "8c4025b8466d4e079bcff8bebac5cc20",
       "version_major": 2,
       "version_minor": 0
      },
      "text/plain": [
       "Text(value='1, 1.04, 1.08', description='$\\\\alpha_p$', layout=Layout(width='480px'), placeholder='proton light…"
      ]
     },
     "metadata": {},
     "output_type": "display_data"
    },
    {
     "data": {
      "application/vnd.jupyter.widget-view+json": {
       "model_id": "15fb76534d26455bbbe293870dfe94ee",
       "version_major": 2,
       "version_minor": 0
      },
      "text/plain": [
       "HBox(children=(RadioButtons(description='kinematic variable:', index=1, layout=Layout(width='480px'), options=…"
      ]
     },
     "metadata": {},
     "output_type": "display_data"
    },
    {
     "data": {
      "application/vnd.jupyter.widget-view+json": {
       "model_id": "08ea1699ebde432280272c2317b50195",
       "version_major": 2,
       "version_minor": 0
      },
      "text/plain": [
       "HBox(children=(Text(value='100', description='kin. var. upper bound $(MeV/MeV^2)$', layout=Layout(width='480px…"
      ]
     },
     "metadata": {},
     "output_type": "display_data"
    },
    {
     "data": {
      "application/vnd.jupyter.widget-view+json": {
       "model_id": "8074b26bebce40f68451f58111abfae2",
       "version_major": 2,
       "version_minor": 0
      },
      "text/plain": [
       "HBox(children=(RadioButtons(description='Wave function:', layout=Layout(width='480px'), options=(('AV18a', 'fi…"
      ]
     },
     "metadata": {},
     "output_type": "display_data"
    },
    {
     "data": {
      "application/vnd.jupyter.widget-view+json": {
       "model_id": "6b6a80ffb4814dd5a87f2a64ec5ca7b2",
       "version_major": 2,
       "version_minor": 0
      },
      "text/plain": [
       "Text(value='', description='Figure name:', layout=Layout(width='480px'), placeholder='Name of figure for savin…"
      ]
     },
     "metadata": {},
     "output_type": "display_data"
    },
    {
     "data": {
      "application/vnd.jupyter.widget-view+json": {
       "model_id": "e47f9a5b363a439aaf887ae6f3abdb2f",
       "version_major": 2,
       "version_minor": 0
      },
      "text/plain": [
       "HBox(children=(Button(description='Make D_d[vector] figure', icon='check', layout=Layout(width='initial'), sty…"
      ]
     },
     "metadata": {},
     "output_type": "display_data"
    },
    {
     "data": {
      "application/vnd.jupyter.widget-view+json": {
       "model_id": "8694de0eb103478c8b169975a08b7f18",
       "version_major": 2,
       "version_minor": 0
      },
      "text/plain": [
       "Output()"
      ]
     },
     "metadata": {},
     "output_type": "display_data"
    }
   ],
   "source": [
    "out = Output()\n",
    "make_figure_D_d_zoom(out)\n",
    "out"
   ]
  },
  {
   "cell_type": "code",
   "execution_count": 4,
   "metadata": {},
   "outputs": [
    {
     "data": {
      "application/vnd.jupyter.widget-view+json": {
       "model_id": "7aaf02e144484ecd9dbf646aab3df522",
       "version_major": 2,
       "version_minor": 0
      },
      "text/plain": [
       "HTMLMath(value='<center><b><h1>Spin asymmetry $A_{\\\\parallel d}^{(3)}$[vector]</h1></b></center>\\n    <hr>\\n  …"
      ]
     },
     "metadata": {},
     "output_type": "display_data"
    },
    {
     "data": {
      "application/vnd.jupyter.widget-view+json": {
       "model_id": "63de2b1c51a3450f888a8574801ecd54",
       "version_major": 2,
       "version_minor": 0
      },
      "text/plain": [
       "HBox(children=(Text(value='2e7', description='$L_{int}$ $(nb^{-1})$', layout=Layout(width='450px'), placeholde…"
      ]
     },
     "metadata": {},
     "output_type": "display_data"
    },
    {
     "data": {
      "application/vnd.jupyter.widget-view+json": {
       "model_id": "46743c8c7b24420ab96870820cee4f8d",
       "version_major": 2,
       "version_minor": 0
      },
      "text/plain": [
       "HBox(children=(Text(value='0.04', description='begin Bjorken x', layout=Layout(width='450px'), placeholder='Bj…"
      ]
     },
     "metadata": {},
     "output_type": "display_data"
    },
    {
     "data": {
      "application/vnd.jupyter.widget-view+json": {
       "model_id": "ee965df8d1d148e895f49820dfec7882",
       "version_major": 2,
       "version_minor": 0
      },
      "text/plain": [
       "HBox(children=(Text(value='13e6,20e6,30e6', description='begin $Q^2$$(MeV^2)$', layout=Layout(width='450px'), …"
      ]
     },
     "metadata": {},
     "output_type": "display_data"
    },
    {
     "data": {
      "application/vnd.jupyter.widget-view+json": {
       "model_id": "ddf5bedbf9294d219e633a0e9a46032e",
       "version_major": 2,
       "version_minor": 0
      },
      "text/plain": [
       "HBox(children=(Text(value='0.98', description='begin $\\\\alpha_p$', layout=Layout(width='450px'), placeholder='…"
      ]
     },
     "metadata": {},
     "output_type": "display_data"
    },
    {
     "data": {
      "application/vnd.jupyter.widget-view+json": {
       "model_id": "a835483aa1b34a958f21e1ae6f19d1ff",
       "version_major": 2,
       "version_minor": 0
      },
      "text/plain": [
       "HBox(children=(RadioButtons(description='kinematic variable:', layout=Layout(width='450px'), options=((\"t' (Me…"
      ]
     },
     "metadata": {},
     "output_type": "display_data"
    },
    {
     "data": {
      "application/vnd.jupyter.widget-view+json": {
       "model_id": "79bc750ba2354617bcc0eab3e6d40ffc",
       "version_major": 2,
       "version_minor": 0
      },
      "text/plain": [
       "HBox(children=(Text(value='0', description='end kin. var. $(MeV/MeV^2)$', layout=Layout(width='450px'), placeh…"
      ]
     },
     "metadata": {},
     "output_type": "display_data"
    },
    {
     "data": {
      "application/vnd.jupyter.widget-view+json": {
       "model_id": "eef60dc0e86243cc8e03a8fa180db3cd",
       "version_major": 2,
       "version_minor": 0
      },
      "text/plain": [
       "HBox(children=(Dropdown(description='Structure Function:', index=3, layout=Layout(width='450px'), options=(('C…"
      ]
     },
     "metadata": {},
     "output_type": "display_data"
    },
    {
     "data": {
      "application/vnd.jupyter.widget-view+json": {
       "model_id": "e24ab986b51c4ddeb90beff4ef9183c8",
       "version_major": 2,
       "version_minor": 0
      },
      "text/plain": [
       "HBox(children=(RadioButtons(description='x-axis variable:', layout=Layout(width='450px'), options=((\"t'(GeV^2)…"
      ]
     },
     "metadata": {},
     "output_type": "display_data"
    },
    {
     "data": {
      "application/vnd.jupyter.widget-view+json": {
       "model_id": "03cd6d0790154c339bae863e92a59c3b",
       "version_major": 2,
       "version_minor": 0
      },
      "text/plain": [
       "HBox(children=(Text(value='5', description='MC iterations:', layout=Layout(width='450px'), placeholder='nitn',…"
      ]
     },
     "metadata": {},
     "output_type": "display_data"
    },
    {
     "data": {
      "application/vnd.jupyter.widget-view+json": {
       "model_id": "915d6dff6aef44acbedc61a666d94e76",
       "version_major": 2,
       "version_minor": 0
      },
      "text/plain": [
       "HBox(children=(Button(description='Make A_d_3[vector] bin average figure', icon='check', layout=Layout(width='…"
      ]
     },
     "metadata": {},
     "output_type": "display_data"
    },
    {
     "data": {
      "application/vnd.jupyter.widget-view+json": {
       "model_id": "42d5c6e2a3e1409e9e21103f8a86af0b",
       "version_major": 2,
       "version_minor": 0
      },
      "text/plain": [
       "Output()"
      ]
     },
     "metadata": {},
     "output_type": "display_data"
    }
   ],
   "source": [
    "out = Output()\n",
    "make_figure_A_d_3_vec(out)\n",
    "out"
   ]
  },
  {
   "cell_type": "code",
   "execution_count": 5,
   "metadata": {},
   "outputs": [
    {
     "data": {
      "application/vnd.jupyter.widget-view+json": {
       "model_id": "c8b4f3373f2148a2bc9c8eccc6bfc71d",
       "version_major": 2,
       "version_minor": 0
      },
      "text/plain": [
       "HTMLMath(value='<center><b><h1>Spin asymmetry $A_{\\\\parallel d}^{(2)}$[vector]</h1></b></center>\\n    <hr>\\n  …"
      ]
     },
     "metadata": {},
     "output_type": "display_data"
    },
    {
     "data": {
      "application/vnd.jupyter.widget-view+json": {
       "model_id": "a11155e429fa49bfbb0b0d2d391953b3",
       "version_major": 2,
       "version_minor": 0
      },
      "text/plain": [
       "HBox(children=(Text(value='2e7', description='$L_{int}$ $(nb^{-1})$', layout=Layout(width='450px'), placeholde…"
      ]
     },
     "metadata": {},
     "output_type": "display_data"
    },
    {
     "data": {
      "application/vnd.jupyter.widget-view+json": {
       "model_id": "af1e7922bff2459bb2eea2aa5c6ba0b8",
       "version_major": 2,
       "version_minor": 0
      },
      "text/plain": [
       "HBox(children=(Text(value='0.04', description='begin Bjorken x', layout=Layout(width='450px'), placeholder='Bj…"
      ]
     },
     "metadata": {},
     "output_type": "display_data"
    },
    {
     "data": {
      "application/vnd.jupyter.widget-view+json": {
       "model_id": "40e457ddda13417d94ef75e19269aa92",
       "version_major": 2,
       "version_minor": 0
      },
      "text/plain": [
       "HBox(children=(Text(value='13e6,20e6,30e6', description='begin $Q^2$$(MeV^2)$', layout=Layout(width='450px'), …"
      ]
     },
     "metadata": {},
     "output_type": "display_data"
    },
    {
     "data": {
      "application/vnd.jupyter.widget-view+json": {
       "model_id": "331761d92dc34fdb9c07fba47a9615f9",
       "version_major": 2,
       "version_minor": 0
      },
      "text/plain": [
       "HBox(children=(Text(value='0.98', description='begin $\\\\alpha_p$', layout=Layout(width='450px'), placeholder='…"
      ]
     },
     "metadata": {},
     "output_type": "display_data"
    },
    {
     "data": {
      "application/vnd.jupyter.widget-view+json": {
       "model_id": "a6b9954f1aca4d87adbc07f36e4a83b9",
       "version_major": 2,
       "version_minor": 0
      },
      "text/plain": [
       "HBox(children=(RadioButtons(description='kinematic variable:', layout=Layout(width='450px'), options=((\"t' (Me…"
      ]
     },
     "metadata": {},
     "output_type": "display_data"
    },
    {
     "data": {
      "application/vnd.jupyter.widget-view+json": {
       "model_id": "075367c766014b07946be004fe3c49ce",
       "version_major": 2,
       "version_minor": 0
      },
      "text/plain": [
       "HBox(children=(Text(value='0', description='end kin. var. $(MeV/MeV^2)$', layout=Layout(width='450px'), placeh…"
      ]
     },
     "metadata": {},
     "output_type": "display_data"
    },
    {
     "data": {
      "application/vnd.jupyter.widget-view+json": {
       "model_id": "14d49fc2ad9f4d8c932e4edb0f6c96db",
       "version_major": 2,
       "version_minor": 0
      },
      "text/plain": [
       "HBox(children=(Dropdown(description='Structure Function:', index=3, layout=Layout(width='450px'), options=(('C…"
      ]
     },
     "metadata": {},
     "output_type": "display_data"
    },
    {
     "data": {
      "application/vnd.jupyter.widget-view+json": {
       "model_id": "ce369e84fe124150a53f3727807ca286",
       "version_major": 2,
       "version_minor": 0
      },
      "text/plain": [
       "HBox(children=(RadioButtons(description='x-axis variable:', layout=Layout(width='450px'), options=((\"t'(GeV^2)…"
      ]
     },
     "metadata": {},
     "output_type": "display_data"
    },
    {
     "data": {
      "application/vnd.jupyter.widget-view+json": {
       "model_id": "0e5988ad5ad04eb89705ea95e6cc01a9",
       "version_major": 2,
       "version_minor": 0
      },
      "text/plain": [
       "HBox(children=(Text(value='5', description='MC iterations:', layout=Layout(width='450px'), placeholder='nitn',…"
      ]
     },
     "metadata": {},
     "output_type": "display_data"
    },
    {
     "data": {
      "application/vnd.jupyter.widget-view+json": {
       "model_id": "bc5ee90bad274439ba94d9946f55a109",
       "version_major": 2,
       "version_minor": 0
      },
      "text/plain": [
       "HBox(children=(Button(description='Make bin average figure', icon='check', layout=Layout(width='initial'), sty…"
      ]
     },
     "metadata": {},
     "output_type": "display_data"
    },
    {
     "data": {
      "application/vnd.jupyter.widget-view+json": {
       "model_id": "73cb85dbceaa4091bc55c3d2924d9bce",
       "version_major": 2,
       "version_minor": 0
      },
      "text/plain": [
       "Output()"
      ]
     },
     "metadata": {},
     "output_type": "display_data"
    }
   ],
   "source": [
    "out = Output()\n",
    "make_figure_A_d_2_vec(out)\n",
    "out"
   ]
  },
  {
   "cell_type": "code",
   "execution_count": 6,
   "metadata": {},
   "outputs": [
    {
     "data": {
      "application/vnd.jupyter.widget-view+json": {
       "model_id": "a56680ab76564d86ad8d125eecf15657",
       "version_major": 2,
       "version_minor": 0
      },
      "text/plain": [
       "HTMLMath(value='<center><b><h1>Spin asymmetry $A_{\\\\parallel d}^{(3)}$[tensor]</h1></b></center>\\n    <hr>\\n  …"
      ]
     },
     "metadata": {},
     "output_type": "display_data"
    },
    {
     "data": {
      "application/vnd.jupyter.widget-view+json": {
       "model_id": "f1da1f28dd7745a1997ed82bce26ed4c",
       "version_major": 2,
       "version_minor": 0
      },
      "text/plain": [
       "HBox(children=(Text(value='2e7', description='$L_{int}$ $(nb^{-1})$', layout=Layout(width='450px'), placeholde…"
      ]
     },
     "metadata": {},
     "output_type": "display_data"
    },
    {
     "data": {
      "application/vnd.jupyter.widget-view+json": {
       "model_id": "2f4d719b045c4f95aa190d6cb1e86683",
       "version_major": 2,
       "version_minor": 0
      },
      "text/plain": [
       "HBox(children=(Text(value='0.04', description='begin Bjorken x', layout=Layout(width='450px'), placeholder='Bj…"
      ]
     },
     "metadata": {},
     "output_type": "display_data"
    },
    {
     "data": {
      "application/vnd.jupyter.widget-view+json": {
       "model_id": "e9b7d8b22b8a4589b6d5cdc4ad6864be",
       "version_major": 2,
       "version_minor": 0
      },
      "text/plain": [
       "HBox(children=(Text(value='20e6', description='begin $Q^2$$(MeV^2)$', layout=Layout(width='450px'), placeholde…"
      ]
     },
     "metadata": {},
     "output_type": "display_data"
    },
    {
     "data": {
      "application/vnd.jupyter.widget-view+json": {
       "model_id": "e3092345e91c455683e87b565abe3867",
       "version_major": 2,
       "version_minor": 0
      },
      "text/plain": [
       "HBox(children=(Text(value='0.98', description='begin $\\\\alpha_p$', layout=Layout(width='450px'), placeholder='…"
      ]
     },
     "metadata": {},
     "output_type": "display_data"
    },
    {
     "data": {
      "application/vnd.jupyter.widget-view+json": {
       "model_id": "691648e7a6bd47319f687816cd35ed46",
       "version_major": 2,
       "version_minor": 0
      },
      "text/plain": [
       "HBox(children=(RadioButtons(description='kinematic variable:', layout=Layout(width='450px'), options=((\"t' (Me…"
      ]
     },
     "metadata": {},
     "output_type": "display_data"
    },
    {
     "data": {
      "application/vnd.jupyter.widget-view+json": {
       "model_id": "2da3551928694aef84a7b5d472fd40e3",
       "version_major": 2,
       "version_minor": 0
      },
      "text/plain": [
       "HBox(children=(Text(value='0', description='end kin. var. $(MeV/MeV^2)$', layout=Layout(width='450px'), placeh…"
      ]
     },
     "metadata": {},
     "output_type": "display_data"
    },
    {
     "data": {
      "application/vnd.jupyter.widget-view+json": {
       "model_id": "be85e82de38044398feb91dc46e58731",
       "version_major": 2,
       "version_minor": 0
      },
      "text/plain": [
       "HBox(children=(Dropdown(description='Structure Function:', index=3, layout=Layout(width='450px'), options=(('C…"
      ]
     },
     "metadata": {},
     "output_type": "display_data"
    },
    {
     "data": {
      "application/vnd.jupyter.widget-view+json": {
       "model_id": "43412e372a5b4a0598df72d652e07e20",
       "version_major": 2,
       "version_minor": 0
      },
      "text/plain": [
       "HBox(children=(RadioButtons(description='x-axis variable:', layout=Layout(width='450px'), options=((\"t'(GeV^2)…"
      ]
     },
     "metadata": {},
     "output_type": "display_data"
    },
    {
     "data": {
      "application/vnd.jupyter.widget-view+json": {
       "model_id": "0877eb6fe04044279cb0f7ecef8beb66",
       "version_major": 2,
       "version_minor": 0
      },
      "text/plain": [
       "HBox(children=(Text(value='5', description='MC iterations:', layout=Layout(width='450px'), placeholder='nitn',…"
      ]
     },
     "metadata": {},
     "output_type": "display_data"
    },
    {
     "data": {
      "application/vnd.jupyter.widget-view+json": {
       "model_id": "8c536afb05e6472a9c47f724bb25bb62",
       "version_major": 2,
       "version_minor": 0
      },
      "text/plain": [
       "HBox(children=(Button(description='Make A_d_3[tensor] bin average figure', icon='check', layout=Layout(width='…"
      ]
     },
     "metadata": {},
     "output_type": "display_data"
    },
    {
     "data": {
      "application/vnd.jupyter.widget-view+json": {
       "model_id": "92d7aa7d0676487e970de52a51e540c8",
       "version_major": 2,
       "version_minor": 0
      },
      "text/plain": [
       "Output()"
      ]
     },
     "metadata": {},
     "output_type": "display_data"
    }
   ],
   "source": [
    "out = Output()\n",
    "make_figure_A_d_3_ten(out)\n",
    "out"
   ]
  },
  {
   "cell_type": "code",
   "execution_count": 7,
   "metadata": {},
   "outputs": [
    {
     "data": {
      "application/vnd.jupyter.widget-view+json": {
       "model_id": "680c787762304eadb3c2d807b3b5c9f4",
       "version_major": 2,
       "version_minor": 0
      },
      "text/plain": [
       "HTMLMath(value='<center><b><h1>Spin asymmetry $A_{\\\\parallel d}^{(2)}$[tensor]</h1></b></center>\\n    <hr>\\n  …"
      ]
     },
     "metadata": {},
     "output_type": "display_data"
    },
    {
     "data": {
      "application/vnd.jupyter.widget-view+json": {
       "model_id": "2f5fadec4242447c8c1d0cd3c2122d6c",
       "version_major": 2,
       "version_minor": 0
      },
      "text/plain": [
       "HBox(children=(Text(value='2e7', description='$L_{int}$ $(nb^{-1})$', layout=Layout(width='450px'), placeholde…"
      ]
     },
     "metadata": {},
     "output_type": "display_data"
    },
    {
     "data": {
      "application/vnd.jupyter.widget-view+json": {
       "model_id": "2febbd7101ac418a8d874941b4ad23fb",
       "version_major": 2,
       "version_minor": 0
      },
      "text/plain": [
       "HBox(children=(Text(value='0.04', description='begin Bjorken x', layout=Layout(width='450px'), placeholder='Bj…"
      ]
     },
     "metadata": {},
     "output_type": "display_data"
    },
    {
     "data": {
      "application/vnd.jupyter.widget-view+json": {
       "model_id": "433b8fc5042f4015916445644bfc5d91",
       "version_major": 2,
       "version_minor": 0
      },
      "text/plain": [
       "HBox(children=(Text(value='20e6', description='begin $Q^2$$(MeV^2)$', layout=Layout(width='450px'), placeholde…"
      ]
     },
     "metadata": {},
     "output_type": "display_data"
    },
    {
     "data": {
      "application/vnd.jupyter.widget-view+json": {
       "model_id": "6589073b4e244d30aa8c514051a81a0d",
       "version_major": 2,
       "version_minor": 0
      },
      "text/plain": [
       "HBox(children=(Text(value='0.98', description='begin $\\\\alpha_p$', layout=Layout(width='450px'), placeholder='…"
      ]
     },
     "metadata": {},
     "output_type": "display_data"
    },
    {
     "data": {
      "application/vnd.jupyter.widget-view+json": {
       "model_id": "1af7ab3c39cd499c85c4ac8116d49cc1",
       "version_major": 2,
       "version_minor": 0
      },
      "text/plain": [
       "HBox(children=(RadioButtons(description='kinematic variable:', layout=Layout(width='450px'), options=((\"t' (Me…"
      ]
     },
     "metadata": {},
     "output_type": "display_data"
    },
    {
     "data": {
      "application/vnd.jupyter.widget-view+json": {
       "model_id": "bba48c8c367c4383ad4305da8185da3c",
       "version_major": 2,
       "version_minor": 0
      },
      "text/plain": [
       "HBox(children=(Text(value='0', description='end kin. var. $(MeV/MeV^2)$', layout=Layout(width='450px'), placeh…"
      ]
     },
     "metadata": {},
     "output_type": "display_data"
    },
    {
     "data": {
      "application/vnd.jupyter.widget-view+json": {
       "model_id": "826a2fc771fc4acfbedfad8e6734d9c7",
       "version_major": 2,
       "version_minor": 0
      },
      "text/plain": [
       "HBox(children=(Dropdown(description='Structure Function:', index=3, layout=Layout(width='450px'), options=(('C…"
      ]
     },
     "metadata": {},
     "output_type": "display_data"
    },
    {
     "data": {
      "application/vnd.jupyter.widget-view+json": {
       "model_id": "315672853ea64c48a2a0cda6da046e8e",
       "version_major": 2,
       "version_minor": 0
      },
      "text/plain": [
       "HBox(children=(RadioButtons(description='x-axis variable:', layout=Layout(width='450px'), options=((\"t'(GeV^2)…"
      ]
     },
     "metadata": {},
     "output_type": "display_data"
    },
    {
     "data": {
      "application/vnd.jupyter.widget-view+json": {
       "model_id": "21320ef256e5426892e8fc1ddd829503",
       "version_major": 2,
       "version_minor": 0
      },
      "text/plain": [
       "HBox(children=(Text(value='5', description='MC iterations:', layout=Layout(width='450px'), placeholder='nitn',…"
      ]
     },
     "metadata": {},
     "output_type": "display_data"
    },
    {
     "data": {
      "application/vnd.jupyter.widget-view+json": {
       "model_id": "23447d0e54af450c8c71842aa006c86d",
       "version_major": 2,
       "version_minor": 0
      },
      "text/plain": [
       "HBox(children=(Button(description='Make Ad2[tensor] bin average figure', icon='check', layout=Layout(width='in…"
      ]
     },
     "metadata": {},
     "output_type": "display_data"
    },
    {
     "data": {
      "application/vnd.jupyter.widget-view+json": {
       "model_id": "ac22de12a6ba451bb17f6fd72bb98d49",
       "version_major": 2,
       "version_minor": 0
      },
      "text/plain": [
       "Output()"
      ]
     },
     "metadata": {},
     "output_type": "display_data"
    }
   ],
   "source": [
    "out = Output()\n",
    "make_figure_A_d_2_ten(out)\n",
    "out"
   ]
  }
 ],
 "metadata": {
  "kernelspec": {
   "display_name": "Python 3",
   "language": "python",
   "name": "python3"
  },
  "language_info": {
   "codemirror_mode": {
    "name": "ipython",
    "version": 3
   },
   "file_extension": ".py",
   "mimetype": "text/x-python",
   "name": "python",
   "nbconvert_exporter": "python",
   "pygments_lexer": "ipython3",
   "version": "3.7.6"
  }
 },
 "nbformat": 4,
 "nbformat_minor": 4
}
