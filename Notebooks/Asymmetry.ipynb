{
 "cells": [
  {
   "cell_type": "code",
   "execution_count": 3,
   "metadata": {},
   "outputs": [
    {
     "name": "stderr",
     "output_type": "stream",
     "text": [
      "[NbConvertApp] Converting notebook Programs.ipynb to script\n",
      "[NbConvertApp] Writing 168802 bytes to Programs.py\n"
     ]
    }
   ],
   "source": [
    "!jupyter nbconvert --to script Programs.ipynb\n",
    "from Programs import *\n",
    "error_settings = np.seterr(all='ignore')"
   ]
  },
  {
   "cell_type": "markdown",
   "metadata": {},
   "source": [
    "## Asymmetries\n",
    "Here the tagged deuteron asymmetries will be discussed. There are 2 different kind of asymmetries, called the three-state asymmetries $A_{\\parallel}^{(3)}$ and the two-state asymmetries $A_{\\parallel}^{(2)}$ which are defined by the sum and differences of differential cross sections for different electron and deuteron spin values, $\\sigma_e$ and $\\lambda_d$. First a quick refresher on the kinematic variables that will be used.\n",
    "\n",
    "## Kinematic variables\n",
    "First some conventional scaling variables are defined, such as the conventional Bjorken scaling variable for scattering of the deuteron $x_d$\n",
    "\\begin{align}\n",
    "    x_d &\\equiv \\frac{-q^2}{2(p_dq)} \\\\\n",
    "    y &\\equiv \\frac{(p_dq)}{(p_dp_e)} \\equiv \\frac{Q^2}{x_d(s_{ed}-m_d^2)}\n",
    "\\end{align}\n",
    "where $s_{ed} = (p_e+p_d)^2$ is the square of the C.O.M. energy of the electron deuteron system and $m_d$ the deuteron mass. The effective Bjorken variable for scattering from a nucleon in the deuteron in the absence of nuclear binding is the rescaled variable\n",
    "\\begin{equation}\n",
    "    x = 2x_d\n",
    "\\end{equation}\n",
    "and q is the 4-momentum transfer between the initial and final electron, which can also be seen as the 4-momentum of the virtual photon that is exchanged\n",
    "\\begin{equation}\n",
    "    q = p_e - p_{e'} \\Rightarrow Q^2 = -q^2 > 0\n",
    "\\end{equation}\n",
    "2 new kinematic variable are also introduced, $\\gamma$ and the virtual photon polarization parameter $\\epsilon$\n",
    "\\begin{align}\n",
    "    \\gamma^2 &\\equiv \\frac{m_d^2Q^2}{(p_dq)^2} = \\frac{4x_dm_d^2}{Q^2} \\\\\n",
    "    \\epsilon &\\equiv \\frac{1-y-\\gamma^2y^2/4}{1-y+y^2/2+\\gamma^2y^2/4}\n",
    "\\end{align}\n",
    "\n",
    "## Cross section\n",
    "We also remember at the form of the differential cross section of polarized tagged DIS (given in Kinematic variables):\n",
    "\\begin{align}\n",
    "d\\sigma[ed \\rightarrow e'Xp] &=  \\frac{2\\pi\\alpha_{em}^2y^2}{Q^4(1-\\epsilon)}dx_ddQ^2\\frac{d\\phi_{e'}}{2\\pi}(F_{[U]d} + F_{[L]d})\\frac{1}{[2(2\\pi)^3]}\\frac{d^3p_p}{E_p} \\\\\n",
    "F_{[U]d} &= F_{[UU,T]d} + \\epsilon F_{[UU,L]d} + T_{LL}(F_{[UT_{LL},T]d} + \\epsilon F_{[UT_{LL},L]d}) \\\\\n",
    "&+ \\sqrt{2\\epsilon(1+\\epsilon)}S_{T}sin\\phi_SF_{[US_T]d} + \\sqrt{2\\epsilon(1+\\epsilon)}T_{LT}cos\\phi_{T_L} F_{[UT_{LT}]d} \\\\\n",
    "&+ \\epsilon T_{TT}cos2\\phi_{T_T}F_{[UT_{TT}]d} \\\\\n",
    "F_{[L]d} &= (2\\sigma_e) \\{\\sqrt{1-\\epsilon^2}S_L F_{[LS_L]d} + \\sqrt{2\\epsilon(1+\\epsilon)}S_Tcos\\phi_S F_{[LS_{T}]d} \\\\\n",
    "\t&+ \\sqrt{2\\epsilon(1+\\epsilon)}T_{LT}sin\\phi_{T_L} F_{[LT_{LT}]d}\\}\n",
    "\\end{align}\n",
    "With $F_{[U]d}$ the structure functions independent of the electron helicity (U) and $F_{[L]d}$ which are proportional to the electron helicity (L).\n",
    "\n",
    "## Three-state asymmetries \n",
    "First looking at the sum of differential cross sections over all possible spin states. This gives the average of the cross section in all three deuteron spin states and is the unpolarized part or more specifically\n",
    "\\begin{align}\n",
    "    &\\frac{1}{6}[d\\sigma_{\\parallel}(+\\frac{1}{2},+1) + d\\sigma_{\\parallel}(-\\frac{1}{2},+1) + d\\sigma_{\\parallel}(+\\frac{1}{2},-1) + d\\sigma_{\\parallel}(-\\frac{1}{2},-1) + d\\sigma_{\\parallel}(+\\frac{1}{2},0) + d\\sigma_{\\parallel}(-\\frac{1}{2},0)] \\\\\n",
    "    &= [...](F_{[UU,T]d} + \\epsilon F_{[UU,L]d})\n",
    "\\end{align}\n",
    "\n",
    "Now isolating the electron spin-dependent structure functions $F_{[LS_L]}$ and $F_{[LS_T]}$ can be done by forming double spin differences with respect to bot the deuteron and electron spin. So this double spin difference gives\n",
    "\\begin{align}\n",
    "    &\\frac{1}{4}[d\\sigma_{\\parallel}(+\\frac{1}{2},+1) - d\\sigma_{\\parallel}(-\\frac{1}{2},+1) + d\\sigma_{\\parallel}(+\\frac{1}{2},-1) - d\\sigma_{\\parallel}(-\\frac{1}{2},-1)] \\\\\n",
    "    &= [...](D_{L \\parallel}F_{[LS_L]d} + D_{T \\parallel}F_{[LS_T]d})\n",
    "\\end{align}\n",
    "where $D_{L \\parallel}$ and $D_{T \\parallel}$ are given by\n",
    "\\begin{align}\n",
    "    D_{L \\parallel} &= \\frac{y(1-y/2)(1+\\gamma^2y/2)}{1-y+y/2+\\gamma^2y^2/4} \\\\\n",
    "    D_{T \\parallel} &= \\frac{-\\gamma y(1-y-\\gamma^2y^2/4)}{1-y+y/2+\\gamma^2y^2/4}\n",
    "\\end{align}\n",
    "The ratio of this difference with the full sum gives the three-state asymmetries $A_{\\parallel}^{(3)}$\n",
    "\\begin{align}\n",
    "    A_{\\parallel}^{(3)} &= \\frac{\\frac{1}{4}[d\\sigma_{\\parallel}(+\\frac{1}{2},+1) - d\\sigma_{\\parallel}(-\\frac{1}{2},+1) + d\\sigma_{\\parallel}(+\\frac{1}{2},-1) - d\\sigma_{\\parallel}(-\\frac{1}{2},-1)]}{\\frac{1}{6}[d\\sigma_{\\parallel}(+\\frac{1}{2},+1) + d\\sigma_{\\parallel}(-\\frac{1}{2},+1) + d\\sigma_{\\parallel}(+\\frac{1}{2},-1) + d\\sigma_{\\parallel}(-\\frac{1}{2},-1) + d\\sigma_{\\parallel}(+\\frac{1}{2},0) + d\\sigma_{\\parallel}(-\\frac{1}{2},0)]} \\\\\n",
    "    &= \\frac{D_{L \\parallel}F_{[LS_L]d} + D_{T \\parallel}F_{[LS_T]d}}{F_{[UU,T]d} + \\epsilon F_{[UU,L]d}}\n",
    "\\end{align}\n",
    "Only keeping the terms that scale slower than $\\gamma$ gives us up to a powe correction $\\mathcal{O}(\\gamma)$\n",
    "\\begin{equation}\n",
    "    A_{\\parallel}^{(3)} = \\frac{D_{L \\parallel}F_{[LS_L]d}}{F_{[UU,T]d} + \\epsilon F_{[UU,L]d}}\n",
    "\\end{equation}\n",
    "\n",
    "Now using the relation between the tagged deuteron structure functions and the free neutron structure functions we can find how the free neutron three-state asymmetry is related to the tagged deuteron three-state asymmetry. So since $F_{[LS_L]d}$ and $F_{[LS_L]n}$ are related as follows\n",
    "\\begin{equation}\n",
    "    F_{[LS_L]d}(x,Q^2;\\alpha_p,\\mathbf{p}_{pT}) = [2(2\\pi)^3]\\frac{2\\Delta f_d(\\alpha_p,\\mathbf{p}_{pT})[pure +1]}{2-\\alpha_p}F_{[LS_L]n}(\\tilde{x},Q^2)\n",
    "\\end{equation}\n",
    "And the unpolarized structure functions $F_{[UU,T]d}$ and $F_{[UU,L]d}$ are related to $F_{[UU,T]n}$ and $F_{[UU,L]n}$ by\n",
    "\\begin{equation}\n",
    "    \\{F_{[UU,T]d}(x,Q^2;\\alpha_p,\\mathbf{p}_{pT}),F_{[UU,L]d}(x,Q^2;\\alpha_p,\\mathbf{p}_{pT})\\} = [2(2\\pi)^3]\\frac{2f_d(\\alpha_p,\\mathbf{p}_{pT})[unpol]}{2-\\alpha_p}\\{F_{[UU,T]n}(\\tilde{x},Q^2),F_{[UU,L]n}(\\tilde{x},Q^2)\\}\n",
    "\\end{equation}\n",
    "\n",
    "Using all of this the three-state asymmetries becomes\n",
    "\\begin{align}\n",
    "    A_{\\parallel}^{(3)}(x,Q^2;\\alpha_p,\\mathbf{p}_{pT}) &= \\frac{D_{L \\parallel}F_{[LS_L]d}(x,Q^2;\\alpha_p,\\mathbf{p}_{pT})}{[F_{[UU,T]d} + \\epsilon F_{[UU,L]d}](x,Q^2;\\alpha_p,\\mathbf{p}_{pT})} \\\\\n",
    "    &= \\frac{\\Delta f_d(\\alpha_p,\\mathbf{p}_{pT})[pure +1] D_{L \\parallel} F_{[LS_L]n}(\\tilde{x},Q^2)}{f_d(\\alpha_p,\\mathbf{p}_{pT})[unpol][F_{[UU,T]n} + \\epsilon F_{[UU,L]n}](\\tilde{x},Q^2)} \\\\\n",
    "    &= D_d^{(3)}(\\alpha_p,\\mathbf{p}_{pT})A_{\\parallel n}(y,\\tilde{x},Q^2) \\\\\n",
    "    D_d^{(3)}(\\alpha_p,\\mathbf{p}_{pT}) &= \\frac{\\Delta f_d(\\alpha_p,\\mathbf{p}_{pT})[pure +1]}{f_d(\\alpha_p,\\mathbf{p}_{pT})[unpol]} \\\\\n",
    "    A_{\\parallel n}(y,\\tilde{x},Q^2) &= \\frac{D_{L \\parallel} F_{[LS_L]n}(\\tilde{x},Q^2)}{[F_{[UU,T]n} + \\epsilon F_{[UU,L]n}](\\tilde{x},Q^2)}\n",
    "\\end{align}\n",
    "where $D_d^{(3)}$ is the ratio of the helicity-dependent and -independent neutron distribution functions in the deuteron and is called the deuteron depolarization factor. $A_{\\parallel n}$ is the ratio of the polarized and unpolarized neutron structure functions and is the neuteron spin asymmetry.\n",
    "\n",
    "## Two-state asymmetries \n",
    "The same can be done by using the average of the cross section where the deuteron state is only $\\pm 1$, this gives\n",
    "\\begin{align}\n",
    "    &\\frac{1}{4}[d\\sigma_{\\parallel}(+\\frac{1}{2},+1) + d\\sigma_{\\parallel}(-\\frac{1}{2},+1) + d\\sigma_{\\parallel}(+\\frac{1}{2},-1) + d\\sigma_{\\parallel}(-\\frac{1}{2},-1)] \\\\\n",
    "    &= [...](F_{[UU,T]d} + \\epsilon F_{[UU,L]d} + D_{T_{LL},\\parallel}(F_{[UT_{LL},T]d} + \\epsilon F_{[UT_{LL},L]d})+D_{UT_{LT},\\parallel}F_{[UT_{LT}]d} + D_{T_{TT},\\parallel}F_{[UT_{TT}]d})\n",
    "\\end{align}\n",
    "where the tensor-polarized structure functions appear with the tensor depolarization factors defined as\n",
    "\\begin{equation}\n",
    "    D_{T_{LL},\\parallel} = \\frac{1}{6}\\left[\\frac{3(1+\\gamma^2y/2)^2}{1+\\gamma^2}-1\\right]\n",
    "\\end{equation}\n",
    "The other factors will be dropped because of their scaling behaviour, more about this later.\n",
    "\n",
    "So that the two-state asymmetry $A_{\\parallel}^{(2)}$, defined as the ratio of the spin difference that was defined above with this spin average, is than given by\n",
    "\\begin{align}\n",
    "    A_{\\parallel}^{(2)} &= \\frac{\\frac{1}{4}[d\\sigma_{\\parallel}(+\\frac{1}{2},+1) - d\\sigma_{\\parallel}(-\\frac{1}{2},+1) + d\\sigma_{\\parallel}(+\\frac{1}{2},-1) - d\\sigma_{\\parallel}(-\\frac{1}{2},-1)]}{\\frac{1}{4}[d\\sigma_{\\parallel}(+\\frac{1}{2},+1) + d\\sigma_{\\parallel}(-\\frac{1}{2},+1) + d\\sigma_{\\parallel}(+\\frac{1}{2},-1) + d\\sigma_{\\parallel}(-\\frac{1}{2},-1)]} \\\\\n",
    "    &= \\frac{D_{L \\parallel}F_{[LS_L]d} + D_{T \\parallel}F_{[LS_T]d}}{F_{[UU,T]d} + \\epsilon F_{[UU,L]d} + D_{T_{LL},\\parallel}(F_{[UT_{LL},T]d} + \\epsilon F_{[UT_{LL},L]d})+D_{UT_{LT},\\parallel}F_{[UT_{LT}]d} + D_{T_{TT},\\parallel}F_{[UT_{TT}]d}}\n",
    "\\end{align}\n",
    "Again using the power cutoff, $\\mathcal{O}(\\gamma)$ we find that $A_{\\parallel}^{(2)}$ becomes\n",
    "\\begin{equation}\n",
    "    A_{\\parallel}^{(2)} = \\frac{D_{L \\parallel}F_{[LS_L]d}}{F_{[UU,T]d} + \\epsilon F_{[UU,L]d} + D_{T_{LL},\\parallel}(F_{[UT_{LL},T]d} + \\epsilon F_{[UT_{LL},L]d})}\n",
    "\\end{equation}\n",
    "\n",
    "Using the following relation between the tensor tagged deuteron structure functions $F_{[UT_{LL},T]d}$ and $F_{[UT_{LL},L]d}$ and the neutron ones\n",
    "\\begin{equation}\n",
    "    D_{T_{LL},\\parallel}\\{F_{[UT_{LL},T]d},F_{[UT_{LL},L]d}\\}(x,Q^2;\\alpha_p,\\mathbf{p}_{pT}) = [2(2\\pi)^3]\\frac{2f_d(\\alpha_p,\\mathbf{p}_{pT}) [tensor]}{2-\\alpha_p}\\{F_{[UU,T]n},F_{[UU,L]n}\\}(\\tilde{x},Q^2)\n",
    "\\end{equation}\n",
    "We find again the relation between the two-state deuteron asymmetry and the neutron spin asymmetry\n",
    "\\begin{align}\n",
    "    A_{\\parallel}^{(2)}(x,Q^2;\\alpha_p,\\mathbf{p}_{pT})  &= \\frac{D_{L \\parallel}F_{[LS_L]d}(x,Q^2;\\alpha_p,\\mathbf{p}_{pT})}{[F_{[UU,T]d} + \\epsilon F_{[UU,L]d} + D_{T_{LL},\\parallel}(F_{[UT_{LL},T]d} + \\epsilon F_{[UT_{LL},L]d})](x,Q^2;\\alpha_p,\\mathbf{p}_{pT})} \\\\\n",
    "    &= \\frac{\\Delta f_d(\\alpha_p,\\mathbf{p}_{pT})[pure +1] D_{L \\parallel} F_{[LS_L]n}(\\tilde{x},Q^2)}{f_d(\\alpha_p,\\mathbf{p}_{pT})[unpol][F_{[UU,T]n} + \\epsilon F_{[UU,L]n}] + f_d(\\alpha_p,\\mathbf{p}_{pT}) [tensor][F_{[UU,T]n} + \\epsilon F_{[UU,L]n}]} \\\\\n",
    "    &= D_d^{(2)}(\\alpha_p,\\mathbf{p}_{pT})A_{\\parallel n}(y,\\tilde{x},Q^2) \\\\\n",
    "    D_d^{(2)}(\\alpha_p,\\mathbf{p}_{pT}) &= \\frac{\\Delta f_d(\\alpha_p,\\mathbf{p}_{pT})[pure +1]}{f_d(\\alpha_p,\\mathbf{p}_{pT})[unpol]+f_d(\\alpha_p,\\mathbf{p}_{pT}) [tensor]}\n",
    "\\end{align}"
   ]
  },
  {
   "cell_type": "code",
   "execution_count": 4,
   "metadata": {},
   "outputs": [
    {
     "data": {
      "application/vnd.jupyter.widget-view+json": {
       "model_id": "a739eb0270fb4a17b6c23714a9389226",
       "version_major": 2,
       "version_minor": 0
      },
      "text/plain": [
       "HTMLMath(value='<center><b><h1>Deuteron depolarization factors $D_d^{(3)}$ and $D_d^{(2)}$</h1>\\n    </b></cen…"
      ]
     },
     "metadata": {},
     "output_type": "display_data"
    },
    {
     "data": {
      "application/vnd.jupyter.widget-view+json": {
       "model_id": "ecb92f2cdc6d42dab4719149076d82a2",
       "version_major": 2,
       "version_minor": 0
      },
      "text/plain": [
       "Text(value='1.', description='$\\\\alpha_p$', layout=Layout(width='480px'), placeholder='proton light cone momen…"
      ]
     },
     "metadata": {},
     "output_type": "display_data"
    },
    {
     "data": {
      "application/vnd.jupyter.widget-view+json": {
       "model_id": "54ef615692954071b7cfdcb85c95c053",
       "version_major": 2,
       "version_minor": 0
      },
      "text/plain": [
       "HBox(children=(RadioButtons(description='kinematic variable:', index=1, layout=Layout(width='480px'), options=…"
      ]
     },
     "metadata": {},
     "output_type": "display_data"
    },
    {
     "data": {
      "application/vnd.jupyter.widget-view+json": {
       "model_id": "cd04ea4414fb42e0a666dce2639c6d2d",
       "version_major": 2,
       "version_minor": 0
      },
      "text/plain": [
       "HBox(children=(Text(value='600', description='kin. var. upper limit $(MeV/MeV^2)$', layout=Layout(width='480px…"
      ]
     },
     "metadata": {},
     "output_type": "display_data"
    },
    {
     "data": {
      "application/vnd.jupyter.widget-view+json": {
       "model_id": "23b68f6475134ae8ade8d3ce4095a3a0",
       "version_major": 2,
       "version_minor": 0
      },
      "text/plain": [
       "HBox(children=(RadioButtons(description='Wave function:', layout=Layout(width='480px'), options=(('AV18a', 'fi…"
      ]
     },
     "metadata": {},
     "output_type": "display_data"
    },
    {
     "data": {
      "application/vnd.jupyter.widget-view+json": {
       "model_id": "51c9ee6883b64f719c3f2bf09a9b4e93",
       "version_major": 2,
       "version_minor": 0
      },
      "text/plain": [
       "Text(value='', description='Figure name:', layout=Layout(width='480px'), placeholder='Name of figure for savin…"
      ]
     },
     "metadata": {},
     "output_type": "display_data"
    },
    {
     "data": {
      "application/vnd.jupyter.widget-view+json": {
       "model_id": "5961b0e988354f23b59f8be9c70d98c7",
       "version_major": 2,
       "version_minor": 0
      },
      "text/plain": [
       "Button(description='Make D_d figure', icon='check', layout=Layout(width='initial'), style=ButtonStyle(), toolt…"
      ]
     },
     "metadata": {},
     "output_type": "display_data"
    },
    {
     "data": {
      "application/vnd.jupyter.widget-view+json": {
       "model_id": "471aaaeba6e0436b8e836df48a3b77de",
       "version_major": 2,
       "version_minor": 0
      },
      "text/plain": [
       "Output()"
      ]
     },
     "metadata": {},
     "output_type": "display_data"
    }
   ],
   "source": [
    "out = Output()\n",
    "make_figure_D_d(out)\n",
    "out"
   ]
  },
  {
   "cell_type": "code",
   "execution_count": 5,
   "metadata": {},
   "outputs": [
    {
     "data": {
      "application/vnd.jupyter.widget-view+json": {
       "model_id": "cf0ffc009c634b49abb8421823d5e84d",
       "version_major": 2,
       "version_minor": 0
      },
      "text/plain": [
       "HTMLMath(value='<center><b><h1>Deuteron depolarization factors $D_d^{(3)}$ and $D_d^{(2)}$<br/>\\n    for diffe…"
      ]
     },
     "metadata": {},
     "output_type": "display_data"
    },
    {
     "data": {
      "application/vnd.jupyter.widget-view+json": {
       "model_id": "ad07a970e0c0431d9381476d4635760a",
       "version_major": 2,
       "version_minor": 0
      },
      "text/plain": [
       "Text(value='1, 1.04, 1.08', description='$\\\\alpha_p$', layout=Layout(width='480px'), placeholder='proton light…"
      ]
     },
     "metadata": {},
     "output_type": "display_data"
    },
    {
     "data": {
      "application/vnd.jupyter.widget-view+json": {
       "model_id": "401b8b73a3de4bf2bc644120ef22d6cd",
       "version_major": 2,
       "version_minor": 0
      },
      "text/plain": [
       "HBox(children=(RadioButtons(description='kinematic variable:', index=1, layout=Layout(width='480px'), options=…"
      ]
     },
     "metadata": {},
     "output_type": "display_data"
    },
    {
     "data": {
      "application/vnd.jupyter.widget-view+json": {
       "model_id": "83aab1b9570f4ca4b186c12f79fa5513",
       "version_major": 2,
       "version_minor": 0
      },
      "text/plain": [
       "HBox(children=(Text(value='100', description='kin. var. upper bound $(MeV/MeV^2)$', layout=Layout(width='480px…"
      ]
     },
     "metadata": {},
     "output_type": "display_data"
    },
    {
     "data": {
      "application/vnd.jupyter.widget-view+json": {
       "model_id": "430dc6c1b49f40faaa479a62e0ab1595",
       "version_major": 2,
       "version_minor": 0
      },
      "text/plain": [
       "HBox(children=(RadioButtons(description='Wave function:', layout=Layout(width='480px'), options=(('AV18a', 'fi…"
      ]
     },
     "metadata": {},
     "output_type": "display_data"
    },
    {
     "data": {
      "application/vnd.jupyter.widget-view+json": {
       "model_id": "fe29454922bc4c8aaf7c662979e1fae3",
       "version_major": 2,
       "version_minor": 0
      },
      "text/plain": [
       "Text(value='', description='Figure name:', layout=Layout(width='480px'), placeholder='Name of figure for savin…"
      ]
     },
     "metadata": {},
     "output_type": "display_data"
    },
    {
     "data": {
      "application/vnd.jupyter.widget-view+json": {
       "model_id": "fe5d825f1de54ad5b2d7b457b29e3cac",
       "version_major": 2,
       "version_minor": 0
      },
      "text/plain": [
       "Button(description='Make D_d figure', icon='check', layout=Layout(width='initial'), style=ButtonStyle(), toolt…"
      ]
     },
     "metadata": {},
     "output_type": "display_data"
    },
    {
     "data": {
      "application/vnd.jupyter.widget-view+json": {
       "model_id": "f64fa44f136b478097b5ec3311f41a12",
       "version_major": 2,
       "version_minor": 0
      },
      "text/plain": [
       "Output()"
      ]
     },
     "metadata": {},
     "output_type": "display_data"
    }
   ],
   "source": [
    "out = Output()\n",
    "make_figure_D_d_zoom(out)\n",
    "out"
   ]
  },
  {
   "cell_type": "code",
   "execution_count": 6,
   "metadata": {},
   "outputs": [
    {
     "data": {
      "application/vnd.jupyter.widget-view+json": {
       "model_id": "3c169fd512924d9688c1928cd1236ca9",
       "version_major": 2,
       "version_minor": 0
      },
      "text/plain": [
       "HTMLMath(value='<center><b><h1>Spin asymmetry $A_{\\\\parallel d}^{(3)}$</h1></b></center>\\n    <hr>\\n    <figur…"
      ]
     },
     "metadata": {},
     "output_type": "display_data"
    },
    {
     "data": {
      "application/vnd.jupyter.widget-view+json": {
       "model_id": "18fc9d0112e147ce8a637e4930834dc4",
       "version_major": 2,
       "version_minor": 0
      },
      "text/plain": [
       "HBox(children=(Text(value='2e7', description='$L_{int}$ $(nb^{-1})$', layout=Layout(width='450px'), placeholde…"
      ]
     },
     "metadata": {},
     "output_type": "display_data"
    },
    {
     "data": {
      "application/vnd.jupyter.widget-view+json": {
       "model_id": "8d11d8237b684e65aca56663cbe41eac",
       "version_major": 2,
       "version_minor": 0
      },
      "text/plain": [
       "HBox(children=(Text(value='0.04', description='begin Bjorken x', layout=Layout(width='450px'), placeholder='Bj…"
      ]
     },
     "metadata": {},
     "output_type": "display_data"
    },
    {
     "data": {
      "application/vnd.jupyter.widget-view+json": {
       "model_id": "746615f148794770b5bf8e3754bc4123",
       "version_major": 2,
       "version_minor": 0
      },
      "text/plain": [
       "HBox(children=(Text(value='13e6,20e6,30e6', description='begin $Q^2$$(MeV^2)$', layout=Layout(width='450px'), …"
      ]
     },
     "metadata": {},
     "output_type": "display_data"
    },
    {
     "data": {
      "application/vnd.jupyter.widget-view+json": {
       "model_id": "229295b7939845e8851f1f25502bba46",
       "version_major": 2,
       "version_minor": 0
      },
      "text/plain": [
       "HBox(children=(Text(value='0.98', description='begin $\\\\alpha_p$', layout=Layout(width='450px'), placeholder='…"
      ]
     },
     "metadata": {},
     "output_type": "display_data"
    },
    {
     "data": {
      "application/vnd.jupyter.widget-view+json": {
       "model_id": "e2f9e5e03add4d3198df83247824733f",
       "version_major": 2,
       "version_minor": 0
      },
      "text/plain": [
       "HBox(children=(RadioButtons(description='kinematic variable:', layout=Layout(width='450px'), options=((\"t' (Me…"
      ]
     },
     "metadata": {},
     "output_type": "display_data"
    },
    {
     "data": {
      "application/vnd.jupyter.widget-view+json": {
       "model_id": "a202ad53d69d414a95ab7726773c562d",
       "version_major": 2,
       "version_minor": 0
      },
      "text/plain": [
       "HBox(children=(Text(value='0', description='end kin. var. $(MeV/MeV^2)$', layout=Layout(width='450px'), placeh…"
      ]
     },
     "metadata": {},
     "output_type": "display_data"
    },
    {
     "data": {
      "application/vnd.jupyter.widget-view+json": {
       "model_id": "8ec0a5370d224c4ea9170c82c352c520",
       "version_major": 2,
       "version_minor": 0
      },
      "text/plain": [
       "HBox(children=(Dropdown(description='Structure Function:', index=3, layout=Layout(width='450px'), options=(('C…"
      ]
     },
     "metadata": {},
     "output_type": "display_data"
    },
    {
     "data": {
      "application/vnd.jupyter.widget-view+json": {
       "model_id": "5c1fe124f7f44cb483c8bb5ae3798e08",
       "version_major": 2,
       "version_minor": 0
      },
      "text/plain": [
       "HBox(children=(RadioButtons(description='x-axis variable:', layout=Layout(width='450px'), options=((\"t'(GeV^2)…"
      ]
     },
     "metadata": {},
     "output_type": "display_data"
    },
    {
     "data": {
      "application/vnd.jupyter.widget-view+json": {
       "model_id": "ca01564fbb0a4978900aece383ae4bce",
       "version_major": 2,
       "version_minor": 0
      },
      "text/plain": [
       "Button(description='Make A_d_3 figure', icon='check', layout=Layout(width='initial'), style=ButtonStyle(), too…"
      ]
     },
     "metadata": {},
     "output_type": "display_data"
    },
    {
     "data": {
      "application/vnd.jupyter.widget-view+json": {
       "model_id": "43e5a5fb6dd5434ea035823fa15e734c",
       "version_major": 2,
       "version_minor": 0
      },
      "text/plain": [
       "Output()"
      ]
     },
     "metadata": {},
     "output_type": "display_data"
    }
   ],
   "source": [
    "out = Output()\n",
    "make_figure_A_d_3(out)\n",
    "out"
   ]
  },
  {
   "cell_type": "code",
   "execution_count": 7,
   "metadata": {},
   "outputs": [
    {
     "data": {
      "application/vnd.jupyter.widget-view+json": {
       "model_id": "4c51d3b7364e402dadf2994f21000866",
       "version_major": 2,
       "version_minor": 0
      },
      "text/plain": [
       "HTMLMath(value='<center><b><h1>Spin asymmetry $A_{\\\\parallel d}^{(2)}$</h1></b></center>\\n    <hr>\\n    <figur…"
      ]
     },
     "metadata": {},
     "output_type": "display_data"
    },
    {
     "data": {
      "application/vnd.jupyter.widget-view+json": {
       "model_id": "f70b0a76ac9c4c75828b846888680d9d",
       "version_major": 2,
       "version_minor": 0
      },
      "text/plain": [
       "HBox(children=(Text(value='2e7', description='$L_{int}$ $(nb^{-1})$', layout=Layout(width='450px'), placeholde…"
      ]
     },
     "metadata": {},
     "output_type": "display_data"
    },
    {
     "data": {
      "application/vnd.jupyter.widget-view+json": {
       "model_id": "685b79db28da4deabc9e5d11c0cea4b8",
       "version_major": 2,
       "version_minor": 0
      },
      "text/plain": [
       "HBox(children=(Text(value='0.04', description='begin Bjorken x', layout=Layout(width='450px'), placeholder='Bj…"
      ]
     },
     "metadata": {},
     "output_type": "display_data"
    },
    {
     "data": {
      "application/vnd.jupyter.widget-view+json": {
       "model_id": "82d2ac2c005b416ea1ed6137a84df218",
       "version_major": 2,
       "version_minor": 0
      },
      "text/plain": [
       "HBox(children=(Text(value='13e6,20e6,30e6', description='begin $Q^2$$(MeV^2)$', layout=Layout(width='450px'), …"
      ]
     },
     "metadata": {},
     "output_type": "display_data"
    },
    {
     "data": {
      "application/vnd.jupyter.widget-view+json": {
       "model_id": "410b80289f8644079f90bdd4869f057b",
       "version_major": 2,
       "version_minor": 0
      },
      "text/plain": [
       "HBox(children=(Text(value='0.98', description='begin $\\\\alpha_p$', layout=Layout(width='450px'), placeholder='…"
      ]
     },
     "metadata": {},
     "output_type": "display_data"
    },
    {
     "data": {
      "application/vnd.jupyter.widget-view+json": {
       "model_id": "4efa6f79cd2a4fd3961f4cf282b8b3f7",
       "version_major": 2,
       "version_minor": 0
      },
      "text/plain": [
       "HBox(children=(RadioButtons(description='kinematic variable:', layout=Layout(width='450px'), options=((\"t' (Me…"
      ]
     },
     "metadata": {},
     "output_type": "display_data"
    },
    {
     "data": {
      "application/vnd.jupyter.widget-view+json": {
       "model_id": "cc78dd291cfb4927b7aa94ddf60e8a7a",
       "version_major": 2,
       "version_minor": 0
      },
      "text/plain": [
       "HBox(children=(Text(value='0', description='end kin. var. $(MeV/MeV^2)$', layout=Layout(width='450px'), placeh…"
      ]
     },
     "metadata": {},
     "output_type": "display_data"
    },
    {
     "data": {
      "application/vnd.jupyter.widget-view+json": {
       "model_id": "7b0932bcc91e48e7bafca784e1cc7c86",
       "version_major": 2,
       "version_minor": 0
      },
      "text/plain": [
       "HBox(children=(Dropdown(description='Structure Function:', index=3, layout=Layout(width='450px'), options=(('C…"
      ]
     },
     "metadata": {},
     "output_type": "display_data"
    },
    {
     "data": {
      "application/vnd.jupyter.widget-view+json": {
       "model_id": "ceeb0396bf5b4f9f9fbc832e47acdc49",
       "version_major": 2,
       "version_minor": 0
      },
      "text/plain": [
       "HBox(children=(RadioButtons(description='x-axis variable:', layout=Layout(width='450px'), options=((\"t'(GeV^2)…"
      ]
     },
     "metadata": {},
     "output_type": "display_data"
    },
    {
     "data": {
      "application/vnd.jupyter.widget-view+json": {
       "model_id": "8196f457fc194457bf36276840f12ad5",
       "version_major": 2,
       "version_minor": 0
      },
      "text/plain": [
       "Button(description='Make A_d_2 figure', icon='check', layout=Layout(width='initial'), style=ButtonStyle(), too…"
      ]
     },
     "metadata": {},
     "output_type": "display_data"
    },
    {
     "data": {
      "application/vnd.jupyter.widget-view+json": {
       "model_id": "00bf62e5d0c74fdd9ef42c628bc4f84b",
       "version_major": 2,
       "version_minor": 0
      },
      "text/plain": [
       "Output()"
      ]
     },
     "metadata": {},
     "output_type": "display_data"
    }
   ],
   "source": [
    "out = Output()\n",
    "make_figure_A_d_2(out)\n",
    "out"
   ]
  }
 ],
 "metadata": {
  "kernelspec": {
   "display_name": "Python 3",
   "language": "python",
   "name": "python3"
  },
  "language_info": {
   "codemirror_mode": {
    "name": "ipython",
    "version": 3
   },
   "file_extension": ".py",
   "mimetype": "text/x-python",
   "name": "python",
   "nbconvert_exporter": "python",
   "pygments_lexer": "ipython3",
   "version": "3.7.6"
  }
 },
 "nbformat": 4,
 "nbformat_minor": 4
}
