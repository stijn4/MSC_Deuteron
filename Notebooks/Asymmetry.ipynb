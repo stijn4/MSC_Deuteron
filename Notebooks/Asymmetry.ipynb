{
 "cells": [
  {
   "cell_type": "code",
   "execution_count": 2,
   "metadata": {},
   "outputs": [
    {
     "name": "stderr",
     "output_type": "stream",
     "text": [
      "[NbConvertApp] Converting notebook Programs.ipynb to script\n",
      "[NbConvertApp] Writing 244222 bytes to Programs.py\n"
     ]
    }
   ],
   "source": [
    "!jupyter nbconvert --to script Programs.ipynb\n",
    "from Programs import *\n",
    "error_settings = np.seterr(all='ignore')"
   ]
  },
  {
   "cell_type": "markdown",
   "metadata": {},
   "source": [
    "## Asymmetries\n",
    "Here the tagged deuteron asymmetries will be discussed. There are 2 different kind of asymmetries, called the three-state asymmetries $A_{\\parallel}^{(3)}$ and the two-state asymmetries $A_{\\parallel}^{(2)}$ which are defined by the sum and differences of differential cross sections for different electron and deuteron spin values, $\\sigma_e$ and $\\lambda_d$. First a quick refresher on the kinematic variables that will be used.\n",
    "\n",
    "## Kinematic variables\n",
    "First some conventional scaling variables are defined, such as the conventional Bjorken scaling variable for scattering of the deuteron $x_d$\n",
    "\\begin{align}\n",
    "    x_d &\\equiv \\frac{-q^2}{2(p_dq)} \\\\\n",
    "    y &\\equiv \\frac{(p_dq)}{(p_dp_e)} \\equiv \\frac{Q^2}{x_d(s_{ed}-m_d^2)}\n",
    "\\end{align}\n",
    "where $s_{ed} = (p_e+p_d)^2$ is the square of the C.O.M. energy of the electron deuteron system and $m_d$ the deuteron mass. The effective Bjorken variable for scattering from a nucleon in the deuteron in the absence of nuclear binding is the rescaled variable\n",
    "\\begin{equation}\n",
    "    x = 2x_d\n",
    "\\end{equation}\n",
    "and q is the 4-momentum transfer between the initial and final electron, which can also be seen as the 4-momentum of the virtual photon that is exchanged\n",
    "\\begin{equation}\n",
    "    q = p_e - p_{e'} \\Rightarrow Q^2 = -q^2 > 0\n",
    "\\end{equation}\n",
    "2 new kinematic variable are also introduced, $\\gamma$ and the virtual photon polarization parameter $\\epsilon$\n",
    "\\begin{align}\n",
    "    \\gamma^2 &\\equiv \\frac{m_d^2Q^2}{(p_dq)^2} = \\frac{4x_dm_d^2}{Q^2} \\\\\n",
    "    \\epsilon &\\equiv \\frac{1-y-\\gamma^2y^2/4}{1-y+y^2/2+\\gamma^2y^2/4}\n",
    "\\end{align}\n",
    "\n",
    "## Cross section\n",
    "We also remember at the form of the differential cross section of polarized tagged DIS (given in Kinematic variables):\n",
    "\\begin{align}\n",
    "d\\sigma[ed \\rightarrow e'Xp] &=  \\frac{2\\pi\\alpha_{em}^2y^2}{Q^4(1-\\epsilon)}dx_ddQ^2\\frac{d\\phi_{e'}}{2\\pi}(F_{[U]d} + F_{[L]d})\\frac{1}{[2(2\\pi)^3]}\\frac{d^3p_p}{E_p} \\\\\n",
    "F_{[U]d} &= F_{[UU,T]d} + \\epsilon F_{[UU,L]d} + T_{LL}(F_{[UT_{LL},T]d} + \\epsilon F_{[UT_{LL},L]d}) \\\\\n",
    "&+ \\sqrt{2\\epsilon(1+\\epsilon)}S_{T}sin\\phi_SF_{[US_T]d} + \\sqrt{2\\epsilon(1+\\epsilon)}T_{LT}cos\\phi_{T_L} F_{[UT_{LT}]d} \\\\\n",
    "&+ \\epsilon T_{TT}cos2\\phi_{T_T}F_{[UT_{TT}]d} \\\\\n",
    "F_{[L]d} &= (2\\sigma_e) \\{\\sqrt{1-\\epsilon^2}S_L F_{[LS_L]d} + \\sqrt{2\\epsilon(1+\\epsilon)}S_Tcos\\phi_S F_{[LS_{T}]d} \\\\\n",
    "\t&+ \\sqrt{2\\epsilon(1+\\epsilon)}T_{LT}sin\\phi_{T_L} F_{[LT_{LT}]d}\\}\n",
    "\\end{align}\n",
    "With $F_{[U]d}$ the structure functions independent of the electron helicity (U) and $F_{[L]d}$ which are proportional to the electron helicity (L).\n",
    "\n",
    "## Three-state asymmetries \n",
    "First looking at the sum of differential cross sections over all possible spin states. This gives the average of the cross section in all three deuteron spin states and is the unpolarized part or more specifically\n",
    "\\begin{align}\n",
    "    &\\frac{1}{6}[d\\sigma_{\\parallel}(+\\frac{1}{2},+1) + d\\sigma_{\\parallel}(-\\frac{1}{2},+1) + d\\sigma_{\\parallel}(+\\frac{1}{2},-1) + d\\sigma_{\\parallel}(-\\frac{1}{2},-1) + d\\sigma_{\\parallel}(+\\frac{1}{2},0) + d\\sigma_{\\parallel}(-\\frac{1}{2},0)] \\\\\n",
    "    &= [...](F_{[UU,T]d} + \\epsilon F_{[UU,L]d})\n",
    "\\end{align}\n",
    "\n",
    "Now isolating the electron spin-dependent structure functions $F_{[LS_L]}$ and $F_{[LS_T]}$ can be done by forming double spin differences with respect to bot the deuteron and electron spin. So this double spin difference gives\n",
    "\\begin{align}\n",
    "    &\\frac{1}{4}[d\\sigma_{\\parallel}(+\\frac{1}{2},+1) - d\\sigma_{\\parallel}(-\\frac{1}{2},+1) + d\\sigma_{\\parallel}(+\\frac{1}{2},-1) - d\\sigma_{\\parallel}(-\\frac{1}{2},-1)] \\\\\n",
    "    &= [...](D_{L \\parallel}F_{[LS_L]d} + D_{T \\parallel}F_{[LS_T]d})\n",
    "\\end{align}\n",
    "where $D_{L \\parallel}$ and $D_{T \\parallel}$ are given by\n",
    "\\begin{align}\n",
    "    D_{L \\parallel} &= \\frac{y(1-y/2)(1+\\gamma^2y/2)}{1-y+y/2+\\gamma^2y^2/4} \\\\\n",
    "    D_{T \\parallel} &= \\frac{-\\gamma y(1-y-\\gamma^2y^2/4)}{1-y+y/2+\\gamma^2y^2/4}\n",
    "\\end{align}\n",
    "The ratio of this difference with the full sum gives the three-state asymmetries $A_{\\parallel}^{(3)}$\n",
    "\\begin{align}\n",
    "    A_{\\parallel}^{(3)} &= \\frac{\\frac{1}{4}[d\\sigma_{\\parallel}(+\\frac{1}{2},+1) - d\\sigma_{\\parallel}(-\\frac{1}{2},+1) + d\\sigma_{\\parallel}(+\\frac{1}{2},-1) - d\\sigma_{\\parallel}(-\\frac{1}{2},-1)]}{\\frac{1}{6}[d\\sigma_{\\parallel}(+\\frac{1}{2},+1) + d\\sigma_{\\parallel}(-\\frac{1}{2},+1) + d\\sigma_{\\parallel}(+\\frac{1}{2},-1) + d\\sigma_{\\parallel}(-\\frac{1}{2},-1) + d\\sigma_{\\parallel}(+\\frac{1}{2},0) + d\\sigma_{\\parallel}(-\\frac{1}{2},0)]} \\\\\n",
    "    &= \\frac{D_{L \\parallel}F_{[LS_L]d} + D_{T \\parallel}F_{[LS_T]d}}{F_{[UU,T]d} + \\epsilon F_{[UU,L]d}}\n",
    "\\end{align}\n",
    "Only keeping the terms that scale slower than $\\gamma$ gives us up to a powe correction $\\mathcal{O}(\\gamma)$\n",
    "\\begin{equation}\n",
    "    A_{\\parallel}^{(3)} = \\frac{D_{L \\parallel}F_{[LS_L]d}}{F_{[UU,T]d} + \\epsilon F_{[UU,L]d}}\n",
    "\\end{equation}\n",
    "\n",
    "Now using the relation between the tagged deuteron structure functions and the free neutron structure functions we can find how the free neutron three-state asymmetry is related to the tagged deuteron three-state asymmetry. So since $F_{[LS_L]d}$ and $F_{[LS_L]n}$ are related as follows\n",
    "\\begin{equation}\n",
    "    F_{[LS_L]d}(x,Q^2;\\alpha_p,\\mathbf{p}_{pT}) = [2(2\\pi)^3]\\frac{2\\Delta f_d(\\alpha_p,\\mathbf{p}_{pT})[pure +1]}{2-\\alpha_p}F_{[LS_L]n}(\\tilde{x},Q^2)\n",
    "\\end{equation}\n",
    "And the unpolarized structure functions $F_{[UU,T]d}$ and $F_{[UU,L]d}$ are related to $F_{[UU,T]n}$ and $F_{[UU,L]n}$ by\n",
    "\\begin{equation}\n",
    "    \\{F_{[UU,T]d}(x,Q^2;\\alpha_p,\\mathbf{p}_{pT}),F_{[UU,L]d}(x,Q^2;\\alpha_p,\\mathbf{p}_{pT})\\} = [2(2\\pi)^3]\\frac{2f_d(\\alpha_p,\\mathbf{p}_{pT})[unpol]}{2-\\alpha_p}\\{F_{[UU,T]n}(\\tilde{x},Q^2),F_{[UU,L]n}(\\tilde{x},Q^2)\\}\n",
    "\\end{equation}\n",
    "\n",
    "Using all of this the three-state asymmetries becomes\n",
    "\\begin{align}\n",
    "    A_{\\parallel}^{(3)}(x,Q^2;\\alpha_p,\\mathbf{p}_{pT}) &= \\frac{D_{L \\parallel}F_{[LS_L]d}(x,Q^2;\\alpha_p,\\mathbf{p}_{pT})}{[F_{[UU,T]d} + \\epsilon F_{[UU,L]d}](x,Q^2;\\alpha_p,\\mathbf{p}_{pT})} \\\\\n",
    "    &= \\frac{\\Delta f_d(\\alpha_p,\\mathbf{p}_{pT})[pure +1] D_{L \\parallel} F_{[LS_L]n}(\\tilde{x},Q^2)}{f_d(\\alpha_p,\\mathbf{p}_{pT})[unpol][F_{[UU,T]n} + \\epsilon F_{[UU,L]n}](\\tilde{x},Q^2)} \\\\\n",
    "    &= D_d^{(3)}(\\alpha_p,\\mathbf{p}_{pT})A_{\\parallel n}(y,\\tilde{x},Q^2) \\\\\n",
    "    D_d^{(3)}(\\alpha_p,\\mathbf{p}_{pT}) &= \\frac{\\Delta f_d(\\alpha_p,\\mathbf{p}_{pT})[pure +1]}{f_d(\\alpha_p,\\mathbf{p}_{pT})[unpol]} \\\\\n",
    "    A_{\\parallel n}(y,\\tilde{x},Q^2) &= \\frac{D_{L \\parallel} F_{[LS_L]n}(\\tilde{x},Q^2)}{[F_{[UU,T]n} + \\epsilon F_{[UU,L]n}](\\tilde{x},Q^2)}\n",
    "\\end{align}\n",
    "where $D_d^{(3)}$ is the ratio of the helicity-dependent and -independent neutron distribution functions in the deuteron and is called the deuteron depolarization factor. $A_{\\parallel n}$ is the ratio of the polarized and unpolarized neutron structure functions and is the neutron spin asymmetry.\n",
    "\n",
    "## Two-state asymmetries \n",
    "The same can be done by using the average of the cross section where the deuteron state is only $\\pm 1$, this gives\n",
    "\\begin{align}\n",
    "    &\\frac{1}{4}[d\\sigma_{\\parallel}(+\\frac{1}{2},+1) + d\\sigma_{\\parallel}(-\\frac{1}{2},+1) + d\\sigma_{\\parallel}(+\\frac{1}{2},-1) + d\\sigma_{\\parallel}(-\\frac{1}{2},-1)] \\\\\n",
    "    &= [...](F_{[UU,T]d} + \\epsilon F_{[UU,L]d} + D_{T_{LL},\\parallel}(F_{[UT_{LL},T]d} + \\epsilon F_{[UT_{LL},L]d})+D_{UT_{LT},\\parallel}F_{[UT_{LT}]d} + D_{T_{TT},\\parallel}F_{[UT_{TT}]d})\n",
    "\\end{align}\n",
    "where the tensor-polarized structure functions appear with the tensor depolarization factors defined as\n",
    "\\begin{equation}\n",
    "    D_{T_{LL},\\parallel} = \\frac{1}{6}\\left[\\frac{3(1+\\gamma^2y/2)^2}{1+\\gamma^2}-1\\right]\n",
    "\\end{equation}\n",
    "The other factors will be dropped because of their scaling behaviour, more about this later.\n",
    "\n",
    "So that the two-state asymmetry $A_{\\parallel}^{(2)}$, defined as the ratio of the spin difference that was defined above with this spin average, is than given by\n",
    "\\begin{align}\n",
    "    A_{\\parallel}^{(2)} &= \\frac{\\frac{1}{4}[d\\sigma_{\\parallel}(+\\frac{1}{2},+1) - d\\sigma_{\\parallel}(-\\frac{1}{2},+1) + d\\sigma_{\\parallel}(+\\frac{1}{2},-1) - d\\sigma_{\\parallel}(-\\frac{1}{2},-1)]}{\\frac{1}{4}[d\\sigma_{\\parallel}(+\\frac{1}{2},+1) + d\\sigma_{\\parallel}(-\\frac{1}{2},+1) + d\\sigma_{\\parallel}(+\\frac{1}{2},-1) + d\\sigma_{\\parallel}(-\\frac{1}{2},-1)]} \\\\\n",
    "    &= \\frac{D_{L \\parallel}F_{[LS_L]d} + D_{T \\parallel}F_{[LS_T]d}}{F_{[UU,T]d} + \\epsilon F_{[UU,L]d} + D_{T_{LL},\\parallel}(F_{[UT_{LL},T]d} + \\epsilon F_{[UT_{LL},L]d})+D_{UT_{LT},\\parallel}F_{[UT_{LT}]d} + D_{T_{TT},\\parallel}F_{[UT_{TT}]d}}\n",
    "\\end{align}\n",
    "Again using the power cutoff, $\\mathcal{O}(\\gamma)$ we find that $A_{\\parallel}^{(2)}$ becomes\n",
    "\\begin{equation}\n",
    "    A_{\\parallel}^{(2)} = \\frac{D_{L \\parallel}F_{[LS_L]d}}{F_{[UU,T]d} + \\epsilon F_{[UU,L]d} + D_{T_{LL},\\parallel}(F_{[UT_{LL},T]d} + \\epsilon F_{[UT_{LL},L]d})}\n",
    "\\end{equation}\n",
    "\n",
    "Using the following relation between the tensor tagged deuteron structure functions $F_{[UT_{LL},T]d}$ and $F_{[UT_{LL},L]d}$ and the neutron ones\n",
    "\\begin{equation}\n",
    "    D_{T_{LL},\\parallel}\\{F_{[UT_{LL},T]d},F_{[UT_{LL},L]d}\\}(x,Q^2;\\alpha_p,\\mathbf{p}_{pT}) = [2(2\\pi)^3]\\frac{2f_d(\\alpha_p,\\mathbf{p}_{pT}) [tensor]}{2-\\alpha_p}\\{F_{[UU,T]n},F_{[UU,L]n}\\}(\\tilde{x},Q^2)\n",
    "\\end{equation}\n",
    "We find again the relation between the two-state deuteron asymmetry and the neutron spin asymmetry\n",
    "\\begin{align}\n",
    "    A_{\\parallel}^{(2)}(x,Q^2;\\alpha_p,\\mathbf{p}_{pT})  &= \\frac{D_{L \\parallel}F_{[LS_L]d}(x,Q^2;\\alpha_p,\\mathbf{p}_{pT})}{[F_{[UU,T]d} + \\epsilon F_{[UU,L]d} + D_{T_{LL},\\parallel}(F_{[UT_{LL},T]d} + \\epsilon F_{[UT_{LL},L]d})](x,Q^2;\\alpha_p,\\mathbf{p}_{pT})} \\\\\n",
    "    &= \\frac{\\Delta f_d(\\alpha_p,\\mathbf{p}_{pT})[pure +1] D_{L \\parallel} F_{[LS_L]n}(\\tilde{x},Q^2)}{f_d(\\alpha_p,\\mathbf{p}_{pT})[unpol][F_{[UU,T]n} + \\epsilon F_{[UU,L]n}] + f_d(\\alpha_p,\\mathbf{p}_{pT}) [tensor][F_{[UU,T]n} + \\epsilon F_{[UU,L]n}]} \\\\\n",
    "    &= D_d^{(2)}(\\alpha_p,\\mathbf{p}_{pT})A_{\\parallel n}(y,\\tilde{x},Q^2) \\\\\n",
    "    D_d^{(2)}(\\alpha_p,\\mathbf{p}_{pT}) &= \\frac{\\Delta f_d(\\alpha_p,\\mathbf{p}_{pT})[pure +1]}{f_d(\\alpha_p,\\mathbf{p}_{pT})[unpol]+f_d(\\alpha_p,\\mathbf{p}_{pT}) [tensor]}\n",
    "\\end{align}"
   ]
  },
  {
   "cell_type": "code",
   "execution_count": 3,
   "metadata": {},
   "outputs": [
    {
     "data": {
      "application/vnd.jupyter.widget-view+json": {
       "model_id": "e25f000126d348ef881f05d6db75e0f4",
       "version_major": 2,
       "version_minor": 0
      },
      "text/plain": [
       "HTMLMath(value='<center><b><h1>Deuteron depolarization factors $D_d^{(3)}$ and $D_d^{(2)}$</h1>\\n    </b></cen…"
      ]
     },
     "metadata": {},
     "output_type": "display_data"
    },
    {
     "data": {
      "application/vnd.jupyter.widget-view+json": {
       "model_id": "1b30ca5f91b6439bac593100e6b85080",
       "version_major": 2,
       "version_minor": 0
      },
      "text/plain": [
       "Text(value='1.', description='$\\\\alpha_p$', layout=Layout(width='480px'), placeholder='proton light cone momen…"
      ]
     },
     "metadata": {},
     "output_type": "display_data"
    },
    {
     "data": {
      "application/vnd.jupyter.widget-view+json": {
       "model_id": "43e673e86f0d4e90836de2b1b11590db",
       "version_major": 2,
       "version_minor": 0
      },
      "text/plain": [
       "HBox(children=(RadioButtons(description='kinematic variable:', index=1, layout=Layout(width='480px'), options=…"
      ]
     },
     "metadata": {},
     "output_type": "display_data"
    },
    {
     "data": {
      "application/vnd.jupyter.widget-view+json": {
       "model_id": "bd73f9ddb66f4f1ba89a35d3ee2ec551",
       "version_major": 2,
       "version_minor": 0
      },
      "text/plain": [
       "HBox(children=(Text(value='600', description='kin. var. upper limit $(MeV/MeV^2)$', layout=Layout(width='480px…"
      ]
     },
     "metadata": {},
     "output_type": "display_data"
    },
    {
     "data": {
      "application/vnd.jupyter.widget-view+json": {
       "model_id": "d5cd7bb222c442bc89c94ac649c52045",
       "version_major": 2,
       "version_minor": 0
      },
      "text/plain": [
       "HBox(children=(RadioButtons(description='Wave function:', layout=Layout(width='480px'), options=(('AV18a', 'fi…"
      ]
     },
     "metadata": {},
     "output_type": "display_data"
    },
    {
     "data": {
      "application/vnd.jupyter.widget-view+json": {
       "model_id": "f4a2c4b2f57343ed8bef82647303497a",
       "version_major": 2,
       "version_minor": 0
      },
      "text/plain": [
       "Text(value='', description='Figure name:', layout=Layout(width='480px'), placeholder='Name of figure for savin…"
      ]
     },
     "metadata": {},
     "output_type": "display_data"
    },
    {
     "data": {
      "application/vnd.jupyter.widget-view+json": {
       "model_id": "174017ac7830417e8175af22f3d5b52d",
       "version_major": 2,
       "version_minor": 0
      },
      "text/plain": [
       "HBox(children=(Button(description='Make D_d[vector] figure', icon='check', layout=Layout(width='initial'), sty…"
      ]
     },
     "metadata": {},
     "output_type": "display_data"
    },
    {
     "data": {
      "application/vnd.jupyter.widget-view+json": {
       "model_id": "ab51ec7ba9714441981d43ba913526c7",
       "version_major": 2,
       "version_minor": 0
      },
      "text/plain": [
       "Output()"
      ]
     },
     "metadata": {},
     "output_type": "display_data"
    }
   ],
   "source": [
    "out = Output()\n",
    "make_figure_D_d(out)\n",
    "out"
   ]
  },
  {
   "cell_type": "code",
   "execution_count": 4,
   "metadata": {},
   "outputs": [
    {
     "data": {
      "application/vnd.jupyter.widget-view+json": {
       "model_id": "635d5544ac814c87aef36f26241aacbd",
       "version_major": 2,
       "version_minor": 0
      },
      "text/plain": [
       "HTMLMath(value='<center><b><h1>Deuteron depolarization factors $D_d^{(3)}$ and $D_d^{(2)}$<br/>\\n    for diffe…"
      ]
     },
     "metadata": {},
     "output_type": "display_data"
    },
    {
     "data": {
      "application/vnd.jupyter.widget-view+json": {
       "model_id": "ace860357b784054a965783f48ad2997",
       "version_major": 2,
       "version_minor": 0
      },
      "text/plain": [
       "Text(value='1, 1.04, 1.08', description='$\\\\alpha_p$', layout=Layout(width='480px'), placeholder='proton light…"
      ]
     },
     "metadata": {},
     "output_type": "display_data"
    },
    {
     "data": {
      "application/vnd.jupyter.widget-view+json": {
       "model_id": "4dd1602e38f84730a477f389f99f94bd",
       "version_major": 2,
       "version_minor": 0
      },
      "text/plain": [
       "HBox(children=(RadioButtons(description='kinematic variable:', index=1, layout=Layout(width='480px'), options=…"
      ]
     },
     "metadata": {},
     "output_type": "display_data"
    },
    {
     "data": {
      "application/vnd.jupyter.widget-view+json": {
       "model_id": "61154510975b4c7ca33da5a8a1c0c303",
       "version_major": 2,
       "version_minor": 0
      },
      "text/plain": [
       "HBox(children=(Text(value='100', description='kin. var. upper bound $(MeV/MeV^2)$', layout=Layout(width='480px…"
      ]
     },
     "metadata": {},
     "output_type": "display_data"
    },
    {
     "data": {
      "application/vnd.jupyter.widget-view+json": {
       "model_id": "075ee27fe0cc4f838e974b456d682534",
       "version_major": 2,
       "version_minor": 0
      },
      "text/plain": [
       "HBox(children=(RadioButtons(description='Wave function:', layout=Layout(width='480px'), options=(('AV18a', 'fi…"
      ]
     },
     "metadata": {},
     "output_type": "display_data"
    },
    {
     "data": {
      "application/vnd.jupyter.widget-view+json": {
       "model_id": "694e0c7323ed45bb9b0334d84920a53b",
       "version_major": 2,
       "version_minor": 0
      },
      "text/plain": [
       "Text(value='', description='Figure name:', layout=Layout(width='480px'), placeholder='Name of figure for savin…"
      ]
     },
     "metadata": {},
     "output_type": "display_data"
    },
    {
     "data": {
      "application/vnd.jupyter.widget-view+json": {
       "model_id": "80a27a0416c04ab893b8e8e6c13949e3",
       "version_major": 2,
       "version_minor": 0
      },
      "text/plain": [
       "HBox(children=(Button(description='Make D_d[vector] figure', icon='check', layout=Layout(width='initial'), sty…"
      ]
     },
     "metadata": {},
     "output_type": "display_data"
    },
    {
     "data": {
      "application/vnd.jupyter.widget-view+json": {
       "model_id": "013a12117ff54fe9955ef1af10de7f25",
       "version_major": 2,
       "version_minor": 0
      },
      "text/plain": [
       "Output()"
      ]
     },
     "metadata": {},
     "output_type": "display_data"
    }
   ],
   "source": [
    "out = Output()\n",
    "make_figure_D_d_zoom(out)\n",
    "out"
   ]
  },
  {
   "cell_type": "code",
   "execution_count": 5,
   "metadata": {},
   "outputs": [
    {
     "data": {
      "application/vnd.jupyter.widget-view+json": {
       "model_id": "5df077464e1447709864aad8777217fd",
       "version_major": 2,
       "version_minor": 0
      },
      "text/plain": [
       "HTMLMath(value='<center><b><h1>Spin asymmetry $A_{\\\\parallel d}^{(3)}$</h1></b></center>\\n    <hr>\\n    <figur…"
      ]
     },
     "metadata": {},
     "output_type": "display_data"
    },
    {
     "data": {
      "application/vnd.jupyter.widget-view+json": {
       "model_id": "b259b3c514f049bf8370439a73a2ea2d",
       "version_major": 2,
       "version_minor": 0
      },
      "text/plain": [
       "HBox(children=(Text(value='2e7', description='$L_{int}$ $(nb^{-1})$', layout=Layout(width='450px'), placeholde…"
      ]
     },
     "metadata": {},
     "output_type": "display_data"
    },
    {
     "data": {
      "application/vnd.jupyter.widget-view+json": {
       "model_id": "c28b5495b2904bcfa467abbb9afc24d4",
       "version_major": 2,
       "version_minor": 0
      },
      "text/plain": [
       "HBox(children=(Text(value='0.04', description='begin Bjorken x', layout=Layout(width='450px'), placeholder='Bj…"
      ]
     },
     "metadata": {},
     "output_type": "display_data"
    },
    {
     "data": {
      "application/vnd.jupyter.widget-view+json": {
       "model_id": "2f3861fe2d624d008932ca79ee322166",
       "version_major": 2,
       "version_minor": 0
      },
      "text/plain": [
       "HBox(children=(Text(value='13e6,20e6,30e6', description='begin $Q^2$$(MeV^2)$', layout=Layout(width='450px'), …"
      ]
     },
     "metadata": {},
     "output_type": "display_data"
    },
    {
     "data": {
      "application/vnd.jupyter.widget-view+json": {
       "model_id": "c97f7913c0ac499b92ad4752f562a7d2",
       "version_major": 2,
       "version_minor": 0
      },
      "text/plain": [
       "HBox(children=(Text(value='0.98', description='begin $\\\\alpha_p$', layout=Layout(width='450px'), placeholder='…"
      ]
     },
     "metadata": {},
     "output_type": "display_data"
    },
    {
     "data": {
      "application/vnd.jupyter.widget-view+json": {
       "model_id": "d6c5b9fc31534a669e8d93d1244bba9e",
       "version_major": 2,
       "version_minor": 0
      },
      "text/plain": [
       "HBox(children=(RadioButtons(description='kinematic variable:', layout=Layout(width='450px'), options=((\"t' (Me…"
      ]
     },
     "metadata": {},
     "output_type": "display_data"
    },
    {
     "data": {
      "application/vnd.jupyter.widget-view+json": {
       "model_id": "2cf264e3fdb14d52a7fb4c9496159a7a",
       "version_major": 2,
       "version_minor": 0
      },
      "text/plain": [
       "HBox(children=(Text(value='0', description='end kin. var. $(MeV/MeV^2)$', layout=Layout(width='450px'), placeh…"
      ]
     },
     "metadata": {},
     "output_type": "display_data"
    },
    {
     "data": {
      "application/vnd.jupyter.widget-view+json": {
       "model_id": "8b4e674b4f954e08aa2ef537a8c9a39f",
       "version_major": 2,
       "version_minor": 0
      },
      "text/plain": [
       "HBox(children=(Dropdown(description='Structure Function:', index=3, layout=Layout(width='450px'), options=(('C…"
      ]
     },
     "metadata": {},
     "output_type": "display_data"
    },
    {
     "data": {
      "application/vnd.jupyter.widget-view+json": {
       "model_id": "4d6987cd374e4ac59819b38160c95054",
       "version_major": 2,
       "version_minor": 0
      },
      "text/plain": [
       "HBox(children=(RadioButtons(description='x-axis variable:', layout=Layout(width='450px'), options=((\"t'(GeV^2)…"
      ]
     },
     "metadata": {},
     "output_type": "display_data"
    },
    {
     "data": {
      "application/vnd.jupyter.widget-view+json": {
       "model_id": "a8dfa69d46334bf6a6208decb04377ae",
       "version_major": 2,
       "version_minor": 0
      },
      "text/plain": [
       "HBox(children=(Text(value='5', description='MC iterations:', layout=Layout(width='450px'), placeholder='nitn',…"
      ]
     },
     "metadata": {},
     "output_type": "display_data"
    },
    {
     "data": {
      "application/vnd.jupyter.widget-view+json": {
       "model_id": "51744bc76cf543a585f848d6b90e083e",
       "version_major": 2,
       "version_minor": 0
      },
      "text/plain": [
       "HBox(children=(Button(description='Make A_d_3[vector] bin average figure', icon='check', layout=Layout(width='…"
      ]
     },
     "metadata": {},
     "output_type": "display_data"
    },
    {
     "data": {
      "application/vnd.jupyter.widget-view+json": {
       "model_id": "d21aede4872a466a95063f92a5a668ef",
       "version_major": 2,
       "version_minor": 0
      },
      "text/plain": [
       "Output()"
      ]
     },
     "metadata": {},
     "output_type": "display_data"
    }
   ],
   "source": [
    "out = Output()\n",
    "make_figure_A_d_3_vec(out)\n",
    "out"
   ]
  },
  {
   "cell_type": "code",
   "execution_count": 6,
   "metadata": {},
   "outputs": [
    {
     "data": {
      "application/vnd.jupyter.widget-view+json": {
       "model_id": "cdc79a70e0c54f3bb0c494debde9bee5",
       "version_major": 2,
       "version_minor": 0
      },
      "text/plain": [
       "HTMLMath(value='<center><b><h1>Spin asymmetry $A_{\\\\parallel d}^{(2)}$</h1></b></center>\\n    <hr>\\n    <figur…"
      ]
     },
     "metadata": {},
     "output_type": "display_data"
    },
    {
     "data": {
      "application/vnd.jupyter.widget-view+json": {
       "model_id": "8f77c2fcdf6c418987b24db4b8e7f493",
       "version_major": 2,
       "version_minor": 0
      },
      "text/plain": [
       "HBox(children=(Text(value='2e7', description='$L_{int}$ $(nb^{-1})$', layout=Layout(width='450px'), placeholde…"
      ]
     },
     "metadata": {},
     "output_type": "display_data"
    },
    {
     "data": {
      "application/vnd.jupyter.widget-view+json": {
       "model_id": "b23a03de2f7f437aa0b31b2c6909db6c",
       "version_major": 2,
       "version_minor": 0
      },
      "text/plain": [
       "HBox(children=(Text(value='0.04', description='begin Bjorken x', layout=Layout(width='450px'), placeholder='Bj…"
      ]
     },
     "metadata": {},
     "output_type": "display_data"
    },
    {
     "data": {
      "application/vnd.jupyter.widget-view+json": {
       "model_id": "c212cddedde7469a830010990ab12bf4",
       "version_major": 2,
       "version_minor": 0
      },
      "text/plain": [
       "HBox(children=(Text(value='13e6,20e6,30e6', description='begin $Q^2$$(MeV^2)$', layout=Layout(width='450px'), …"
      ]
     },
     "metadata": {},
     "output_type": "display_data"
    },
    {
     "data": {
      "application/vnd.jupyter.widget-view+json": {
       "model_id": "9b62796e0c5f44d7888876dbfadeb81a",
       "version_major": 2,
       "version_minor": 0
      },
      "text/plain": [
       "HBox(children=(Text(value='0.98', description='begin $\\\\alpha_p$', layout=Layout(width='450px'), placeholder='…"
      ]
     },
     "metadata": {},
     "output_type": "display_data"
    },
    {
     "data": {
      "application/vnd.jupyter.widget-view+json": {
       "model_id": "cb322f8e6a744cf6a6daf2d5aa2b130f",
       "version_major": 2,
       "version_minor": 0
      },
      "text/plain": [
       "HBox(children=(RadioButtons(description='kinematic variable:', layout=Layout(width='450px'), options=((\"t' (Me…"
      ]
     },
     "metadata": {},
     "output_type": "display_data"
    },
    {
     "data": {
      "application/vnd.jupyter.widget-view+json": {
       "model_id": "bc5b4ee646694ca6ab9ed214dadd9de8",
       "version_major": 2,
       "version_minor": 0
      },
      "text/plain": [
       "HBox(children=(Text(value='0', description='end kin. var. $(MeV/MeV^2)$', layout=Layout(width='450px'), placeh…"
      ]
     },
     "metadata": {},
     "output_type": "display_data"
    },
    {
     "data": {
      "application/vnd.jupyter.widget-view+json": {
       "model_id": "abdf658c7a0f4379955a7873913b035c",
       "version_major": 2,
       "version_minor": 0
      },
      "text/plain": [
       "HBox(children=(Dropdown(description='Structure Function:', index=3, layout=Layout(width='450px'), options=(('C…"
      ]
     },
     "metadata": {},
     "output_type": "display_data"
    },
    {
     "data": {
      "application/vnd.jupyter.widget-view+json": {
       "model_id": "edf942f085d7477a88e4c080e194b43f",
       "version_major": 2,
       "version_minor": 0
      },
      "text/plain": [
       "HBox(children=(RadioButtons(description='x-axis variable:', layout=Layout(width='450px'), options=((\"t'(GeV^2)…"
      ]
     },
     "metadata": {},
     "output_type": "display_data"
    },
    {
     "data": {
      "application/vnd.jupyter.widget-view+json": {
       "model_id": "da5eb686dbb242e29d5b9a802e0e5d08",
       "version_major": 2,
       "version_minor": 0
      },
      "text/plain": [
       "HBox(children=(Text(value='5', description='MC iterations:', layout=Layout(width='450px'), placeholder='nitn',…"
      ]
     },
     "metadata": {},
     "output_type": "display_data"
    },
    {
     "data": {
      "application/vnd.jupyter.widget-view+json": {
       "model_id": "3a3b3f59800243ec804ff83bc82acb75",
       "version_major": 2,
       "version_minor": 0
      },
      "text/plain": [
       "HBox(children=(Button(description='Make bin average figure', icon='check', layout=Layout(width='initial'), sty…"
      ]
     },
     "metadata": {},
     "output_type": "display_data"
    },
    {
     "data": {
      "application/vnd.jupyter.widget-view+json": {
       "model_id": "d2ab9f6fbc11437e86b647c75f242769",
       "version_major": 2,
       "version_minor": 0
      },
      "text/plain": [
       "Output()"
      ]
     },
     "metadata": {},
     "output_type": "display_data"
    }
   ],
   "source": [
    "out = Output()\n",
    "make_figure_A_d_2_vec(out)\n",
    "out"
   ]
  },
  {
   "cell_type": "code",
   "execution_count": 7,
   "metadata": {},
   "outputs": [
    {
     "data": {
      "application/vnd.jupyter.widget-view+json": {
       "model_id": "ef320b3d9dc14db8b60efe88df1f0591",
       "version_major": 2,
       "version_minor": 0
      },
      "text/plain": [
       "HTMLMath(value='<center><b><h1>Spin asymmetry $A_{\\\\parallel d}^{(3)}$</h1></b></center>\\n    <hr>\\n    <figur…"
      ]
     },
     "metadata": {},
     "output_type": "display_data"
    },
    {
     "data": {
      "application/vnd.jupyter.widget-view+json": {
       "model_id": "b0dd286df09f4d608a099c85b87e6d5f",
       "version_major": 2,
       "version_minor": 0
      },
      "text/plain": [
       "HBox(children=(Text(value='2e7', description='$L_{int}$ $(nb^{-1})$', layout=Layout(width='450px'), placeholde…"
      ]
     },
     "metadata": {},
     "output_type": "display_data"
    },
    {
     "data": {
      "application/vnd.jupyter.widget-view+json": {
       "model_id": "381268a8da224c708cb10bdfc8452837",
       "version_major": 2,
       "version_minor": 0
      },
      "text/plain": [
       "HBox(children=(Text(value='0.04', description='begin Bjorken x', layout=Layout(width='450px'), placeholder='Bj…"
      ]
     },
     "metadata": {},
     "output_type": "display_data"
    },
    {
     "data": {
      "application/vnd.jupyter.widget-view+json": {
       "model_id": "85fa95e8227d49f9a6107ebbbbae0ea3",
       "version_major": 2,
       "version_minor": 0
      },
      "text/plain": [
       "HBox(children=(Text(value='13e6,20e6,30e6', description='begin $Q^2$$(MeV^2)$', layout=Layout(width='450px'), …"
      ]
     },
     "metadata": {},
     "output_type": "display_data"
    },
    {
     "data": {
      "application/vnd.jupyter.widget-view+json": {
       "model_id": "39a659f1681b49fb89c4a7642c082298",
       "version_major": 2,
       "version_minor": 0
      },
      "text/plain": [
       "HBox(children=(Text(value='0.98', description='begin $\\\\alpha_p$', layout=Layout(width='450px'), placeholder='…"
      ]
     },
     "metadata": {},
     "output_type": "display_data"
    },
    {
     "data": {
      "application/vnd.jupyter.widget-view+json": {
       "model_id": "1bdf0fd5b935459bb80b61083c6687b3",
       "version_major": 2,
       "version_minor": 0
      },
      "text/plain": [
       "HBox(children=(RadioButtons(description='kinematic variable:', layout=Layout(width='450px'), options=((\"t' (Me…"
      ]
     },
     "metadata": {},
     "output_type": "display_data"
    },
    {
     "data": {
      "application/vnd.jupyter.widget-view+json": {
       "model_id": "fa0cb3aa398f4e9395d432655a0cc9a8",
       "version_major": 2,
       "version_minor": 0
      },
      "text/plain": [
       "HBox(children=(Text(value='0', description='end kin. var. $(MeV/MeV^2)$', layout=Layout(width='450px'), placeh…"
      ]
     },
     "metadata": {},
     "output_type": "display_data"
    },
    {
     "data": {
      "application/vnd.jupyter.widget-view+json": {
       "model_id": "9a94cd3e9b774a1c907e9d5d3fadd838",
       "version_major": 2,
       "version_minor": 0
      },
      "text/plain": [
       "HBox(children=(Dropdown(description='Structure Function:', index=3, layout=Layout(width='450px'), options=(('C…"
      ]
     },
     "metadata": {},
     "output_type": "display_data"
    },
    {
     "data": {
      "application/vnd.jupyter.widget-view+json": {
       "model_id": "aff76853aa37410894e76d8cf2b1d890",
       "version_major": 2,
       "version_minor": 0
      },
      "text/plain": [
       "HBox(children=(RadioButtons(description='x-axis variable:', layout=Layout(width='450px'), options=((\"t'(GeV^2)…"
      ]
     },
     "metadata": {},
     "output_type": "display_data"
    },
    {
     "data": {
      "application/vnd.jupyter.widget-view+json": {
       "model_id": "dedbf5f43b2e4b0293212ac84739fcf9",
       "version_major": 2,
       "version_minor": 0
      },
      "text/plain": [
       "HBox(children=(Text(value='5', description='MC iterations:', layout=Layout(width='450px'), placeholder='nitn',…"
      ]
     },
     "metadata": {},
     "output_type": "display_data"
    },
    {
     "data": {
      "application/vnd.jupyter.widget-view+json": {
       "model_id": "ec1f5c2512c9430f90c1e5cb79ec1e68",
       "version_major": 2,
       "version_minor": 0
      },
      "text/plain": [
       "HBox(children=(Button(description='Make A_d_3[tensor] bin average figure', icon='check', layout=Layout(width='…"
      ]
     },
     "metadata": {},
     "output_type": "display_data"
    },
    {
     "data": {
      "application/vnd.jupyter.widget-view+json": {
       "model_id": "31fe083b4cae46b3aaddb7a991647bf3",
       "version_major": 2,
       "version_minor": 0
      },
      "text/plain": [
       "Output()"
      ]
     },
     "metadata": {},
     "output_type": "display_data"
    }
   ],
   "source": [
    "out = Output()\n",
    "make_figure_A_d_3_ten(out)\n",
    "out"
   ]
  },
  {
   "cell_type": "code",
   "execution_count": 8,
   "metadata": {},
   "outputs": [
    {
     "data": {
      "application/vnd.jupyter.widget-view+json": {
       "model_id": "af2a2287a52f44f582d60cbc88456924",
       "version_major": 2,
       "version_minor": 0
      },
      "text/plain": [
       "HTMLMath(value='<center><b><h1>Spin asymmetry $A_{\\\\parallel d}^{(2)}$</h1></b></center>\\n    <hr>\\n    <figur…"
      ]
     },
     "metadata": {},
     "output_type": "display_data"
    },
    {
     "data": {
      "application/vnd.jupyter.widget-view+json": {
       "model_id": "1bc7a557943447f4991067ee9c16181e",
       "version_major": 2,
       "version_minor": 0
      },
      "text/plain": [
       "HBox(children=(Text(value='2e7', description='$L_{int}$ $(nb^{-1})$', layout=Layout(width='450px'), placeholde…"
      ]
     },
     "metadata": {},
     "output_type": "display_data"
    },
    {
     "data": {
      "application/vnd.jupyter.widget-view+json": {
       "model_id": "56aa59199510468c97d7bac891f19b10",
       "version_major": 2,
       "version_minor": 0
      },
      "text/plain": [
       "HBox(children=(Text(value='0.04', description='begin Bjorken x', layout=Layout(width='450px'), placeholder='Bj…"
      ]
     },
     "metadata": {},
     "output_type": "display_data"
    },
    {
     "data": {
      "application/vnd.jupyter.widget-view+json": {
       "model_id": "4edfbc254c544057882574899dcf6480",
       "version_major": 2,
       "version_minor": 0
      },
      "text/plain": [
       "HBox(children=(Text(value='13e6,20e6,30e6', description='begin $Q^2$$(MeV^2)$', layout=Layout(width='450px'), …"
      ]
     },
     "metadata": {},
     "output_type": "display_data"
    },
    {
     "data": {
      "application/vnd.jupyter.widget-view+json": {
       "model_id": "8d8df3c121264f8aa645ffaa33b7a69c",
       "version_major": 2,
       "version_minor": 0
      },
      "text/plain": [
       "HBox(children=(Text(value='0.98', description='begin $\\\\alpha_p$', layout=Layout(width='450px'), placeholder='…"
      ]
     },
     "metadata": {},
     "output_type": "display_data"
    },
    {
     "data": {
      "application/vnd.jupyter.widget-view+json": {
       "model_id": "10ff3bf183fb418d9d44bff665b1d6da",
       "version_major": 2,
       "version_minor": 0
      },
      "text/plain": [
       "HBox(children=(RadioButtons(description='kinematic variable:', layout=Layout(width='450px'), options=((\"t' (Me…"
      ]
     },
     "metadata": {},
     "output_type": "display_data"
    },
    {
     "data": {
      "application/vnd.jupyter.widget-view+json": {
       "model_id": "e495c892e9214af784cb9d53f74837ec",
       "version_major": 2,
       "version_minor": 0
      },
      "text/plain": [
       "HBox(children=(Text(value='0', description='end kin. var. $(MeV/MeV^2)$', layout=Layout(width='450px'), placeh…"
      ]
     },
     "metadata": {},
     "output_type": "display_data"
    },
    {
     "data": {
      "application/vnd.jupyter.widget-view+json": {
       "model_id": "c894df1b329b4fa085defa4b449df727",
       "version_major": 2,
       "version_minor": 0
      },
      "text/plain": [
       "HBox(children=(Dropdown(description='Structure Function:', index=3, layout=Layout(width='450px'), options=(('C…"
      ]
     },
     "metadata": {},
     "output_type": "display_data"
    },
    {
     "data": {
      "application/vnd.jupyter.widget-view+json": {
       "model_id": "780c09ea12e040bc8ebde70eb17d6c92",
       "version_major": 2,
       "version_minor": 0
      },
      "text/plain": [
       "HBox(children=(RadioButtons(description='x-axis variable:', layout=Layout(width='450px'), options=((\"t'(GeV^2)…"
      ]
     },
     "metadata": {},
     "output_type": "display_data"
    },
    {
     "data": {
      "application/vnd.jupyter.widget-view+json": {
       "model_id": "ff05c3bb214a4e97913e0f56b46c04b5",
       "version_major": 2,
       "version_minor": 0
      },
      "text/plain": [
       "HBox(children=(Text(value='5', description='MC iterations:', layout=Layout(width='450px'), placeholder='nitn',…"
      ]
     },
     "metadata": {},
     "output_type": "display_data"
    },
    {
     "data": {
      "application/vnd.jupyter.widget-view+json": {
       "model_id": "58b4d94a3ea8456b8ad718de82672aa9",
       "version_major": 2,
       "version_minor": 0
      },
      "text/plain": [
       "HBox(children=(Button(description='Make Ad2[tensor] bin average figure', icon='check', layout=Layout(width='in…"
      ]
     },
     "metadata": {},
     "output_type": "display_data"
    },
    {
     "data": {
      "application/vnd.jupyter.widget-view+json": {
       "model_id": "ac8b40617ab745be85548495e9443909",
       "version_major": 2,
       "version_minor": 0
      },
      "text/plain": [
       "Output()"
      ]
     },
     "metadata": {},
     "output_type": "display_data"
    }
   ],
   "source": [
    "out = Output()\n",
    "make_figure_A_d_2_ten(out)\n",
    "out"
   ]
  }
 ],
 "metadata": {
  "kernelspec": {
   "display_name": "Python 3",
   "language": "python",
   "name": "python3"
  },
  "language_info": {
   "codemirror_mode": {
    "name": "ipython",
    "version": 3
   },
   "file_extension": ".py",
   "mimetype": "text/x-python",
   "name": "python",
   "nbconvert_exporter": "python",
   "pygments_lexer": "ipython3",
   "version": "3.7.6"
  }
 },
 "nbformat": 4,
 "nbformat_minor": 4
}
